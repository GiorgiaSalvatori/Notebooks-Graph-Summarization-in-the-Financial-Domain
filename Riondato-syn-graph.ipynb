{
 "cells": [
  {
   "cell_type": "markdown",
   "id": "c043e3dd-957c-4955-8e96-3078073f2120",
   "metadata": {},
   "source": [
    "# Algorithm"
   ]
  },
  {
   "cell_type": "code",
   "execution_count": 1,
   "id": "4e2573f0-b25d-4780-9095-862e8c4672d7",
   "metadata": {},
   "outputs": [],
   "source": [
    "import csv\n",
    "from scipy import sparse\n",
    "from sklearn.cluster import KMeans\n",
    "import pandas as pd\n",
    "import networkx as nx\n",
    "import numpy as np\n",
    "import time\n",
    "from scipy.sparse import *\n",
    "from scipy import *\n",
    "from sklearn.model_selection import RandomizedSearchCV\n",
    "import itertools\n",
    "from tqdm import tqdm\n",
    "import sys\n",
    "import matplotlib.pyplot as plt\n",
    "from scipy.spatial.distance import hamming\n",
    "from numpy import linalg\n",
    "from matplotlib.pyplot import figure\n",
    "import random\n",
    "import scipy.special\n",
    "from networkx.algorithms.community import greedy_modularity_communities\n",
    "import networkx.algorithms.community as nx_comm"
   ]
  },
  {
   "cell_type": "markdown",
   "id": "8e1e3c3c-eb16-4c45-9f06-e4e121eec5de",
   "metadata": {},
   "source": [
    "<b>create_edge_list</b> : given the csv file of the synthetic transaction graph, return the edge list (csv format)."
   ]
  },
  {
   "cell_type": "code",
   "execution_count": 2,
   "id": "947b3ca5-65fd-411f-b481-7459773007b4",
   "metadata": {},
   "outputs": [],
   "source": [
    "# file = name of the .csv file that contains the synthetic transaction graph\n",
    "# name = name of the .csv file in output\n",
    "\n",
    "def create_edge_list(file, name):\n",
    "    #read csv file\n",
    "    trans = pd.read_csv(file, sep = \"|\", names = [\"id\", \"source\", \"target\", \"date\", \"time\", \"amount\", \"currency\"])\n",
    "\n",
    "    #convert string id nodes into integers id\n",
    "    trans['source'] = trans.groupby(['source']).ngroup()\n",
    "    trans['target'] = trans.groupby(['target']).ngroup()\n",
    "\n",
    "    #delete parallel edges\n",
    "    trans = trans.groupby([\"source\", \"target\"])[\"amount\"].sum().reset_index()\n",
    "    trans.to_csv(str(name)+'.csv', index=False, header=False)                        #create new csv file (edge_list) \n",
    "    return str(name)+'.csv' #file name"
   ]
  },
  {
   "cell_type": "markdown",
   "id": "74395d0d-97d4-4dc5-902b-8432916062e1",
   "metadata": {},
   "source": [
    "<b> adj_matrix </b> : given the edge list and the number of nodes, return the sparse adjacency matrix"
   ]
  },
  {
   "cell_type": "code",
   "execution_count": 3,
   "id": "d93c2a68-dd64-485c-8d25-00cdf6243c45",
   "metadata": {},
   "outputs": [],
   "source": [
    "def adj_matrix(edge_list, n):\n",
    "    \n",
    "    A = lil_matrix((n,n), dtype=float)\n",
    "    f = open(edge_list)\n",
    "    reader = csv.reader(f)\n",
    "    \n",
    "    for line in reader:\n",
    "        A[int(line[0]),int(line[1])] = round(float(line[2]),2)   # the amount is rounded of two digits after the point\n",
    "        \n",
    "    return A"
   ]
  },
  {
   "cell_type": "markdown",
   "id": "fa819807-74d4-4cf8-b944-b8250753aa1d",
   "metadata": {},
   "source": [
    "<b> kmeans </b>: run k-means from sklearn using k-means++ and Lloyd algorithm on the adjacency matrix"
   ]
  },
  {
   "cell_type": "code",
   "execution_count": 4,
   "id": "97283d25-296e-4192-aaee-3212b99cb369",
   "metadata": {},
   "outputs": [],
   "source": [
    "# k = number of clusters\n",
    "# t = maximum number of iterations\n",
    "# A = adjacency matrix\n",
    "\n",
    "def kmeans(k, t, A):\n",
    "\n",
    "    kmeans = KMeans(n_clusters=k, init = 'k-means++', algorithm='auto', max_iter=t).fit(A)\n",
    "    \n",
    "    # id_supernode : list of id_nodes in it\n",
    "    partition = {i: np.where(kmeans.labels_ == i)[0] for i in range(k)}\n",
    "    \n",
    "    #id_node : id_supernode it belongs to\n",
    "    supernode = {}\n",
    "    for k,v in partition.items():\n",
    "        for el in v:\n",
    "            supernode[el] = k\n",
    "  \n",
    "    return partition, supernode"
   ]
  },
  {
   "cell_type": "markdown",
   "id": "7d6dbcd2-5ba3-4b24-9da0-dcd3a7bd5dba",
   "metadata": {},
   "source": [
    "<b> lifted_density_matrix </b>: Given the density matrix (kxk), return the lifted density matrix (nxn) and Grass matrix (nxn)<br>"
   ]
  },
  {
   "attachments": {
    "a85b7eb8-d01f-49fd-8d81-f2c92e32b32f.png": {
     "image/png": "[encoded data removed]"
    }
   },
   "cell_type": "markdown",
   "id": "b8f96807-f50f-44c3-a718-29c911fa7f17",
   "metadata": {},
   "source": [
    "![image.png](attachment:a85b7eb8-d01f-49fd-8d81-f2c92e32b32f.png) <br>\n",
    "\n",
    "s(u) = supernode where u belongs to"
   ]
  },
  {
   "cell_type": "code",
   "execution_count": 5,
   "id": "902b0a10-8d2c-40d5-918d-756fe156b634",
   "metadata": {},
   "outputs": [],
   "source": [
    "def lifted_density_matrix(S, n, partition, supernode):\n",
    "    \n",
    "    t0 = time.time()\n",
    "    S_lifted = lil_matrix((n,n), dtype=float) \n",
    "    S_grass = lil_matrix((n,n), dtype=float) \n",
    "    for i in tqdm(range(n)):\n",
    "        for j in range(n):\n",
    "            s_i = supernode[i]\n",
    "            s_j = supernode[j]\n",
    "            \n",
    "            S_lifted[i,j] = S[s_i, s_j]\n",
    "            if s_i != s_j :\n",
    "                S_grass[i,j] = S_lifted[i,j] \n",
    "            elif i != j:\n",
    "                S_grass[i,j] = S_lifted[i,j] * len(partition[s_j])/(len(partition[s_j])-1)   \n",
    "            else:\n",
    "                S_grass[i,j] = 0\n",
    "    t1 = time.time()\n",
    "    print('Running time A_S_lifted + Grass: %f' %(t1-t0))\n",
    "    return S_lifted,S_grass "
   ]
  },
  {
   "cell_type": "markdown",
   "id": "e2e0dadb-4171-4dba-a179-773478c6db73",
   "metadata": {},
   "source": [
    "<b> density_matrix </b>: optimized version for computing the density matrix of the summary. It uses the edge list."
   ]
  },
  {
   "cell_type": "markdown",
   "id": "f094a135-7266-4bbc-af67-423e45f95de2",
   "metadata": {},
   "source": [
    "# $A_S(i,j) =  \\frac{\\sum_{i\\in V_i, j \\in V_j}{A_G(i,j)}}{|V_i||V_j|} $"
   ]
  },
  {
   "cell_type": "code",
   "execution_count": 6,
   "id": "e85b8c78-3f2b-431e-9935-7347d3758956",
   "metadata": {},
   "outputs": [],
   "source": [
    "def density_matrix(k, edge_list, partition, A, is_sym, n, supernode):\n",
    "    \n",
    "    t0 = time.time()\n",
    "    \n",
    "    S_prob = dok_matrix((k,k))   #density matrix without considering weights\n",
    "    S = dok_matrix((k,k))        #density matrix of the expected weights\n",
    "    \n",
    "    f = open(edge_list)\n",
    "    reader = csv.reader(f)\n",
    "    for el in reader:\n",
    "        el[0]=int(el[0])\n",
    "        el[1]=int(el[1])\n",
    "        S_prob[supernode[el[0]], supernode[el[1]]] += 1   \n",
    "        S[supernode[el[0]], supernode[el[1]]] +=  A[el[0],el[1]]\n",
    "        \n",
    "    for i in range(k): \n",
    "        for j in range(k): \n",
    "            den = len(partition[i])*len(partition[j])\n",
    "            S_prob[i,j] = S_prob[i,j]/den\n",
    "            S[i,j] = S[i,j]/den\n",
    "            \n",
    "    t1 = time.time()\n",
    "    print('Running time S (kxk): %f' %(t1-t0))\n",
    "    \n",
    "    return S_prob, S\n",
    "    #S_probs, S_probs_G = lifted_density_matrix(S_prob,n,partition,supernode)\n",
    "    #S, S_G = lifted_density_matrix(S,n,partition,supernode)\n",
    "    #return S_probs, S_probs_G, S, S_G"
   ]
  },
  {
   "cell_type": "markdown",
   "id": "58fe50bf-95df-4623-8893-67f7bd1a0ca8",
   "metadata": {},
   "source": [
    "<b> summ </b>: run the entire pipeline returning the density matrix of the summary (kxk)"
   ]
  },
  {
   "cell_type": "code",
   "execution_count": 10,
   "id": "367ef9f2-af08-46bc-821f-0568fcf1a05d",
   "metadata": {},
   "outputs": [],
   "source": [
    "def summ_A(file, name, n, k, t):\n",
    "    \n",
    "    t0 = time.time()\n",
    "    edge_list = create_edge_list(file, name)\n",
    "    t1 = time.time()\n",
    "    print('Running time edge_list: %f' %(t1-t0))\n",
    "    \n",
    "    t2 = time.time()\n",
    "    A = adj_matrix(edge_list, n)\n",
    "    t3  = time.time()\n",
    "    print('Running time adj_matrix: %f' %(t3-t2))\n",
    "\n",
    "\n",
    "    #partition given by the clustering\n",
    "    t6 = time.time()\n",
    "    partition, supernode = kmeans(k, t, A)\n",
    "    t7 = time.time()\n",
    "    print('Running time kmeans: %f' %(t7-t6))\n",
    "\n",
    "    \n",
    "    \n",
    "    S_probs, S = density_matrix(k, edge_list, partition, A, True, n, supernode)                        \n",
    "\n",
    "\n",
    "    return S_probs, S, partition, supernode"
   ]
  },
  {
   "cell_type": "markdown",
   "id": "216bb7cd-c820-462a-bea2-e620badef043",
   "metadata": {},
   "source": [
    "## Outputs"
   ]
  },
  {
   "cell_type": "code",
   "execution_count": 11,
   "id": "f476a474-a554-4d10-9a91-fb973f90124d",
   "metadata": {
    "tags": []
   },
   "outputs": [
    {
     "name": "stdout",
     "output_type": "stream",
     "text": [
      "Running time edge_list: 0.142841\n",
      "Running time adj_matrix: 0.048625\n",
      "Running time kmeans: 2.649664\n",
      "Running time S (kxk): 0.924533\n",
      "Running time 1k nodes: 3.766791\n"
     ]
    }
   ],
   "source": [
    "t0 = time.time()\n",
    "k = 100\n",
    "S_prob, S, partition, supernode = summ_A('1k_no_companies.csv', '1k', 1000, k, 20)\n",
    "#S_probs, S_probs_G, S, S_G, partition, supernode = summ_A('1k_no_companies.csv', '1k', 1000, k, 20)\n",
    "t1 = time.time()\n",
    "\n",
    "print('Running time 1k nodes: %f' %(t1-t0)) "
   ]
  },
  {
   "cell_type": "code",
   "execution_count": 14,
   "id": "b5b73e49-5b12-4e19-b5e6-d974530ea267",
   "metadata": {},
   "outputs": [
    {
     "data": {
      "text/plain": [
       "{100: 0,\n",
       " 165: 0,\n",
       " 377: 0,\n",
       " 0: 1,\n",
       " 1: 1,\n",
       " 2: 1,\n",
       " 4: 1,\n",
       " 5: 1,\n",
       " 6: 1,\n",
       " 7: 1,\n",
       " 8: 1,\n",
       " 9: 1,\n",
       " 10: 1,\n",
       " 11: 1,\n",
       " 12: 1,\n",
       " 13: 1,\n",
       " 14: 1,\n",
       " 15: 1,\n",
       " 16: 1,\n",
       " 18: 1,\n",
       " 19: 1,\n",
       " 20: 1,\n",
       " 21: 1,\n",
       " 22: 1,\n",
       " 23: 1,\n",
       " 25: 1,\n",
       " 27: 1,\n",
       " 28: 1,\n",
       " 29: 1,\n",
       " 30: 1,\n",
       " 31: 1,\n",
       " 32: 1,\n",
       " 33: 1,\n",
       " 34: 1,\n",
       " 35: 1,\n",
       " 36: 1,\n",
       " 37: 1,\n",
       " 38: 1,\n",
       " 41: 1,\n",
       " 42: 1,\n",
       " 43: 1,\n",
       " 44: 1,\n",
       " 45: 1,\n",
       " 46: 1,\n",
       " 47: 1,\n",
       " 48: 1,\n",
       " 49: 1,\n",
       " 50: 1,\n",
       " 51: 1,\n",
       " 52: 1,\n",
       " 53: 1,\n",
       " 54: 1,\n",
       " 55: 1,\n",
       " 56: 1,\n",
       " 57: 1,\n",
       " 58: 1,\n",
       " 60: 1,\n",
       " 63: 1,\n",
       " 64: 1,\n",
       " 66: 1,\n",
       " 67: 1,\n",
       " 68: 1,\n",
       " 69: 1,\n",
       " 70: 1,\n",
       " 71: 1,\n",
       " 72: 1,\n",
       " 73: 1,\n",
       " 74: 1,\n",
       " 75: 1,\n",
       " 76: 1,\n",
       " 78: 1,\n",
       " 79: 1,\n",
       " 81: 1,\n",
       " 82: 1,\n",
       " 83: 1,\n",
       " 84: 1,\n",
       " 85: 1,\n",
       " 87: 1,\n",
       " 88: 1,\n",
       " 89: 1,\n",
       " 90: 1,\n",
       " 91: 1,\n",
       " 92: 1,\n",
       " 93: 1,\n",
       " 94: 1,\n",
       " 95: 1,\n",
       " 96: 1,\n",
       " 97: 1,\n",
       " 98: 1,\n",
       " 99: 1,\n",
       " 101: 1,\n",
       " 102: 1,\n",
       " 103: 1,\n",
       " 104: 1,\n",
       " 105: 1,\n",
       " 106: 1,\n",
       " 107: 1,\n",
       " 108: 1,\n",
       " 109: 1,\n",
       " 110: 1,\n",
       " 111: 1,\n",
       " 112: 1,\n",
       " 113: 1,\n",
       " 114: 1,\n",
       " 115: 1,\n",
       " 116: 1,\n",
       " 117: 1,\n",
       " 118: 1,\n",
       " 119: 1,\n",
       " 120: 1,\n",
       " 121: 1,\n",
       " 123: 1,\n",
       " 128: 1,\n",
       " 129: 1,\n",
       " 130: 1,\n",
       " 131: 1,\n",
       " 132: 1,\n",
       " 133: 1,\n",
       " 134: 1,\n",
       " 135: 1,\n",
       " 136: 1,\n",
       " 137: 1,\n",
       " 138: 1,\n",
       " 139: 1,\n",
       " 140: 1,\n",
       " 141: 1,\n",
       " 142: 1,\n",
       " 143: 1,\n",
       " 144: 1,\n",
       " 145: 1,\n",
       " 148: 1,\n",
       " 149: 1,\n",
       " 150: 1,\n",
       " 152: 1,\n",
       " 153: 1,\n",
       " 154: 1,\n",
       " 155: 1,\n",
       " 157: 1,\n",
       " 158: 1,\n",
       " 159: 1,\n",
       " 160: 1,\n",
       " 162: 1,\n",
       " 163: 1,\n",
       " 164: 1,\n",
       " 166: 1,\n",
       " 167: 1,\n",
       " 168: 1,\n",
       " 169: 1,\n",
       " 170: 1,\n",
       " 171: 1,\n",
       " 172: 1,\n",
       " 173: 1,\n",
       " 174: 1,\n",
       " 175: 1,\n",
       " 177: 1,\n",
       " 178: 1,\n",
       " 179: 1,\n",
       " 180: 1,\n",
       " 181: 1,\n",
       " 182: 1,\n",
       " 184: 1,\n",
       " 185: 1,\n",
       " 186: 1,\n",
       " 187: 1,\n",
       " 188: 1,\n",
       " 189: 1,\n",
       " 190: 1,\n",
       " 191: 1,\n",
       " 192: 1,\n",
       " 193: 1,\n",
       " 194: 1,\n",
       " 195: 1,\n",
       " 196: 1,\n",
       " 197: 1,\n",
       " 198: 1,\n",
       " 203: 1,\n",
       " 205: 1,\n",
       " 206: 1,\n",
       " 207: 1,\n",
       " 208: 1,\n",
       " 210: 1,\n",
       " 211: 1,\n",
       " 213: 1,\n",
       " 214: 1,\n",
       " 215: 1,\n",
       " 216: 1,\n",
       " 218: 1,\n",
       " 219: 1,\n",
       " 221: 1,\n",
       " 222: 1,\n",
       " 223: 1,\n",
       " 224: 1,\n",
       " 225: 1,\n",
       " 226: 1,\n",
       " 227: 1,\n",
       " 228: 1,\n",
       " 229: 1,\n",
       " 230: 1,\n",
       " 231: 1,\n",
       " 232: 1,\n",
       " 233: 1,\n",
       " 234: 1,\n",
       " 235: 1,\n",
       " 236: 1,\n",
       " 237: 1,\n",
       " 239: 1,\n",
       " 240: 1,\n",
       " 241: 1,\n",
       " 242: 1,\n",
       " 243: 1,\n",
       " 244: 1,\n",
       " 245: 1,\n",
       " 246: 1,\n",
       " 247: 1,\n",
       " 248: 1,\n",
       " 249: 1,\n",
       " 250: 1,\n",
       " 251: 1,\n",
       " 252: 1,\n",
       " 253: 1,\n",
       " 254: 1,\n",
       " 256: 1,\n",
       " 257: 1,\n",
       " 258: 1,\n",
       " 260: 1,\n",
       " 261: 1,\n",
       " 262: 1,\n",
       " 263: 1,\n",
       " 264: 1,\n",
       " 265: 1,\n",
       " 267: 1,\n",
       " 268: 1,\n",
       " 269: 1,\n",
       " 270: 1,\n",
       " 271: 1,\n",
       " 272: 1,\n",
       " 273: 1,\n",
       " 274: 1,\n",
       " 275: 1,\n",
       " 276: 1,\n",
       " 277: 1,\n",
       " 278: 1,\n",
       " 279: 1,\n",
       " 280: 1,\n",
       " 281: 1,\n",
       " 282: 1,\n",
       " 283: 1,\n",
       " 284: 1,\n",
       " 285: 1,\n",
       " 286: 1,\n",
       " 287: 1,\n",
       " 290: 1,\n",
       " 292: 1,\n",
       " 293: 1,\n",
       " 295: 1,\n",
       " 296: 1,\n",
       " 297: 1,\n",
       " 298: 1,\n",
       " 299: 1,\n",
       " 300: 1,\n",
       " 301: 1,\n",
       " 302: 1,\n",
       " 303: 1,\n",
       " 307: 1,\n",
       " 309: 1,\n",
       " 310: 1,\n",
       " 311: 1,\n",
       " 312: 1,\n",
       " 313: 1,\n",
       " 314: 1,\n",
       " 315: 1,\n",
       " 316: 1,\n",
       " 317: 1,\n",
       " 318: 1,\n",
       " 319: 1,\n",
       " 320: 1,\n",
       " 321: 1,\n",
       " 322: 1,\n",
       " 323: 1,\n",
       " 324: 1,\n",
       " 325: 1,\n",
       " 326: 1,\n",
       " 328: 1,\n",
       " 329: 1,\n",
       " 330: 1,\n",
       " 331: 1,\n",
       " 332: 1,\n",
       " 333: 1,\n",
       " 334: 1,\n",
       " 337: 1,\n",
       " 338: 1,\n",
       " 339: 1,\n",
       " 340: 1,\n",
       " 342: 1,\n",
       " 343: 1,\n",
       " 344: 1,\n",
       " 345: 1,\n",
       " 346: 1,\n",
       " 347: 1,\n",
       " 348: 1,\n",
       " 350: 1,\n",
       " 351: 1,\n",
       " 352: 1,\n",
       " 353: 1,\n",
       " 355: 1,\n",
       " 356: 1,\n",
       " 357: 1,\n",
       " 358: 1,\n",
       " 359: 1,\n",
       " 360: 1,\n",
       " 361: 1,\n",
       " 363: 1,\n",
       " 364: 1,\n",
       " 365: 1,\n",
       " 366: 1,\n",
       " 367: 1,\n",
       " 368: 1,\n",
       " 369: 1,\n",
       " 370: 1,\n",
       " 371: 1,\n",
       " 373: 1,\n",
       " 374: 1,\n",
       " 376: 1,\n",
       " 378: 1,\n",
       " 379: 1,\n",
       " 380: 1,\n",
       " 381: 1,\n",
       " 382: 1,\n",
       " 384: 1,\n",
       " 385: 1,\n",
       " 388: 1,\n",
       " 390: 1,\n",
       " 391: 1,\n",
       " 393: 1,\n",
       " 394: 1,\n",
       " 395: 1,\n",
       " 396: 1,\n",
       " 397: 1,\n",
       " 398: 1,\n",
       " 399: 1,\n",
       " 400: 1,\n",
       " 402: 1,\n",
       " 403: 1,\n",
       " 404: 1,\n",
       " 405: 1,\n",
       " 406: 1,\n",
       " 407: 1,\n",
       " 408: 1,\n",
       " 409: 1,\n",
       " 410: 1,\n",
       " 411: 1,\n",
       " 412: 1,\n",
       " 413: 1,\n",
       " 414: 1,\n",
       " 415: 1,\n",
       " 416: 1,\n",
       " 418: 1,\n",
       " 419: 1,\n",
       " 420: 1,\n",
       " 424: 1,\n",
       " 426: 1,\n",
       " 427: 1,\n",
       " 429: 1,\n",
       " 430: 1,\n",
       " 431: 1,\n",
       " 432: 1,\n",
       " 433: 1,\n",
       " 434: 1,\n",
       " 435: 1,\n",
       " 436: 1,\n",
       " 437: 1,\n",
       " 438: 1,\n",
       " 439: 1,\n",
       " 440: 1,\n",
       " 441: 1,\n",
       " 442: 1,\n",
       " 443: 1,\n",
       " 444: 1,\n",
       " 445: 1,\n",
       " 446: 1,\n",
       " 447: 1,\n",
       " 448: 1,\n",
       " 449: 1,\n",
       " 450: 1,\n",
       " 451: 1,\n",
       " 452: 1,\n",
       " 453: 1,\n",
       " 454: 1,\n",
       " 455: 1,\n",
       " 456: 1,\n",
       " 457: 1,\n",
       " 459: 1,\n",
       " 460: 1,\n",
       " 461: 1,\n",
       " 462: 1,\n",
       " 464: 1,\n",
       " 465: 1,\n",
       " 467: 1,\n",
       " 468: 1,\n",
       " 469: 1,\n",
       " 470: 1,\n",
       " 472: 1,\n",
       " 473: 1,\n",
       " 474: 1,\n",
       " 475: 1,\n",
       " 476: 1,\n",
       " 477: 1,\n",
       " 478: 1,\n",
       " 479: 1,\n",
       " 480: 1,\n",
       " 481: 1,\n",
       " 482: 1,\n",
       " 483: 1,\n",
       " 484: 1,\n",
       " 485: 1,\n",
       " 486: 1,\n",
       " 487: 1,\n",
       " 488: 1,\n",
       " 490: 1,\n",
       " 491: 1,\n",
       " 492: 1,\n",
       " 493: 1,\n",
       " 494: 1,\n",
       " 495: 1,\n",
       " 496: 1,\n",
       " 497: 1,\n",
       " 498: 1,\n",
       " 499: 1,\n",
       " 500: 1,\n",
       " 501: 1,\n",
       " 502: 1,\n",
       " 503: 1,\n",
       " 505: 1,\n",
       " 506: 1,\n",
       " 507: 1,\n",
       " 508: 1,\n",
       " 509: 1,\n",
       " 510: 1,\n",
       " 512: 1,\n",
       " 514: 1,\n",
       " 515: 1,\n",
       " 516: 1,\n",
       " 517: 1,\n",
       " 518: 1,\n",
       " 519: 1,\n",
       " 520: 1,\n",
       " 521: 1,\n",
       " 522: 1,\n",
       " 524: 1,\n",
       " 525: 1,\n",
       " 526: 1,\n",
       " 527: 1,\n",
       " 528: 1,\n",
       " 529: 1,\n",
       " 530: 1,\n",
       " 532: 1,\n",
       " 533: 1,\n",
       " 534: 1,\n",
       " 535: 1,\n",
       " 536: 1,\n",
       " 537: 1,\n",
       " 538: 1,\n",
       " 539: 1,\n",
       " 540: 1,\n",
       " 541: 1,\n",
       " 542: 1,\n",
       " 544: 1,\n",
       " 545: 1,\n",
       " 546: 1,\n",
       " 547: 1,\n",
       " 548: 1,\n",
       " 549: 1,\n",
       " 550: 1,\n",
       " 551: 1,\n",
       " 552: 1,\n",
       " 554: 1,\n",
       " 555: 1,\n",
       " 556: 1,\n",
       " 557: 1,\n",
       " 558: 1,\n",
       " 559: 1,\n",
       " 561: 1,\n",
       " 562: 1,\n",
       " 563: 1,\n",
       " 564: 1,\n",
       " 565: 1,\n",
       " 566: 1,\n",
       " 567: 1,\n",
       " 568: 1,\n",
       " 569: 1,\n",
       " 570: 1,\n",
       " 571: 1,\n",
       " 572: 1,\n",
       " 573: 1,\n",
       " 574: 1,\n",
       " 575: 1,\n",
       " 577: 1,\n",
       " 578: 1,\n",
       " 579: 1,\n",
       " 580: 1,\n",
       " 581: 1,\n",
       " 582: 1,\n",
       " 583: 1,\n",
       " 584: 1,\n",
       " 585: 1,\n",
       " 586: 1,\n",
       " 587: 1,\n",
       " 588: 1,\n",
       " 589: 1,\n",
       " 590: 1,\n",
       " 591: 1,\n",
       " 592: 1,\n",
       " 593: 1,\n",
       " 594: 1,\n",
       " 595: 1,\n",
       " 597: 1,\n",
       " 598: 1,\n",
       " 599: 1,\n",
       " 601: 1,\n",
       " 602: 1,\n",
       " 603: 1,\n",
       " 604: 1,\n",
       " 605: 1,\n",
       " 606: 1,\n",
       " 607: 1,\n",
       " 608: 1,\n",
       " 609: 1,\n",
       " 610: 1,\n",
       " 612: 1,\n",
       " 615: 1,\n",
       " 616: 1,\n",
       " 618: 1,\n",
       " 619: 1,\n",
       " 620: 1,\n",
       " 621: 1,\n",
       " 622: 1,\n",
       " 623: 1,\n",
       " 624: 1,\n",
       " 625: 1,\n",
       " 626: 1,\n",
       " 627: 1,\n",
       " 629: 1,\n",
       " 630: 1,\n",
       " 631: 1,\n",
       " 632: 1,\n",
       " 633: 1,\n",
       " 634: 1,\n",
       " 635: 1,\n",
       " 636: 1,\n",
       " 637: 1,\n",
       " 638: 1,\n",
       " 639: 1,\n",
       " 640: 1,\n",
       " 641: 1,\n",
       " 642: 1,\n",
       " 645: 1,\n",
       " 646: 1,\n",
       " 648: 1,\n",
       " 649: 1,\n",
       " 650: 1,\n",
       " 652: 1,\n",
       " 653: 1,\n",
       " 656: 1,\n",
       " 658: 1,\n",
       " 659: 1,\n",
       " 660: 1,\n",
       " 662: 1,\n",
       " 663: 1,\n",
       " 666: 1,\n",
       " 667: 1,\n",
       " 668: 1,\n",
       " 670: 1,\n",
       " 671: 1,\n",
       " 672: 1,\n",
       " 673: 1,\n",
       " 674: 1,\n",
       " 675: 1,\n",
       " 676: 1,\n",
       " 678: 1,\n",
       " 679: 1,\n",
       " 680: 1,\n",
       " 682: 1,\n",
       " 683: 1,\n",
       " 685: 1,\n",
       " 686: 1,\n",
       " 687: 1,\n",
       " 688: 1,\n",
       " 689: 1,\n",
       " 691: 1,\n",
       " 692: 1,\n",
       " 693: 1,\n",
       " 694: 1,\n",
       " 695: 1,\n",
       " 696: 1,\n",
       " 697: 1,\n",
       " 698: 1,\n",
       " 699: 1,\n",
       " 700: 1,\n",
       " 701: 1,\n",
       " 702: 1,\n",
       " 703: 1,\n",
       " 704: 1,\n",
       " 705: 1,\n",
       " 706: 1,\n",
       " 707: 1,\n",
       " 709: 1,\n",
       " 710: 1,\n",
       " 711: 1,\n",
       " 712: 1,\n",
       " 713: 1,\n",
       " 714: 1,\n",
       " 715: 1,\n",
       " 716: 1,\n",
       " 717: 1,\n",
       " 718: 1,\n",
       " 719: 1,\n",
       " 720: 1,\n",
       " 721: 1,\n",
       " 722: 1,\n",
       " 723: 1,\n",
       " 724: 1,\n",
       " 725: 1,\n",
       " 726: 1,\n",
       " 728: 1,\n",
       " 729: 1,\n",
       " 730: 1,\n",
       " 731: 1,\n",
       " 732: 1,\n",
       " 733: 1,\n",
       " 734: 1,\n",
       " 735: 1,\n",
       " 736: 1,\n",
       " 737: 1,\n",
       " 738: 1,\n",
       " 739: 1,\n",
       " 740: 1,\n",
       " 741: 1,\n",
       " 742: 1,\n",
       " 743: 1,\n",
       " 745: 1,\n",
       " 746: 1,\n",
       " 747: 1,\n",
       " 748: 1,\n",
       " 749: 1,\n",
       " 750: 1,\n",
       " 751: 1,\n",
       " 752: 1,\n",
       " 753: 1,\n",
       " 754: 1,\n",
       " 755: 1,\n",
       " 756: 1,\n",
       " 757: 1,\n",
       " 758: 1,\n",
       " 759: 1,\n",
       " 760: 1,\n",
       " 761: 1,\n",
       " 762: 1,\n",
       " 763: 1,\n",
       " 764: 1,\n",
       " 765: 1,\n",
       " 766: 1,\n",
       " 768: 1,\n",
       " 769: 1,\n",
       " 770: 1,\n",
       " 772: 1,\n",
       " 773: 1,\n",
       " 774: 1,\n",
       " 775: 1,\n",
       " 776: 1,\n",
       " 777: 1,\n",
       " 778: 1,\n",
       " 779: 1,\n",
       " 780: 1,\n",
       " 783: 1,\n",
       " 785: 1,\n",
       " 786: 1,\n",
       " 787: 1,\n",
       " 788: 1,\n",
       " 789: 1,\n",
       " 790: 1,\n",
       " 791: 1,\n",
       " 792: 1,\n",
       " 793: 1,\n",
       " 794: 1,\n",
       " 795: 1,\n",
       " 796: 1,\n",
       " 798: 1,\n",
       " 799: 1,\n",
       " 800: 1,\n",
       " 801: 1,\n",
       " 802: 1,\n",
       " 803: 1,\n",
       " 804: 1,\n",
       " 805: 1,\n",
       " 806: 1,\n",
       " 807: 1,\n",
       " 808: 1,\n",
       " 809: 1,\n",
       " 810: 1,\n",
       " 811: 1,\n",
       " 812: 1,\n",
       " 813: 1,\n",
       " 814: 1,\n",
       " 815: 1,\n",
       " 816: 1,\n",
       " 817: 1,\n",
       " 818: 1,\n",
       " 819: 1,\n",
       " 820: 1,\n",
       " 821: 1,\n",
       " 822: 1,\n",
       " 823: 1,\n",
       " 825: 1,\n",
       " 826: 1,\n",
       " 828: 1,\n",
       " 829: 1,\n",
       " 830: 1,\n",
       " 831: 1,\n",
       " 832: 1,\n",
       " 833: 1,\n",
       " 835: 1,\n",
       " 836: 1,\n",
       " 837: 1,\n",
       " 838: 1,\n",
       " 839: 1,\n",
       " 840: 1,\n",
       " 841: 1,\n",
       " 842: 1,\n",
       " 843: 1,\n",
       " 844: 1,\n",
       " 845: 1,\n",
       " 846: 1,\n",
       " 848: 1,\n",
       " 849: 1,\n",
       " 850: 1,\n",
       " 851: 1,\n",
       " 852: 1,\n",
       " 853: 1,\n",
       " 854: 1,\n",
       " 855: 1,\n",
       " 857: 1,\n",
       " 860: 1,\n",
       " 861: 1,\n",
       " 862: 1,\n",
       " 863: 1,\n",
       " 864: 1,\n",
       " 865: 1,\n",
       " 866: 1,\n",
       " 867: 1,\n",
       " 869: 1,\n",
       " 870: 1,\n",
       " 873: 1,\n",
       " 874: 1,\n",
       " 875: 1,\n",
       " 876: 1,\n",
       " 877: 1,\n",
       " 878: 1,\n",
       " 879: 1,\n",
       " 880: 1,\n",
       " 881: 1,\n",
       " 883: 1,\n",
       " 884: 1,\n",
       " 885: 1,\n",
       " 886: 1,\n",
       " 889: 1,\n",
       " 890: 1,\n",
       " 891: 1,\n",
       " 892: 1,\n",
       " 893: 1,\n",
       " 894: 1,\n",
       " 896: 1,\n",
       " 897: 1,\n",
       " 899: 1,\n",
       " 900: 1,\n",
       " 901: 1,\n",
       " 902: 1,\n",
       " 903: 1,\n",
       " 904: 1,\n",
       " 909: 1,\n",
       " 910: 1,\n",
       " 911: 1,\n",
       " 912: 1,\n",
       " 913: 1,\n",
       " 914: 1,\n",
       " 915: 1,\n",
       " 917: 1,\n",
       " 918: 1,\n",
       " 919: 1,\n",
       " 920: 1,\n",
       " 922: 1,\n",
       " 923: 1,\n",
       " 924: 1,\n",
       " 925: 1,\n",
       " 926: 1,\n",
       " 927: 1,\n",
       " 928: 1,\n",
       " 929: 1,\n",
       " 930: 1,\n",
       " 931: 1,\n",
       " 932: 1,\n",
       " 933: 1,\n",
       " 934: 1,\n",
       " 935: 1,\n",
       " 936: 1,\n",
       " 937: 1,\n",
       " 938: 1,\n",
       " 939: 1,\n",
       " 940: 1,\n",
       " 942: 1,\n",
       " 944: 1,\n",
       " 945: 1,\n",
       " 946: 1,\n",
       " 947: 1,\n",
       " 948: 1,\n",
       " 950: 1,\n",
       " 951: 1,\n",
       " 952: 1,\n",
       " 953: 1,\n",
       " 954: 1,\n",
       " 955: 1,\n",
       " 956: 1,\n",
       " 957: 1,\n",
       " 958: 1,\n",
       " 960: 1,\n",
       " 961: 1,\n",
       " 962: 1,\n",
       " 963: 1,\n",
       " 964: 1,\n",
       " 965: 1,\n",
       " 966: 1,\n",
       " 967: 1,\n",
       " 968: 1,\n",
       " 969: 1,\n",
       " 970: 1,\n",
       " 971: 1,\n",
       " 972: 1,\n",
       " 973: 1,\n",
       " 974: 1,\n",
       " 975: 1,\n",
       " 976: 1,\n",
       " 977: 1,\n",
       " 978: 1,\n",
       " 979: 1,\n",
       " 980: 1,\n",
       " 981: 1,\n",
       " 982: 1,\n",
       " 983: 1,\n",
       " 984: 1,\n",
       " 985: 1,\n",
       " 986: 1,\n",
       " 988: 1,\n",
       " 989: 1,\n",
       " 990: 1,\n",
       " 991: 1,\n",
       " 993: 1,\n",
       " 994: 1,\n",
       " 995: 1,\n",
       " 996: 1,\n",
       " 998: 1,\n",
       " 999: 1,\n",
       " 887: 2,\n",
       " 543: 3,\n",
       " 341: 4,\n",
       " 209: 5,\n",
       " 305: 6,\n",
       " 856: 6,\n",
       " 176: 7,\n",
       " 80: 8,\n",
       " 888: 8,\n",
       " 199: 9,\n",
       " 200: 10,\n",
       " 647: 11,\n",
       " 423: 12,\n",
       " 17: 13,\n",
       " 156: 13,\n",
       " 389: 13,\n",
       " 654: 14,\n",
       " 827: 14,\n",
       " 125: 15,\n",
       " 39: 16,\n",
       " 664: 16,\n",
       " 690: 17,\n",
       " 151: 18,\n",
       " 661: 19,\n",
       " 858: 20,\n",
       " 871: 20,\n",
       " 655: 21,\n",
       " 294: 22,\n",
       " 617: 22,\n",
       " 916: 23,\n",
       " 392: 24,\n",
       " 428: 24,\n",
       " 782: 24,\n",
       " 349: 25,\n",
       " 77: 26,\n",
       " 628: 27,\n",
       " 3: 28,\n",
       " 907: 29,\n",
       " 767: 30,\n",
       " 463: 31,\n",
       " 65: 32,\n",
       " 421: 33,\n",
       " 531: 34,\n",
       " 681: 34,\n",
       " 146: 35,\n",
       " 372: 35,\n",
       " 383: 35,\n",
       " 614: 36,\n",
       " 386: 37,\n",
       " 669: 37,\n",
       " 895: 38,\n",
       " 308: 39,\n",
       " 859: 40,\n",
       " 26: 41,\n",
       " 657: 41,\n",
       " 781: 42,\n",
       " 921: 42,\n",
       " 255: 43,\n",
       " 651: 44,\n",
       " 882: 45,\n",
       " 489: 46,\n",
       " 401: 47,\n",
       " 613: 48,\n",
       " 161: 49,\n",
       " 24: 50,\n",
       " 471: 51,\n",
       " 124: 52,\n",
       " 40: 53,\n",
       " 553: 54,\n",
       " 327: 55,\n",
       " 417: 55,\n",
       " 905: 55,\n",
       " 665: 56,\n",
       " 59: 57,\n",
       " 511: 57,\n",
       " 644: 57,\n",
       " 466: 58,\n",
       " 201: 59,\n",
       " 523: 60,\n",
       " 560: 60,\n",
       " 868: 60,\n",
       " 238: 61,\n",
       " 771: 61,\n",
       " 943: 61,\n",
       " 335: 62,\n",
       " 122: 63,\n",
       " 217: 64,\n",
       " 708: 64,\n",
       " 304: 65,\n",
       " 684: 65,\n",
       " 834: 65,\n",
       " 997: 65,\n",
       " 61: 66,\n",
       " 202: 66,\n",
       " 727: 66,\n",
       " 127: 67,\n",
       " 797: 68,\n",
       " 336: 69,\n",
       " 824: 69,\n",
       " 600: 70,\n",
       " 504: 71,\n",
       " 422: 72,\n",
       " 306: 73,\n",
       " 596: 73,\n",
       " 949: 73,\n",
       " 220: 74,\n",
       " 425: 75,\n",
       " 375: 76,\n",
       " 387: 77,\n",
       " 677: 78,\n",
       " 908: 79,\n",
       " 992: 79,\n",
       " 611: 80,\n",
       " 147: 81,\n",
       " 126: 82,\n",
       " 744: 82,\n",
       " 288: 83,\n",
       " 941: 84,\n",
       " 959: 85,\n",
       " 289: 86,\n",
       " 362: 86,\n",
       " 643: 86,\n",
       " 86: 87,\n",
       " 784: 87,\n",
       " 204: 88,\n",
       " 847: 89,\n",
       " 354: 90,\n",
       " 212: 91,\n",
       " 266: 92,\n",
       " 183: 93,\n",
       " 513: 93,\n",
       " 987: 93,\n",
       " 898: 94,\n",
       " 872: 95,\n",
       " 62: 96,\n",
       " 259: 96,\n",
       " 291: 96,\n",
       " 458: 97,\n",
       " 576: 98,\n",
       " 906: 99}"
      ]
     },
     "execution_count": 14,
     "metadata": {},
     "output_type": "execute_result"
    }
   ],
   "source": [
    "supernode"
   ]
  },
  {
   "cell_type": "code",
   "execution_count": 24,
   "id": "a3491a60-66e5-46e3-8832-a64ec9095a5a",
   "metadata": {
    "tags": []
   },
   "outputs": [
    {
     "name": "stdout",
     "output_type": "stream",
     "text": [
      "Running time edge_list: 1.325089\n",
      "Running time adj_matrix: 0.519290\n",
      "Running time kmeans: 31.139348\n",
      "Running time S (kxk): 15.490088\n",
      "Total running time: 48.479753\n"
     ]
    }
   ],
   "source": [
    "t0 = time.time()\n",
    "k = 500\n",
    "S_prob, S, partition, supernode = summ_A('10k_no_companies.csv', '10k', 10000, k, 20)\n",
    "t1 = time.time()\n",
    "\n",
    "print('Total running time: %f' %(t1-t0)) "
   ]
  },
  {
   "cell_type": "code",
   "execution_count": 8,
   "id": "5a9e1991-f192-4cf3-8b28-b0e17331a94a",
   "metadata": {
    "tags": []
   },
   "outputs": [
    {
     "name": "stdout",
     "output_type": "stream",
     "text": [
      "Running time edge_list: 1.149290\n",
      "Running time adj_matrix: 0.235073\n"
     ]
    },
    {
     "name": "stderr",
     "output_type": "stream",
     "text": [
      "/opt/conda/lib/python3.7/site-packages/ipykernel_launcher.py:7: ConvergenceWarning: Number of distinct clusters (1) found smaller than n_clusters (500). Possibly due to duplicate points in X.\n",
      "  import sys\n"
     ]
    },
    {
     "name": "stdout",
     "output_type": "stream",
     "text": [
      "Running time kmeans: 69.057533\n"
     ]
    },
    {
     "name": "stderr",
     "output_type": "stream",
     "text": [
      "/opt/conda/lib/python3.7/site-packages/ipykernel_launcher.py:19: RuntimeWarning: invalid value encountered in double_scalars\n",
      "/opt/conda/lib/python3.7/site-packages/ipykernel_launcher.py:20: RuntimeWarning: invalid value encountered in double_scalars\n"
     ]
    },
    {
     "name": "stdout",
     "output_type": "stream",
     "text": [
      "Running time S (kxk): 86.887614\n",
      "Total running time: 157.339406\n"
     ]
    }
   ],
   "source": [
    "t0 = time.time()\n",
    "k = 500\n",
    "S_prob, S, partition, supernode = summ_A('100k.csv', '100k.csv', 100000, k, 20)\n",
    "t1 = time.time()\n",
    "\n",
    "print('Total running time: %f' %(t1-t0)) "
   ]
  },
  {
   "cell_type": "markdown",
   "id": "65da4698-ae17-4dda-afdb-91c956f16f21",
   "metadata": {
    "jp-MarkdownHeadingCollapsed": true,
    "tags": []
   },
   "source": [
    "## Thresholding"
   ]
  },
  {
   "cell_type": "code",
   "execution_count": 8,
   "id": "f574a42d-85b5-436b-bf79-42725fe7590a",
   "metadata": {},
   "outputs": [],
   "source": [
    "A = adj_matrix('edge_list_1k.csv', 1000)"
   ]
  },
  {
   "cell_type": "code",
   "execution_count": 100,
   "id": "421796a6-b2f5-49ca-9c02-35bb5aa091d3",
   "metadata": {},
   "outputs": [],
   "source": [
    "# discretize \n",
    "# A -> 0 remains 0, values different from zeros became 1\n",
    "#A_th = lil_matrix((1000,1000), dtype=float) \n",
    "#A_th[A>0] = 1\n",
    "\n",
    "\n",
    "th = 0.75\n",
    "# thresholding for number of SuperEdges\n",
    "S_probs_th = lil_matrix((1000,1000), dtype=float) \n",
    "S_probs_th[S_probs<th] = 0\n",
    "S_probs_th[S_probs>=th] = 1\n",
    "\n",
    "# thresholding for l2 error\n",
    "S_th = S\n",
    "S_th[S_probs<th] = 0"
   ]
  },
  {
   "cell_type": "code",
   "execution_count": 101,
   "id": "bf697c4e-1976-4576-8265-3c87fbd365fe",
   "metadata": {},
   "outputs": [
    {
     "name": "stdout",
     "output_type": "stream",
     "text": [
      "Error l2: with A_S 22447551.554736502\n"
     ]
    }
   ],
   "source": [
    "#l2 error\n",
    "print('Error l2: with A_S', linalg.norm(A.A-S_th.A))"
   ]
  },
  {
   "cell_type": "code",
   "execution_count": 102,
   "id": "29993f29-6787-4da0-ac98-68aa981a135c",
   "metadata": {},
   "outputs": [
    {
     "name": "stdout",
     "output_type": "stream",
     "text": [
      "Edges in the Grass lifted summary matrix 857\n"
     ]
    }
   ],
   "source": [
    "#Number of SuperEdges\n",
    "print('Edges in the Grass lifted summary matrix',np.count_nonzero(S_probs_th.A))"
   ]
  },
  {
   "cell_type": "markdown",
   "id": "4c67bc45-fff9-4023-aae4-c90b790a6c2f",
   "metadata": {
    "jp-MarkdownHeadingCollapsed": true,
    "tags": []
   },
   "source": [
    "## Cluster densities"
   ]
  },
  {
   "cell_type": "code",
   "execution_count": 51,
   "id": "ce033939-8a61-4c20-9e35-2a8759d32751",
   "metadata": {},
   "outputs": [],
   "source": [
    "# cluster : size\n",
    "cluster={}\n",
    "for k,v in partition.items():\n",
    "    cluster[k] = len(v)\n",
    "s = np.array([key for key, val in cluster.items() for _ in range(val)])"
   ]
  },
  {
   "cell_type": "code",
   "execution_count": 52,
   "id": "41f166d3-e171-4ee5-bfab-9035ef6f25ea",
   "metadata": {},
   "outputs": [],
   "source": [
    "n = 1000"
   ]
  },
  {
   "cell_type": "code",
   "execution_count": 53,
   "id": "c7d0f6cb-b1fb-47c8-8642-5a445fccae79",
   "metadata": {},
   "outputs": [
    {
     "name": "stdout",
     "output_type": "stream",
     "text": [
      "median 1.0\n",
      "mean 2.857142857142857\n",
      "variance 880.185306122449\n",
      "max 557\n",
      "max percentage 0.557\n"
     ]
    }
   ],
   "source": [
    "print('median', np.median(list(cluster.values())))\n",
    "print('mean', np.mean(list(cluster.values())))\n",
    "print('variance', np.var(list(cluster.values())))\n",
    "print('max', np.max(list(cluster.values())))\n",
    "print('max percentage', np.max(list(cluster.values()))/n)"
   ]
  },
  {
   "cell_type": "code",
   "execution_count": 54,
   "id": "fd990fe7-9ce1-485a-8bc1-ac58a1e27510",
   "metadata": {},
   "outputs": [
    {
     "data": {
      "image/png": "[encoded data removed]",
      "text/plain": [
       "<Figure size 1008x504 with 1 Axes>"
      ]
     },
     "metadata": {},
     "output_type": "display_data"
    }
   ],
   "source": [
    "#cluster distribution\n",
    "\n",
    "plt.figure(figsize=(14,7)) # Make it 14x7 inch\n",
    "plt.style.use('seaborn-whitegrid') # nice and clean grid\n",
    "plt.hist(s, bins=k, facecolor = 'yellowgreen', edgecolor='olivedrab',  linewidth=0.5, log=True, label = 'syn-trans-1')\n",
    "plt.title('syn-trans-1') \n",
    "plt.xlabel('supernodes') \n",
    "plt.ylabel('densities') \n",
    "plt.legend(loc=\"upper right\")\n",
    "plt.show()"
   ]
  },
  {
   "cell_type": "markdown",
   "id": "b85ef4d1-1fbf-4c9c-9962-23aaacaf539d",
   "metadata": {
    "tags": []
   },
   "source": [
    "## nx queries\n"
   ]
  },
  {
   "cell_type": "code",
   "execution_count": 5,
   "id": "230a9164-8d19-4aaa-b596-6847298b7b44",
   "metadata": {},
   "outputs": [],
   "source": [
    "# build adj matrix for 1k nodes (input matrix)\n",
    "\n",
    "#edge_list = create_edge_list('1k_no_companies.csv', 'edge_list_1k')\n",
    "A = adj_matrix('edge_list_1k.csv', 1000)"
   ]
  },
  {
   "cell_type": "code",
   "execution_count": 6,
   "id": "a92db5f1-2a76-4eac-bcb1-4efd8d9f8d5f",
   "metadata": {},
   "outputs": [],
   "source": [
    "#input\n",
    "G = nx.from_numpy_matrix(np.matrix(A.A), create_using=nx.DiGraph)"
   ]
  },
  {
   "cell_type": "code",
   "execution_count": 23,
   "id": "9a65575b-a760-4459-b734-7f2c65f00dff",
   "metadata": {
    "collapsed": true,
    "jupyter": {
     "outputs_hidden": true
    },
    "tags": []
   },
   "outputs": [
    {
     "ename": "NameError",
     "evalue": "name 'S' is not defined",
     "output_type": "error",
     "traceback": [
      "\u001b[0;31m---------------------------------------------------------------------------\u001b[0m",
      "\u001b[0;31mNameError\u001b[0m                                 Traceback (most recent call last)",
      "\u001b[0;32m/tmp/ipykernel_8077/1883166817.py\u001b[0m in \u001b[0;36m<module>\u001b[0;34m\u001b[0m\n\u001b[1;32m      1\u001b[0m \u001b[0;31m#summary\u001b[0m\u001b[0;34m\u001b[0m\u001b[0;34m\u001b[0m\u001b[0;34m\u001b[0m\u001b[0m\n\u001b[0;32m----> 2\u001b[0;31m \u001b[0ms\u001b[0m \u001b[0;34m=\u001b[0m \u001b[0mnx\u001b[0m\u001b[0;34m.\u001b[0m\u001b[0mfrom_numpy_matrix\u001b[0m\u001b[0;34m(\u001b[0m\u001b[0mnp\u001b[0m\u001b[0;34m.\u001b[0m\u001b[0mmatrix\u001b[0m\u001b[0;34m(\u001b[0m\u001b[0mS\u001b[0m\u001b[0;34m.\u001b[0m\u001b[0mA\u001b[0m\u001b[0;34m)\u001b[0m\u001b[0;34m,\u001b[0m \u001b[0mcreate_using\u001b[0m\u001b[0;34m=\u001b[0m\u001b[0mnx\u001b[0m\u001b[0;34m.\u001b[0m\u001b[0mDiGraph\u001b[0m\u001b[0;34m)\u001b[0m\u001b[0;34m\u001b[0m\u001b[0;34m\u001b[0m\u001b[0m\n\u001b[0m",
      "\u001b[0;31mNameError\u001b[0m: name 'S' is not defined"
     ]
    }
   ],
   "source": [
    "#summary\n",
    "s = nx.from_numpy_matrix(np.matrix(S.A), create_using=nx.DiGraph)"
   ]
  },
  {
   "cell_type": "code",
   "execution_count": 42,
   "id": "85bc5709-461f-469b-9155-47db7fd68ca7",
   "metadata": {},
   "outputs": [
    {
     "name": "stdout",
     "output_type": "stream",
     "text": [
      "Error l2: with A_S 23003735.36661652\n"
     ]
    }
   ],
   "source": [
    "print('Error l2: with A_S', linalg.norm(A.A-S.A))"
   ]
  },
  {
   "cell_type": "raw",
   "id": "86b0c337-16a7-491f-87b2-a0364767353a",
   "metadata": {},
   "source": []
  },
  {
   "cell_type": "code",
   "execution_count": 14,
   "id": "c3c13c02-0c25-4d67-b74e-54a1ddf051fb",
   "metadata": {},
   "outputs": [
    {
     "name": "stdout",
     "output_type": "stream",
     "text": [
      "4\n",
      "0.71\n"
     ]
    }
   ],
   "source": [
    "#diameter\n",
    "t0 = time.time()\n",
    "print(nx.diameter(s))\n",
    "t1 = time.time()\n",
    "print(round(t1-t0,2))"
   ]
  },
  {
   "cell_type": "code",
   "execution_count": 20,
   "id": "9c89f426-0b5d-407b-9014-895eebcd32c5",
   "metadata": {},
   "outputs": [
    {
     "name": "stdout",
     "output_type": "stream",
     "text": [
      "0.19906030847138098\n",
      "0.12\n"
     ]
    }
   ],
   "source": [
    "#Avg cluster coefficient\n",
    "t0 = time.time()\n",
    "print(nx.average_clustering(s))\n",
    "t1 = time.time()\n",
    "print(round(t1-t0,2))"
   ]
  },
  {
   "cell_type": "code",
   "execution_count": 23,
   "id": "a38c7295-b8f7-4e5a-b5ba-2dbe0e2392d9",
   "metadata": {},
   "outputs": [
    {
     "name": "stdout",
     "output_type": "stream",
     "text": [
      "50.71\n"
     ]
    }
   ],
   "source": [
    "# minimum cut\n",
    "t0 = time.time()\n",
    "nx.minimum_node_cut(s)\n",
    "t1 = time.time()\n",
    "print(round(t1-t0,2))"
   ]
  },
  {
   "cell_type": "code",
   "execution_count": 40,
   "id": "99880935-7266-4a9e-bf25-8731985c6f41",
   "metadata": {},
   "outputs": [
    {
     "name": "stderr",
     "output_type": "stream",
     "text": [
      "/opt/conda/lib/python3.7/site-packages/ipykernel_launcher.py:1: DeprecationWarning: scipy.mean is deprecated and will be removed in SciPy 2.0.0, use numpy.mean instead\n",
      "  \"\"\"Entry point for launching an IPython kernel.\n"
     ]
    },
    {
     "data": {
      "text/plain": [
       "829.2967921200001"
      ]
     },
     "execution_count": 40,
     "metadata": {},
     "output_type": "execute_result"
    }
   ],
   "source": [
    "mean(S.A)"
   ]
  },
  {
   "cell_type": "markdown",
   "id": "1efefe4d-e17b-4bd5-b24e-bd225154907b",
   "metadata": {
    "jp-MarkdownHeadingCollapsed": true,
    "tags": []
   },
   "source": [
    "## Weights comparison"
   ]
  },
  {
   "cell_type": "code",
   "execution_count": 191,
   "id": "c00b900f-23ad-4602-8583-1f7cb7e41088",
   "metadata": {},
   "outputs": [],
   "source": [
    "def get_edge_attributes(G, name):\n",
    "    edges = G.edges(data=True)\n",
    "    return [ x[-1]['weight'] for x in edges]"
   ]
  },
  {
   "cell_type": "code",
   "execution_count": 208,
   "id": "9b9fbdd7-5d47-4a4d-ac69-047c03659d51",
   "metadata": {},
   "outputs": [],
   "source": [
    "#w_G = get_edge_attributes(G, 'weight')\n",
    "w_S = get_edge_attributes(s, 'weight')"
   ]
  },
  {
   "cell_type": "code",
   "execution_count": 209,
   "id": "0e9786ec-c97e-41fc-bc7e-5b5b7cf822e2",
   "metadata": {},
   "outputs": [
    {
     "data": {
      "image/png": "[encoded data removed]",
      "text/plain": [
       "<Figure size 648x504 with 1 Axes>"
      ]
     },
     "metadata": {
      "needs_background": "light"
     },
     "output_type": "display_data"
    }
   ],
   "source": [
    "colors = ['b','g']\n",
    "#plots the histogram\n",
    "fig, ax1 = plt.subplots(figsize=(9,7))\n",
    "ax1.hist([w_S,w_G],color=colors, bins=20, log=True, label = ['summary','input'])\n",
    "#ax1.set_xlim(0,2.5e6)\n",
    "plt.title(\"syn-trans-1\")\n",
    "plt.xlabel(\"Weights\", fontsize=16)  \n",
    "plt.ylabel(\"Frequencies\", fontsize=16)\n",
    "plt.legend(loc=\"upper right\")\n",
    "plt.xticks(fontsize=14)  \n",
    "plt.yticks(fontsize=14)\n",
    "plt.show()"
   ]
  },
  {
   "cell_type": "markdown",
   "id": "e4d8f84c-db8b-4352-af63-1cd4183d816d",
   "metadata": {
    "jp-MarkdownHeadingCollapsed": true,
    "tags": []
   },
   "source": [
    "## Degree queries"
   ]
  },
  {
   "cell_type": "code",
   "execution_count": 122,
   "id": "a345da7e-4d06-44d7-9f44-b453e43f0308",
   "metadata": {},
   "outputs": [],
   "source": [
    "#save the errors for any node\n",
    "\n",
    "s_out_tot = []\n",
    "s_in_tot = []"
   ]
  },
  {
   "cell_type": "code",
   "execution_count": 19,
   "id": "77872949-89da-424f-aff2-329eff7021db",
   "metadata": {
    "collapsed": true,
    "jupyter": {
     "outputs_hidden": true
    },
    "tags": []
   },
   "outputs": [
    {
     "ename": "NameError",
     "evalue": "name 'S_prob_G' is not defined",
     "output_type": "error",
     "traceback": [
      "\u001b[0;31m---------------------------------------------------------------------------\u001b[0m",
      "\u001b[0;31mNameError\u001b[0m                                 Traceback (most recent call last)",
      "\u001b[0;32m/tmp/ipykernel_26557/50572720.py\u001b[0m in \u001b[0;36m<module>\u001b[0;34m\u001b[0m\n\u001b[1;32m      7\u001b[0m \u001b[0mprobs_G\u001b[0m \u001b[0;34m=\u001b[0m \u001b[0mlil_matrix\u001b[0m\u001b[0;34m(\u001b[0m\u001b[0;34m(\u001b[0m\u001b[0;36m1000\u001b[0m\u001b[0;34m,\u001b[0m\u001b[0;36m1000\u001b[0m\u001b[0;34m)\u001b[0m\u001b[0;34m,\u001b[0m \u001b[0mdtype\u001b[0m\u001b[0;34m=\u001b[0m\u001b[0mfloat\u001b[0m\u001b[0;34m)\u001b[0m\u001b[0;34m\u001b[0m\u001b[0;34m\u001b[0m\u001b[0m\n\u001b[1;32m      8\u001b[0m \u001b[0mprobs_G\u001b[0m\u001b[0;34m[\u001b[0m\u001b[0mS_probs_G\u001b[0m\u001b[0;34m<\u001b[0m\u001b[0;36m0.01\u001b[0m\u001b[0;34m]\u001b[0m\u001b[0;34m=\u001b[0m \u001b[0;36m0\u001b[0m\u001b[0;34m\u001b[0m\u001b[0;34m\u001b[0m\u001b[0m\n\u001b[0;32m----> 9\u001b[0;31m \u001b[0mprobs_G\u001b[0m\u001b[0;34m[\u001b[0m\u001b[0mS_prob_G\u001b[0m\u001b[0;34m>=\u001b[0m\u001b[0;36m0.01\u001b[0m\u001b[0;34m]\u001b[0m \u001b[0;34m=\u001b[0m \u001b[0;36m1\u001b[0m\u001b[0;34m\u001b[0m\u001b[0;34m\u001b[0m\u001b[0m\n\u001b[0m",
      "\u001b[0;31mNameError\u001b[0m: name 'S_prob_G' is not defined"
     ]
    }
   ],
   "source": [
    "# discretize \n",
    "# A -> 0 remains 0, values different from zeros became 1\n",
    "#A[A>0] = 1\n",
    "# grass -> negative values became 0, positive values 1 \n",
    "\n",
    "#Th = 0.01, 0.02, 0.05, 0.1, 0.25, 0.5, 0.75\n",
    "probs_G = lil_matrix((1000,1000), dtype=float) \n",
    "probs_G[S_probs_G<0.01]= 0\n",
    "probs_G[S_prob_G>=0.01] = 1"
   ]
  },
  {
   "cell_type": "code",
   "execution_count": 141,
   "id": "e08b8c89-98d7-46cc-82a6-9b3370036b80",
   "metadata": {},
   "outputs": [],
   "source": [
    "#discretize for weighted degree\n",
    "S_G_dq = S_G \n",
    "S_G_dq[S_probs_G<0.75]= 0"
   ]
  },
  {
   "cell_type": "code",
   "execution_count": 142,
   "id": "77fca834-d997-4252-b9f5-19012a957926",
   "metadata": {},
   "outputs": [
    {
     "name": "stderr",
     "output_type": "stream",
     "text": [
      "100%|██████████| 1000/1000 [00:00<00:00, 2370.01it/s]"
     ]
    },
    {
     "name": "stdout",
     "output_type": "stream",
     "text": [
      "Average error in adjacency queries 0.8990208462508021\n"
     ]
    },
    {
     "name": "stderr",
     "output_type": "stream",
     "text": [
      "\n"
     ]
    }
   ],
   "source": [
    "#out degree queries percentage\n",
    "s_out = []\n",
    "\n",
    "for i in tqdm(range(1000)):\n",
    "    sumA = np.sum(A[i,:])\n",
    "    #sumS = np.sum(probs_G[i,:])\n",
    "    sumS = np.sum(S_G_dq[i,:])\n",
    "    s_out.append((abs(sumA - sumS))/sumA )\n",
    "    \n",
    "s_out_tot.append(round(np.mean(s_out),2))\n",
    "print(\"Average error in adjacency queries\", np.mean(s_out))"
   ]
  },
  {
   "cell_type": "code",
   "execution_count": 143,
   "id": "8fe8bc4a-b362-4b36-b554-a871c086595a",
   "metadata": {},
   "outputs": [
    {
     "name": "stderr",
     "output_type": "stream",
     "text": [
      "100%|██████████| 1000/1000 [00:02<00:00, 344.60it/s]"
     ]
    },
    {
     "name": "stdout",
     "output_type": "stream",
     "text": [
      "Average error in adjacency queries 0.8599457684608149\n"
     ]
    },
    {
     "name": "stderr",
     "output_type": "stream",
     "text": [
      "\n"
     ]
    }
   ],
   "source": [
    "#in degree queries percentage\n",
    "s_in = []\n",
    "\n",
    "for i in tqdm(range(1000)):\n",
    "    sumA = np.sum(A[:,i])\n",
    "    #sumS = np.sum(probs_G[:,i])\n",
    "    sumS = np.sum(S_G_dq[:,i])\n",
    "    s_in.append((abs(sumA - sumS))/sumA )\n",
    "\n",
    "s_in_tot.append(round(np.mean(s_in),2))\n",
    "print(\"Average error in adjacency queries\", np.mean(s_in))"
   ]
  },
  {
   "cell_type": "code",
   "execution_count": 145,
   "id": "83071471-1391-4765-917d-4c94ecc5162d",
   "metadata": {},
   "outputs": [
    {
     "data": {
      "image/png": "[encoded data removed]",
      "text/plain": [
       "<Figure size 720x360 with 1 Axes>"
      ]
     },
     "metadata": {
      "needs_background": "light"
     },
     "output_type": "display_data"
    }
   ],
   "source": [
    "labels = [0.01, 0.02, 0.05, 0.1, 0.25, 0.5, 0.75]\n",
    "\n",
    "x = np.arange(len(labels))  # the label locations\n",
    "width = 0.35  # the width of the bars\n",
    "\n",
    "fig, ax = plt.subplots()\n",
    "fig.set_figheight(5)\n",
    "fig.set_figwidth(10)\n",
    "rects1 = ax.bar(x - width/2, s_out_tot , width, label='Out Degree Error')\n",
    "rects2 = ax.bar(x + width/2, s_in_tot, width, label='In Degree Error')\n",
    "\n",
    "# Add some text for labels, title and custom x-axis tick labels, etc.\n",
    "#ax.set_ylim(0, 1.3)\n",
    "ax.set_xlabel('Threshold')\n",
    "ax.set_ylabel('Relative Error')\n",
    "ax.set_title(\"syn-trans-1\")\n",
    "ax.set_xticks(x, labels)\n",
    "ax.legend()\n",
    "\n",
    "ax.bar_label(rects1, padding=3)\n",
    "ax.bar_label(rects2, padding=3)\n",
    "\n",
    "fig.tight_layout()\n",
    "\n",
    "plt.show()"
   ]
  },
  {
   "cell_type": "markdown",
   "id": "37c38c95-b66a-44ef-b08b-16b1dfc312b3",
   "metadata": {
    "jp-MarkdownHeadingCollapsed": true,
    "tags": []
   },
   "source": [
    "## Triangles"
   ]
  },
  {
   "cell_type": "code",
   "execution_count": 69,
   "id": "a94ac34d-90a1-4740-9bad-c4cd155502bb",
   "metadata": {},
   "outputs": [
    {
     "name": "stdout",
     "output_type": "stream",
     "text": [
      "1568.0\n",
      "Number of triangles:  40\n"
     ]
    }
   ],
   "source": [
    "#first idea\n",
    "t = np.sum(list(nx.triangles(s).values())) / 3\n",
    "print(t)\n",
    "t = 0\n",
    "for i in range(k):\n",
    "    if S_prob[i,i]!=0:\n",
    "        t += scipy.special.binom(len(partition[i]),3)*S_prob[i,i]**3\n",
    "print(\"Number of triangles: \", round(t))"
   ]
  },
  {
   "cell_type": "code",
   "execution_count": 70,
   "id": "65e94492-0273-46db-a312-319df100c70e",
   "metadata": {
    "tags": []
   },
   "outputs": [
    {
     "name": "stdout",
     "output_type": "stream",
     "text": [
      "Number of triangles:  61\n"
     ]
    }
   ],
   "source": [
    "#second idea\n",
    "t = 0  #sum(list(nx.triangles(s).values())) / 3\n",
    "all_cliques= nx.enumerate_all_cliques(s)\n",
    "t_list = [x for x in all_cliques if len(x)==3]\n",
    "for idx,el in enumerate(t_list):\n",
    "    edge1 = max(S_prob[el[0], el[1]], S_prob[el[1],el[0]]) #S_prob[el[0],el[1]] if S_prob[el[0],el[1]]!=0 else S_prob[el[1],el[0]]\n",
    "    edge2 = max(S_prob[el[1], el[2]], S_prob[el[2],el[1]]) #S_prob[el[1],el[2]] if S_prob[el[1],el[2]]!=0 else S_prob[el[2],el[1]]\n",
    "    edge3 = max(S_prob[el[0], el[2]], S_prob[el[2],el[0]]) #S_prob[el[2],el[0]] if S_prob[el[2],el[0]]!=0 else S_prob[el[0],el[2]]\n",
    "    prob = edge1*edge2*edge3\n",
    "    if prob==0:\n",
    "        print('probs 0')\n",
    "    t += len(partition[el[0]])*len(partition[el[1]])*len(partition[el[2]])/3*prob\n",
    "print(\"Number of triangles: \", round(t))"
   ]
  },
  {
   "cell_type": "code",
   "execution_count": 34,
   "id": "e4cfb04b-5115-413e-ba93-a3a32351efab",
   "metadata": {
    "tags": []
   },
   "outputs": [
    {
     "name": "stderr",
     "output_type": "stream",
     "text": [
      "100%|██████████| 100/100 [00:13<00:00,  7.40it/s]"
     ]
    },
    {
     "name": "stdout",
     "output_type": "stream",
     "text": [
      "Expected Number of triangles:  382\n",
      "running time 13.51\n"
     ]
    },
    {
     "name": "stderr",
     "output_type": "stream",
     "text": [
      "\n"
     ]
    }
   ],
   "source": [
    "#Riondato\n",
    "t0 = time.time()\n",
    "t = 0\n",
    "for i in tqdm(range(k)):\n",
    "    n_i = len(partition[i])\n",
    "    pi_ii = S_prob[i,i] * n_i / (n_i - 1) if n_i > 1 else 0\n",
    "    t += scipy.special.binom(n_i,3) * pi_ii**3\n",
    "    for j in range(i+1, k):\n",
    "        pi_ij = (S_prob[i,j] + S_prob[j,i]) - (S_prob[i,j] * S_prob[j,i])\n",
    "        n_j = len(partition[j])\n",
    "        pi_jj = S_prob[j,j] * n_j / (n_j-1) if n_j > 1 else 0\n",
    "        t += pi_ij**2*(scipy.special.binom(n_i,2)*n_j*pi_ii + scipy.special.binom(n_j,2)*n_i*pi_jj)\n",
    "        for w in range(j+1,k):\n",
    "            n_w = len(partition[w])\n",
    "            pi_jw = (S_prob[j,w] + S_prob[j,w]) - (S_prob[j,w] * S_prob[j,w])\n",
    "            pi_wi = (S_prob[w,i] + S_prob[i,w]) - (S_prob[w,i] * S_prob[i,w])\n",
    "            t += n_i*n_j*n_w*pi_ij*pi_jw*pi_wi\n",
    "print(\"Expected Number of triangles: \", round(t))\n",
    "\n",
    "t1 = time.time()\n",
    "print('running time', round(t1-t0,2))"
   ]
  },
  {
   "cell_type": "markdown",
   "id": "8d89610f-616f-403e-88c4-e164dbf4be10",
   "metadata": {
    "tags": []
   },
   "source": [
    "## Centrality"
   ]
  },
  {
   "cell_type": "code",
   "execution_count": 42,
   "id": "c134db3e-d58b-4428-b9b0-c32c2ee5359c",
   "metadata": {},
   "outputs": [],
   "source": [
    "def precision(k, l1, l2):\n",
    "    l3 = [value for value in l1 if value in l2]\n",
    "    intersect = len(l3)\n",
    "    return intersect/k"
   ]
  },
  {
   "cell_type": "code",
   "execution_count": 52,
   "id": "9058b3bc-a74e-4f9b-93f8-bbf626ffdc2a",
   "metadata": {},
   "outputs": [],
   "source": [
    "#summary\n",
    "s = nx.from_numpy_matrix(np.matrix(S.A), create_using=nx.DiGraph)"
   ]
  },
  {
   "cell_type": "code",
   "execution_count": 53,
   "id": "047b4d60-f927-4dbc-a931-c4fbdc1d1ac9",
   "metadata": {
    "tags": []
   },
   "outputs": [],
   "source": [
    "prG = nx.pagerank(G)\n",
    "prS = nx.pagerank(s)"
   ]
  },
  {
   "cell_type": "code",
   "execution_count": 54,
   "id": "fa55e6e7-0cd9-469f-93da-effbce698d34",
   "metadata": {},
   "outputs": [],
   "source": [
    "#normalization for pagerank\n",
    "for i in range(k):\n",
    "    prS[i] = prS[i]/len(partition[i])"
   ]
  },
  {
   "cell_type": "code",
   "execution_count": 60,
   "id": "39f1edcc-bbf4-4f04-be0e-d81b4985a10f",
   "metadata": {},
   "outputs": [],
   "source": [
    "prG = nx.degree_centrality(G)\n",
    "prS = nx.degree_centrality(s)"
   ]
  },
  {
   "cell_type": "code",
   "execution_count": 61,
   "id": "9c2500f8-915e-492c-8132-7d6e1b2d019c",
   "metadata": {
    "tags": []
   },
   "outputs": [],
   "source": [
    "#normalization for the degree centrality\n",
    "for i in range(k):\n",
    "    if S_prob[i,i] !=0:\n",
    "        prS[i] = prS[i] + (len(partition[i]) - 1)#*S_prob[i,i]"
   ]
  },
  {
   "cell_type": "code",
   "execution_count": 62,
   "id": "f2bdb5d1-d01c-4af5-8cfe-eee18a51d78b",
   "metadata": {
    "tags": []
   },
   "outputs": [],
   "source": [
    "#assign the centrality of the supernode to the nodes inside it\n",
    "prSG = {}\n",
    "for k,v in prS.items():\n",
    "    for el in partition[k]:\n",
    "        prSG[el] = v"
   ]
  },
  {
   "cell_type": "code",
   "execution_count": 65,
   "id": "b1895e29-1de5-44ab-95b1-bcdb89c8f664",
   "metadata": {
    "tags": []
   },
   "outputs": [],
   "source": [
    "th = sorted(list(prSG.values()), reverse=True)[99]"
   ]
  },
  {
   "cell_type": "code",
   "execution_count": 66,
   "id": "c81cf869-4376-42cc-8439-2d8a27da7392",
   "metadata": {
    "tags": []
   },
   "outputs": [
    {
     "name": "stdout",
     "output_type": "stream",
     "text": [
      "556\n"
     ]
    }
   ],
   "source": [
    "for idx,el in enumerate(sorted(list(prSG.values()), reverse=True)):\n",
    "    if el<th:\n",
    "        print(idx)\n",
    "        k2 = idx\n",
    "        break"
   ]
  },
  {
   "cell_type": "code",
   "execution_count": 20,
   "id": "901e7f5d-6dc2-4cdc-96ec-6e8db6f77813",
   "metadata": {},
   "outputs": [
    {
     "name": "stdout",
     "output_type": "stream",
     "text": [
      "Precision: 0.04\n",
      "Recall: 0.04\n",
      "f1 measure 0.04\n"
     ]
    }
   ],
   "source": [
    "k1 = 100\n",
    "l1 = sorted(prG, key=prG.get, reverse=True)[:k1]\n",
    "l2 = sorted(prSG, key=prSG.get, reverse=True)[:k2]\n",
    "\n",
    "# measures\n",
    "r = precision(k1,l1,l2)\n",
    "p = precision(k2,l1,l2)\n",
    "print('Precision:', p)\n",
    "print('Recall:', r)\n",
    "print('f1 measure', 2*p*r/(p+r))"
   ]
  },
  {
   "cell_type": "code",
   "execution_count": 37,
   "id": "80d6f456-5155-4376-9a4a-bd1ffd749e41",
   "metadata": {},
   "outputs": [
    {
     "name": "stdout",
     "output_type": "stream",
     "text": [
      "precision 0.155\n",
      "recall 0.31\n"
     ]
    }
   ],
   "source": [
    "k1 = 100\n",
    "l1 = sorted(prG, key=prG.get, reverse=True)[:k1]\n",
    "l2 = sorted(prSG, key=prSG.get, reverse=True)[:k2]\n",
    "#l3 = [partition[s].tolist() for s in l2]\n",
    "#l4 = list(itertools.chain(*l3))[:100]\n",
    "print('precision',precision(k2, l1, l2))\n",
    "print('recall',precision(k1, l1, l2))"
   ]
  },
  {
   "cell_type": "markdown",
   "id": "0ea7b4dd-bdf5-4fd8-a0d0-e83d7ee3f99a",
   "metadata": {
    "jp-MarkdownHeadingCollapsed": true,
    "tags": []
   },
   "source": [
    "## Core decomposition"
   ]
  },
  {
   "cell_type": "code",
   "execution_count": null,
   "id": "3b4cc229-293e-4d49-880c-5d9337b58d67",
   "metadata": {},
   "outputs": [],
   "source": [
    "coreG = nx.core_number(G)"
   ]
  },
  {
   "cell_type": "code",
   "execution_count": null,
   "id": "40e71d5d-dce2-4fe6-b28e-fe72a19cb53f",
   "metadata": {},
   "outputs": [],
   "source": [
    "s.remove_edges_from(nx.selfloop_edges(s))\n",
    "coreS = nx.core_number(s)"
   ]
  },
  {
   "cell_type": "code",
   "execution_count": null,
   "id": "fb6439b9-69b8-4467-ad0c-de8197d9c1ef",
   "metadata": {},
   "outputs": [],
   "source": [
    "coreS_dict = {}\n",
    "for k, v in coreS.items():\n",
    "    for node in partition[k]:\n",
    "        coreS_dict[node] = v "
   ]
  },
  {
   "cell_type": "code",
   "execution_count": null,
   "id": "eca2d0ef-ba6f-4244-aa15-301c7e366a6b",
   "metadata": {},
   "outputs": [
    {
     "name": "stdout",
     "output_type": "stream",
     "text": [
      "Nodes with the largest core number in the input: 8946\n",
      "Nodes with the largest core number in the input: 628\n",
      "Precision: 0.8789808917197452\n",
      "Recall: 0.06170355466130114\n",
      "f1 measure 0.11531230415709212\n"
     ]
    }
   ],
   "source": [
    "#inner most core\n",
    "\n",
    "l1 = [k for k in coreG.keys() if coreG[k]==max(coreG.values())]\n",
    "l2 = [k for k in coreS.keys() if coreS[k]==max(coreS.values())]\n",
    "\n",
    "print('Nodes with the largest core number in the input:', len(l1))\n",
    "print('Nodes with the largest core number in the input:', len(l2))\n",
    "\n",
    "# measures\n",
    "r = precision(len(l1),l1,l2)\n",
    "p = precision(len(l2),l1,l2)\n",
    "print('Precision:', p)\n",
    "print('Recall:', r)\n",
    "print('f1 measure', 2*p*r/(p+r))"
   ]
  },
  {
   "cell_type": "code",
   "execution_count": null,
   "id": "78f5ee27-fd16-48e9-b30c-6cae8600130a",
   "metadata": {},
   "outputs": [
    {
     "name": "stderr",
     "output_type": "stream",
     "text": [
      "/opt/conda/lib/python3.7/site-packages/ipykernel_launcher.py:3: DeprecationWarning: scipy.unique is deprecated and will be removed in SciPy 2.0.0, use numpy.unique instead\n",
      "  This is separate from the ipykernel package so we can avoid doing imports until\n"
     ]
    },
    {
     "name": "stdout",
     "output_type": "stream",
     "text": [
      "Precision: 0.09770114942528736\n",
      "Recall: 0.028145695364238412\n",
      "f1 measure 0.043701799485861184\n"
     ]
    },
    {
     "name": "stderr",
     "output_type": "stream",
     "text": [
      "/opt/conda/lib/python3.7/site-packages/ipykernel_launcher.py:4: DeprecationWarning: scipy.unique is deprecated and will be removed in SciPy 2.0.0, use numpy.unique instead\n",
      "  after removing the cwd from sys.path.\n"
     ]
    }
   ],
   "source": [
    "#second inner most core\n",
    "\n",
    "l1 = [k for k in coreG.keys() if coreG[k]==sorted(unique(list(coreG.values())), reverse=True)[1]]\n",
    "l2 = [k for k in coreS.keys() if coreS[k]==sorted(unique(list(coreS.values())), reverse=True)[1]]\n",
    "\n",
    "# measures\n",
    "r = precision(len(l1),l1,l2)\n",
    "p = precision(len(l2),l1,l2)\n",
    "print('Precision:', p)\n",
    "print('Recall:', r)\n",
    "print('f1 measure', 2*p*r/(p+r))"
   ]
  },
  {
   "cell_type": "markdown",
   "id": "c0894a3f-b1b1-4f12-a46a-bd3ecff26f61",
   "metadata": {
    "jp-MarkdownHeadingCollapsed": true,
    "tags": []
   },
   "source": [
    "## Shortest Path"
   ]
  },
  {
   "cell_type": "code",
   "execution_count": 35,
   "id": "782677bb-c754-46ee-84b7-9b387f8239dd",
   "metadata": {},
   "outputs": [],
   "source": [
    "# sample 1000 couples of nodes \n",
    "sample1 = random.sample(G.nodes, 1000)\n",
    "sample2 = random.sample(G.nodes, 1000)\n",
    "couple = [list(x) for x in zip(sample1, sample2)]"
   ]
  },
  {
   "cell_type": "code",
   "execution_count": 37,
   "id": "8d9c3037-52ef-4c96-9f4b-4e6358de4ccf",
   "metadata": {},
   "outputs": [],
   "source": [
    "sp = []\n",
    "for couple in couple:\n",
    "    sp.append(nx.shortest_path_length(G, source=couple[0], target=couple[1], weight= None, method='dijkstra'))"
   ]
  },
  {
   "cell_type": "code",
   "execution_count": 31,
   "id": "c1e3e5f6-20b7-47bd-9e55-d48d20f1aaab",
   "metadata": {},
   "outputs": [
    {
     "data": {
      "image/png": "[encoded data removed]",
      "text/plain": [
       "<Figure size 432x288 with 1 Axes>"
      ]
     },
     "metadata": {
      "needs_background": "light"
     },
     "output_type": "display_data"
    }
   ],
   "source": [
    "#Histogram of the sampled shortest path lengths for 1k\n",
    "\n",
    "plt.hist(sp, bins=5)\n",
    "plt.xlabel('Shortest Path Length')\n",
    "plt.ylabel('Frequencies')\n",
    "\n",
    "plt.show()"
   ]
  },
  {
   "cell_type": "code",
   "execution_count": 182,
   "id": "b536266c-b04c-4097-ad43-c59abcdddd94",
   "metadata": {},
   "outputs": [
    {
     "data": {
      "image/png": "[encoded data removed]",
      "text/plain": [
       "<Figure size 432x288 with 1 Axes>"
      ]
     },
     "metadata": {
      "needs_background": "light"
     },
     "output_type": "display_data"
    }
   ],
   "source": [
    "#Histogram of the sampled shortest path lengths for 10k\n",
    "\n",
    "plt.hist(sp, bins=5)\n",
    "plt.xlabel('Shortest Path Length')\n",
    "plt.ylabel('Frequencies')\n",
    "\n",
    "plt.show()"
   ]
  },
  {
   "cell_type": "code",
   "execution_count": 38,
   "id": "61a6fafe-84fb-4e97-b91e-55fa2243f18b",
   "metadata": {},
   "outputs": [],
   "source": [
    "def shortest_distance(G,start,w):\n",
    "    \n",
    "    shortestDistance = float(\"inf\")\n",
    "    for n in G.neighbors(source): \n",
    "        currentDistance = nx.shortest_path_length(s, source=n, target=start, weight= w, method='dijkstra')\n",
    "        if currentDistance < shortestDistance:\n",
    "            target = n\n",
    "        shortestDistance = min(currentDistance, shortestDistance)\n",
    "        \n",
    "    return shortestDistance+1 if w==None else shortestDistance+S[start,n]"
   ]
  },
  {
   "cell_type": "code",
   "execution_count": 24,
   "id": "a2d9162b-69f4-4ca6-8f7f-d9815dc3e1bc",
   "metadata": {},
   "outputs": [],
   "source": [
    "def shortest_path(G, s, couple, w):\n",
    "    avg_err_same_supernode = []\n",
    "    percentage_err_same_supernode = []\n",
    "\n",
    "    avg_err = []\n",
    "    percentage_err = []\n",
    "\n",
    "    for couple in sample:\n",
    "        spG = nx.shortest_path_length(G, source=couple[0], target=couple[1], weight= w, method='dijkstra')\n",
    "        s_i = supernode[couple[0]]\n",
    "        s_j = supernode[couple[1]]\n",
    "        if s_i == s_j:\n",
    "            if S_prob[s_i, s_i] != 0:\n",
    "                if w==None:\n",
    "                    spS = 1\n",
    "                else:\n",
    "                    spS = S[s_i,s_j]\n",
    "            else:\n",
    "                spS = shortest_distance(s, s_i, w)\n",
    "\n",
    "            avg_err_same_supernode.append(abs(spG-spS))\n",
    "            percentage_err_same_supernode.append(abs(spG-spS)/spG)# if abs(spG-spS)/spG <1 else 1)\n",
    "\n",
    "        else:\n",
    "            spS = nx.shortest_path_length(s, source=s_i, target=s_j, weight=w, method='dijkstra')\n",
    "            avg_err.append(abs(spG-spS))\n",
    "            percentage_err.append(abs(spG-spS)/spG if abs(spG-spS)/spG<1 else 1) \n",
    "\n",
    "    print('Average Error Same Supernode', np.mean(avg_err_same_supernode))\n",
    "    print('Percentage Error Same Supernode', np.mean(percentage_err_same_supernode))\n",
    "    print('Average Error Different Supernode', np.mean(avg_err))\n",
    "    print('Percentage Error Different Supernode', np.mean(percentage_err))"
   ]
  },
  {
   "cell_type": "code",
   "execution_count": 221,
   "id": "b0a3d7a6-64c4-4bdb-9790-e74697ee9f53",
   "metadata": {
    "tags": []
   },
   "outputs": [
    {
     "name": "stdout",
     "output_type": "stream",
     "text": [
      "Average Error Same Supernode 3.246774193548387\n",
      "Percentage Error Same Supernode 0.7563709677419355\n",
      "Average Error Different Supernode 3.0763157894736843\n",
      "Percentage Error Different Supernode 0.7242543859649123\n"
     ]
    }
   ],
   "source": [
    "#unweighted version\n",
    "shortest_path(G,s,couple,None)"
   ]
  },
  {
   "cell_type": "code",
   "execution_count": 25,
   "id": "f082cfe6-d904-4fdd-9d1d-18c66a0d4f5c",
   "metadata": {
    "tags": []
   },
   "outputs": [
    {
     "name": "stdout",
     "output_type": "stream",
     "text": [
      "Average Error Same Supernode 606.9387876533331\n",
      "Percentage Error Same Supernode 26.443320254200888\n",
      "Average Error Different Supernode 1703.4423570435517\n",
      "Percentage Error Different Supernode 0.9959118353116808\n"
     ]
    }
   ],
   "source": [
    "#weighted version\n",
    "shortest_path(G,s,couple,'weight')"
   ]
  },
  {
   "cell_type": "markdown",
   "id": "acbb7223-2ed3-4fa1-a5d5-c71ab521792f",
   "metadata": {
    "jp-MarkdownHeadingCollapsed": true,
    "tags": []
   },
   "source": [
    "## Clusters"
   ]
  },
  {
   "cell_type": "code",
   "execution_count": 33,
   "id": "eb3ab273-7a10-4a73-9aac-1fcfa345fefd",
   "metadata": {},
   "outputs": [],
   "source": [
    "cluster={}\n",
    "for k,v in partition.items():\n",
    "    cluster[k] = len(v)"
   ]
  },
  {
   "cell_type": "code",
   "execution_count": 34,
   "id": "b602fd35-f3f9-42a5-a6b2-07d079ec1727",
   "metadata": {},
   "outputs": [],
   "source": [
    "np.save('my_file.npy', cluster) "
   ]
  },
  {
   "cell_type": "code",
   "execution_count": null,
   "id": "4d0e4193-6e8d-4583-b2b9-d47e1e8d5a86",
   "metadata": {},
   "outputs": [],
   "source": [
    "# sta tutto su testG.ipynb"
   ]
  },
  {
   "cell_type": "markdown",
   "id": "750d06fc-826b-4a31-a934-9bcfd8dcdc17",
   "metadata": {},
   "source": [
    "## Community Detection"
   ]
  },
  {
   "cell_type": "code",
   "execution_count": 520,
   "id": "50cb2ddd-50ec-4fa5-8b21-56a4e743100d",
   "metadata": {},
   "outputs": [],
   "source": [
    "A = adj_matrix('edge_list_10k.csv', 10000)"
   ]
  },
  {
   "cell_type": "code",
   "execution_count": 521,
   "id": "f927ea1a-d11f-4387-a010-76a7b778a648",
   "metadata": {},
   "outputs": [],
   "source": [
    "#summary\n",
    "s = nx.from_numpy_matrix(np.matrix(S.A), create_using=nx.DiGraph)"
   ]
  },
  {
   "cell_type": "code",
   "execution_count": 527,
   "id": "bc089a01-305c-4203-96cb-0d6d483a3a88",
   "metadata": {},
   "outputs": [],
   "source": [
    "#input\n",
    "G = nx.from_numpy_matrix(np.matrix(A.A), create_using=nx.DiGraph)"
   ]
  },
  {
   "cell_type": "code",
   "execution_count": 110,
   "id": "ebcd1770-56e0-4641-89d6-bdaeba4651f6",
   "metadata": {
    "tags": []
   },
   "outputs": [
    {
     "name": "stdout",
     "output_type": "stream",
     "text": [
      "Running time: 3.09\n"
     ]
    }
   ],
   "source": [
    "t0 = time.time()\n",
    "community = greedy_modularity_communities(s, weight='weight')\n",
    "t1 = time.time()\n",
    "print('Running time:', round(t1-t0,2)) "
   ]
  },
  {
   "cell_type": "code",
   "execution_count": 111,
   "id": "1d175376-0463-4326-ace5-d30f81911461",
   "metadata": {
    "tags": []
   },
   "outputs": [],
   "source": [
    "# Assing to each node the community of the supernode it belongs to\n",
    "\n",
    "communityS = []\n",
    "for idx in range(len(community)):\n",
    "    comm_idx = []\n",
    "    for el in community[idx]:\n",
    "        for node in partition[el]:\n",
    "            comm_idx.append(node)\n",
    "    communityS.append(comm_idx)"
   ]
  },
  {
   "cell_type": "code",
   "execution_count": 112,
   "id": "82086cfe-5c7a-45cb-8a49-c15554442549",
   "metadata": {},
   "outputs": [
    {
     "name": "stdout",
     "output_type": "stream",
     "text": [
      "0.13\n"
     ]
    }
   ],
   "source": [
    "#modularity score\n",
    "print(round(nx_comm.modularity(G, communityS),2))"
   ]
  },
  {
   "cell_type": "code",
   "execution_count": null,
   "id": "2ae8c1bf-d767-4aaa-8c2e-5faeb3a1f955",
   "metadata": {},
   "outputs": [],
   "source": []
  }
 ],
 "metadata": {
  "environment": {
   "kernel": "conda-root-py",
   "name": "common-cpu.m91",
   "type": "gcloud",
   "uri": "gcr.io/deeplearning-platform-release/base-cpu:m91"
  },
  "kernelspec": {
   "display_name": "Python [conda env:root] *",
   "language": "python",
   "name": "conda-root-py"
  },
  "language_info": {
   "codemirror_mode": {
    "name": "ipython",
    "version": 3
   },
   "file_extension": ".py",
   "mimetype": "text/x-python",
   "name": "python",
   "nbconvert_exporter": "python",
   "pygments_lexer": "ipython3",
   "version": "3.7.12"
  }
 },
 "nbformat": 4,
 "nbformat_minor": 5
}
