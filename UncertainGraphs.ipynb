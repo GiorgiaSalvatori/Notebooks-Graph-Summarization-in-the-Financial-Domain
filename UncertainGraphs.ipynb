{
 "cells": [
  {
   "cell_type": "code",
   "execution_count": 1,
   "id": "9834a9a3-0555-45d5-b9cc-d1e16710fcef",
   "metadata": {},
   "outputs": [],
   "source": [
    "import csv\n",
    "from scipy import sparse\n",
    "from sklearn.cluster import KMeans\n",
    "import pandas as pd\n",
    "import networkx as nx\n",
    "import numpy as np\n",
    "import time\n",
    "from scipy.sparse import *\n",
    "from scipy import *\n",
    "from sklearn.model_selection import RandomizedSearchCV\n",
    "import itertools\n",
    "from tqdm import tqdm\n",
    "import sys\n",
    "import matplotlib.pyplot as plt\n",
    "from scipy.spatial.distance import hamming\n",
    "from numpy import linalg\n",
    "from matplotlib.pyplot import figure\n",
    "import random\n",
    "import scipy\n",
    "from collections import Counter"
   ]
  },
  {
   "cell_type": "code",
   "execution_count": 2,
   "id": "53dc3b10-2a78-41ff-b4e6-6db8f280aa66",
   "metadata": {},
   "outputs": [],
   "source": [
    "random.seed(123)"
   ]
  },
  {
   "cell_type": "code",
   "execution_count": 3,
   "id": "ebc0435c-e68d-45d4-bd62-3cf8f05ff65c",
   "metadata": {},
   "outputs": [],
   "source": [
    "def adj_matrix(edge_list, n, is_directed, is_weighted):\n",
    "    \n",
    "    A = lil_matrix((n,n), dtype=float)\n",
    "    f = open(edge_list)\n",
    "    reader = csv.reader(f)\n",
    "    \n",
    "    for line in reader:\n",
    "        if is_weighted:\n",
    "            A[int(line[0]),int(line[1])] = round(float(line[2]),2)\n",
    "        else:\n",
    "            A[int(line[0]),int(line[1])] = 1\n",
    "        \n",
    "        if is_directed==False:\n",
    "            A[int(line[1]),int(line[0])] = A[int(line[0]),int(line[1])]  \n",
    "        \n",
    "    return A"
   ]
  },
  {
   "cell_type": "code",
   "execution_count": 4,
   "id": "906ca864-a06c-4747-aba4-f0b916abb579",
   "metadata": {},
   "outputs": [],
   "source": [
    "def kmeans(k, t, A):\n",
    "\n",
    "    kmeans = KMeans(n_clusters=k, init = 'k-means++', algorithm='auto', max_iter=t).fit(A)\n",
    "    \n",
    "    # id_supernode : list of id_nodes in it\n",
    "    partition = {i: np.where(kmeans.labels_ == i)[0] for i in range(k)}\n",
    "    \n",
    "    #id_node : id_supernode it belongs to\n",
    "    supernode = {}\n",
    "    for k,v in partition.items():\n",
    "        for el in v:\n",
    "            supernode[el] = k\n",
    "  \n",
    "    return partition, supernode"
   ]
  },
  {
   "cell_type": "code",
   "execution_count": 5,
   "id": "d8d206be-3701-451c-ab7e-ada6a010deb7",
   "metadata": {},
   "outputs": [],
   "source": [
    "def lifted_density_matrix(S, n, partition, supernode):\n",
    "    \n",
    "    t0 = time.time()\n",
    "    S_lifted = lil_matrix((n,n), dtype=float) \n",
    "    S_grass = lil_matrix((n,n), dtype=float) \n",
    "    \n",
    "    for i in tqdm(range(n)):\n",
    "        for j in range(n):\n",
    "            s_i = supernode[i]\n",
    "            s_j = supernode[j]\n",
    "            \n",
    "            S_lifted[i,j] = S[s_i, s_j]\n",
    "            \n",
    "            if s_i != s_j :\n",
    "                S_grass[i,j] = S_lifted[i,j] \n",
    "            elif i != j:\n",
    "                S_grass[i,j] = S_lifted[i,j] * len(partition[s_j])/(len(partition[s_j])-1)   \n",
    "            else:\n",
    "                S_grass[i,j] = 0\n",
    "                \n",
    "    t1 = time.time()\n",
    "    print('Running time A_S_lifted + Grass: %f' %(t1-t0))\n",
    "    return S_lifted,S_grass "
   ]
  },
  {
   "cell_type": "code",
   "execution_count": 6,
   "id": "78ab263a-69dc-4fb6-b2a0-db58870cf2ac",
   "metadata": {},
   "outputs": [],
   "source": [
    "def density_matrix(k, edge_list, partition, A, is_directed, is_weighted, n, supernode):\n",
    "    \n",
    "    t0 = time.time()\n",
    "    \n",
    "    S = dok_matrix((k,k))        #density matrix of the expected weights\n",
    "    S_prob = dok_matrix((k,k))\n",
    "    \n",
    "    f = open(edge_list)\n",
    "    reader = csv.reader(f)\n",
    "    for el in reader:\n",
    "        el[0]=int(el[0])\n",
    "        el[1]=int(el[1])\n",
    "        if is_weighted:\n",
    "            S[supernode[el[0]], supernode[el[1]]] +=  A[el[0],el[1]]\n",
    "            S_prob[supernode[el[0]], supernode[el[1]]] += 1\n",
    "        else: \n",
    "            S[supernode[el[0]], supernode[el[1]]] +=  1\n",
    "        if is_directed==False:\n",
    "            S[supernode[el[1]], supernode[el[0]]] +=  A[el[0],el[1]]\n",
    "        \n",
    "    for i in range(k): \n",
    "        for j in range(k): \n",
    "            den = len(partition[i])*len(partition[j])\n",
    "            S[i,j] = round(S[i,j]/den,2)\n",
    "            S_prob[i,j] = round(S_prob[i,j]/den,2)\n",
    "            \n",
    "    t1 = time.time()\n",
    "    print('Running time S (kxk): %f' %(t1-t0))\n",
    "    \n",
    "   # S_probs, S_probs_G = lifted_density_matrix(S_prob,n,partition,supernode)  #Lifted + Grass probability matrix\n",
    "   # S, S_G = lifted_density_matrix(S,n,partition,supernode)                   #Lifted + Grass  matrix\n",
    "    #return  S_probs, S_probs_G,  S, S_G\n",
    "    \n",
    "    if is_weighted:\n",
    "        return  S, S_prob\n",
    "    else:\n",
    "        return S\n",
    "   "
   ]
  },
  {
   "cell_type": "code",
   "execution_count": 7,
   "id": "64f3348b-cc15-4b50-9804-b091fca436f4",
   "metadata": {},
   "outputs": [],
   "source": [
    "def summ_A(edge_list, n, k, t, is_directed, is_weighted):\n",
    "    \n",
    "    t2 = time.time()\n",
    "    A = adj_matrix(edge_list, n, is_directed, is_weighted)\n",
    "    t3  = time.time()\n",
    "    print('Running time adj_matrix: %f' %(t3-t2))\n",
    "\n",
    "\n",
    "    #partition given by the clustering\n",
    "    t6 = time.time()\n",
    "    partition, supernode = kmeans(k, t, A)\n",
    "    t7 = time.time()\n",
    "    print('Running time kmeans: %f' %(t7-t6))\n",
    "\n",
    "    \n",
    "    if is_weighted:\n",
    "        S, S_prob = density_matrix(k, edge_list, partition, A, is_directed, is_weighted, n, supernode)\n",
    "        return S, S_prob, partition, supernode\n",
    "    else:\n",
    "        S = density_matrix(k, edge_list, partition, A, is_directed, is_weighted, n, supernode)\n",
    "        return S, partition, supernode"
   ]
  },
  {
   "cell_type": "code",
   "execution_count": 8,
   "id": "f476a474-a554-4d10-9a91-fb973f90124d",
   "metadata": {
    "tags": []
   },
   "outputs": [
    {
     "name": "stdout",
     "output_type": "stream",
     "text": [
      "Running time adj_matrix: 0.053328\n",
      "Running time kmeans: 4.498363\n",
      "Running time S (kxk): 4.222850\n"
     ]
    }
   ],
   "source": [
    "# syn-trans-1 (k=100, k=250, k=350)\n",
    "k = 250\n",
    "S, S_prob, partition, supernode = summ_A('1k.csv', 1000, k, 20, True, True)\n",
    "#S_probs, S_probs_G, S, S_G, partition, supernode = summ_A('1k_no_companies.csv', '1k', 1000, k, 20)"
   ]
  },
  {
   "cell_type": "code",
   "execution_count": 128,
   "id": "a3491a60-66e5-46e3-8832-a64ec9095a5a",
   "metadata": {
    "tags": []
   },
   "outputs": [
    {
     "name": "stdout",
     "output_type": "stream",
     "text": [
      "Running time adj_matrix: 0.520817\n",
      "Running time kmeans: 58.448911\n",
      "Running time S (kxk): 68.994683\n"
     ]
    }
   ],
   "source": [
    "# syn-trans-10 (k=500, k=1000, k=1500)\n",
    "k = 1000\n",
    "S, S_prob, partition, supernode = summ_A('10k.csv', 10000, k, 20, True, True)"
   ]
  },
  {
   "cell_type": "code",
   "execution_count": 8,
   "id": "08364597-7358-4fac-b368-e25eed3515fe",
   "metadata": {
    "tags": []
   },
   "outputs": [
    {
     "name": "stdout",
     "output_type": "stream",
     "text": [
      "Running time adj_matrix: 0.806139\n",
      "Running time kmeans: 36.297059\n",
      "Running time S (kxk): 19.268763\n"
     ]
    }
   ],
   "source": [
    "# FACEBOOK (k=350, k=500, k=750, k=723)\n",
    "k = 500\n",
    "S, partition, supernode = summ_A('fb.csv', 4039, k, 20, False, False)"
   ]
  },
  {
   "cell_type": "code",
   "execution_count": 52,
   "id": "0e5b21e2-7170-4822-ba50-d5ba2b938343",
   "metadata": {
    "tags": []
   },
   "outputs": [
    {
     "name": "stdout",
     "output_type": "stream",
     "text": [
      "Running time adj_matrix: 0.534232\n",
      "Running time kmeans: 55.897789\n",
      "Running time S (kxk): 34.368591\n"
     ]
    }
   ],
   "source": [
    "# LASTFM (k=500, k=750, k=1000, k=1730)\n",
    "k = 750\n",
    "S, partition, supernode = summ_A('lastfm.csv', 7624, k, 20, False, False)"
   ]
  },
  {
   "cell_type": "code",
   "execution_count": 82,
   "id": "78d9f9bc-472e-4ad6-b7d9-8c5ed0449726",
   "metadata": {},
   "outputs": [
    {
     "name": "stdout",
     "output_type": "stream",
     "text": [
      "Running time adj_matrix: 3.694930\n",
      "Running time kmeans: 619.419609\n",
      "Running time S (kxk): 160.278998\n"
     ]
    }
   ],
   "source": [
    "# ENRON MAIL (k=1000, k=1500, k=2000, k=6137)\n",
    "k = 1500\n",
    "S, partition, supernode = summ_A('en.csv', 36692, k, 20, False, False)"
   ]
  },
  {
   "cell_type": "code",
   "execution_count": 148,
   "id": "33f1bf77-6c7b-47a9-b1a0-2d90549bb5e6",
   "metadata": {
    "tags": []
   },
   "outputs": [
    {
     "name": "stdout",
     "output_type": "stream",
     "text": [
      "Running time adj_matrix: 0.075833\n",
      "Running time kmeans: 32.503183\n",
      "Running time S (kxk): 30.603523\n"
     ]
    }
   ],
   "source": [
    "# GNUTELLA (K = 500,750,1000)\n",
    "#analysis on the largest cc\n",
    "k = 750\n",
    "S, partition, supernode = summ_A('gnutella.csv', 6301, k, 20, True, False)"
   ]
  },
  {
   "cell_type": "code",
   "execution_count": 78,
   "id": "58649e93-5386-42bf-92cc-5ab386fa15da",
   "metadata": {
    "tags": []
   },
   "outputs": [
    {
     "name": "stdout",
     "output_type": "stream",
     "text": [
      "Running time adj_matrix: 1.518842\n",
      "Running time kmeans: 55.855494\n",
      "Running time S (kxk): 33.270426\n"
     ]
    }
   ],
   "source": [
    "# UBUNTU (K = 350,500,750)\n",
    "k = 500\n",
    "S, S_prob, partition, supernode = summ_A('ubuntu.csv', 3035, k, 20, False, True)"
   ]
  },
  {
   "cell_type": "markdown",
   "id": "3c97891d-b9c4-48d0-b869-409ea75744fa",
   "metadata": {},
   "source": [
    "# Possible Worlds\n"
   ]
  },
  {
   "cell_type": "code",
   "execution_count": 129,
   "id": "dc12b03d-5837-435d-ad54-6c14ba449d33",
   "metadata": {},
   "outputs": [],
   "source": [
    "# worlds sampling\n",
    "\n",
    "def world(graph_type, matrix, prob_matrix):\n",
    "    s = nx.from_numpy_matrix(np.matrix(matrix.A), create_using=graph_type)\n",
    "    world = s.copy()\n",
    "    if prob_matrix != None:\n",
    "        s_prob = nx.from_numpy_matrix(np.matrix(prob_matrix.A), create_using=graph_type)\n",
    "        for edge in s_prob.edges(data=True):\n",
    "            sample = random.uniform(0,1)\n",
    "            if edge[-1]['weight'] < sample:\n",
    "                world.remove_edge(edge[0], edge[1])\n",
    "        return world\n",
    "\n",
    "    else:\n",
    "        for edge in s.edges(data=True):\n",
    "            sample = random.uniform(0,1)\n",
    "            if edge[-1]['weight'] < sample:\n",
    "                world.remove_edge(edge[0], edge[1])\n",
    "    return world"
   ]
  },
  {
   "cell_type": "code",
   "execution_count": 130,
   "id": "12d2cf48-9c7c-451e-a80a-2db0990fbf3b",
   "metadata": {},
   "outputs": [
    {
     "name": "stderr",
     "output_type": "stream",
     "text": [
      "100%|██████████| 100/100 [00:06<00:00, 14.48it/s]\n"
     ]
    }
   ],
   "source": [
    "# create the set of possible worlds\n",
    "\n",
    "type_of_graph = nx.DiGraph\n",
    "possible_worlds = []\n",
    "for i in tqdm(range(100)):\n",
    "    possible_worlds.append(world(type_of_graph, S, S_prob))\n",
    "    #possible_worlds.append(world(type_of_graph, S, None))"
   ]
  },
  {
   "cell_type": "markdown",
   "id": "1487483c-4abe-4174-ba8f-9457f0911ae7",
   "metadata": {
    "tags": []
   },
   "source": [
    "## Single Value Queries"
   ]
  },
  {
   "cell_type": "code",
   "execution_count": null,
   "id": "1f1b37d8-49ef-44d4-b978-029178805ddf",
   "metadata": {},
   "outputs": [],
   "source": [
    "# Number of Edges\n",
    "mean = 0\n",
    "\n",
    "for graph in possible_worlds:\n",
    "    mean += len(graph.edges())\n",
    "    \n",
    "print('mean number of edges', round(mean/100)) "
   ]
  },
  {
   "cell_type": "code",
   "execution_count": 26,
   "id": "d5806732-384e-46be-b29d-ff38c2ed9c25",
   "metadata": {
    "tags": []
   },
   "outputs": [
    {
     "name": "stderr",
     "output_type": "stream",
     "text": [
      "100%|██████████| 100/100 [00:00<00:00, 263.42it/s]"
     ]
    },
    {
     "name": "stdout",
     "output_type": "stream",
     "text": [
      "Running Time: 0.38\n",
      "diameter largest cc: 0\n",
      "diameter: 0\n"
     ]
    },
    {
     "name": "stderr",
     "output_type": "stream",
     "text": [
      "\n"
     ]
    }
   ],
   "source": [
    "# diameter for directed graphs\n",
    "\n",
    "diameter_largest_cc = 0\n",
    "diameter = 0\n",
    "t1 = time.time()\n",
    "for graph in tqdm(possible_worlds):\n",
    "    largest_cc = max(nx.strongly_connected_components(graph), key=len)\n",
    "    sub_graph = graph.subgraph(largest_cc)\n",
    "    diameter_largest_cc += nx.diameter(sub_graph)\n",
    "    if nx.is_strongly_connected(graph) == True:\n",
    "        diameter += nx.diameter(graph)\n",
    "t2 = time.time()\n",
    "\n",
    "print('Running Time:', round(t2-t1,2))\n",
    "print('diameter largest cc:', round(diameter_largest_cc/100))\n",
    "print('diameter:', round(diameter/100))"
   ]
  },
  {
   "cell_type": "code",
   "execution_count": 14,
   "id": "89f26de8-9680-40f2-9f0f-3275b70a528a",
   "metadata": {
    "collapsed": true,
    "jupyter": {
     "outputs_hidden": true
    },
    "tags": []
   },
   "outputs": [
    {
     "name": "stderr",
     "output_type": "stream",
     "text": [
      "100%|██████████| 100/100 [00:00<00:00, 1006.71it/s]"
     ]
    },
    {
     "name": "stdout",
     "output_type": "stream",
     "text": [
      "Running Time: 0.1\n",
      "diameter largest cc: 0\n"
     ]
    },
    {
     "name": "stderr",
     "output_type": "stream",
     "text": [
      "\n"
     ]
    },
    {
     "ename": "ZeroDivisionError",
     "evalue": "division by zero",
     "output_type": "error",
     "traceback": [
      "\u001b[0;31m---------------------------------------------------------------------------\u001b[0m",
      "\u001b[0;31mZeroDivisionError\u001b[0m                         Traceback (most recent call last)",
      "\u001b[0;32m/tmp/ipykernel_4502/1811059725.py\u001b[0m in \u001b[0;36m<module>\u001b[0;34m\u001b[0m\n\u001b[1;32m     17\u001b[0m \u001b[0mprint\u001b[0m\u001b[0;34m(\u001b[0m\u001b[0;34m'Running Time:'\u001b[0m\u001b[0;34m,\u001b[0m \u001b[0mround\u001b[0m\u001b[0;34m(\u001b[0m\u001b[0mt2\u001b[0m\u001b[0;34m-\u001b[0m\u001b[0mt1\u001b[0m\u001b[0;34m,\u001b[0m\u001b[0;36m2\u001b[0m\u001b[0;34m)\u001b[0m\u001b[0;34m)\u001b[0m\u001b[0;34m\u001b[0m\u001b[0;34m\u001b[0m\u001b[0m\n\u001b[1;32m     18\u001b[0m \u001b[0mprint\u001b[0m\u001b[0;34m(\u001b[0m\u001b[0;34m'diameter largest cc:'\u001b[0m\u001b[0;34m,\u001b[0m \u001b[0mround\u001b[0m\u001b[0;34m(\u001b[0m\u001b[0mdiameter_largest_cc\u001b[0m\u001b[0;34m/\u001b[0m\u001b[0;36m100\u001b[0m\u001b[0;34m)\u001b[0m\u001b[0;34m)\u001b[0m\u001b[0;34m\u001b[0m\u001b[0;34m\u001b[0m\u001b[0m\n\u001b[0;32m---> 19\u001b[0;31m \u001b[0mprint\u001b[0m\u001b[0;34m(\u001b[0m\u001b[0;34m'diameter:'\u001b[0m\u001b[0;34m,\u001b[0m \u001b[0mround\u001b[0m\u001b[0;34m(\u001b[0m\u001b[0mdiameter\u001b[0m\u001b[0;34m/\u001b[0m\u001b[0mcount\u001b[0m\u001b[0;34m)\u001b[0m\u001b[0;34m)\u001b[0m\u001b[0;34m\u001b[0m\u001b[0;34m\u001b[0m\u001b[0m\n\u001b[0m",
      "\u001b[0;31mZeroDivisionError\u001b[0m: division by zero"
     ]
    }
   ],
   "source": [
    "# diameter for undirected graphs\n",
    "\n",
    "diameter_largest_cc = 0\n",
    "diameter = 0\n",
    "count = 0\n",
    "t1 = time.time()\n",
    "for graph in tqdm(possible_worlds):\n",
    "    largest_cc = max(nx.connected_components(graph), key=len)\n",
    "    sub_graph = graph.subgraph(largest_cc)\n",
    "    diameter_largest_cc += nx.diameter(sub_graph)\n",
    "    if nx.is_connected(graph) == True:\n",
    "        count=+1\n",
    "        diameter += nx.diameter(graph)\n",
    "\n",
    "t2 = time.time()\n",
    "\n",
    "print('Running Time:', round(t2-t1,2))\n",
    "print('diameter largest cc:', round(diameter_largest_cc/100))\n",
    "print('diameter:', round(diameter/count))"
   ]
  },
  {
   "cell_type": "code",
   "execution_count": 15,
   "id": "88fb9163-59a3-43e8-9443-e81239335793",
   "metadata": {},
   "outputs": [
    {
     "name": "stderr",
     "output_type": "stream",
     "text": [
      "100%|██████████| 100/100 [02:26<00:00,  1.47s/it]"
     ]
    },
    {
     "name": "stdout",
     "output_type": "stream",
     "text": [
      "Running Time: 146.8\n",
      "average clustering coefficient: 0.364\n"
     ]
    },
    {
     "name": "stderr",
     "output_type": "stream",
     "text": [
      "\n"
     ]
    }
   ],
   "source": [
    "# average cluster coefficient\n",
    "t1 = time.time()\n",
    "avg_clustering = 0\n",
    "for graph in tqdm(possible_worlds):\n",
    "    avg_clustering += nx.average_clustering(graph)\n",
    "\n",
    "t2 = time.time()\n",
    "\n",
    "print('Running Time:', round(t2-t1,2))\n",
    "print('average clustering coefficient:', round(avg_clustering/100, 3))"
   ]
  },
  {
   "cell_type": "code",
   "execution_count": 25,
   "id": "73de7f22-55d5-41d8-b2de-f14f61713931",
   "metadata": {
    "tags": []
   },
   "outputs": [
    {
     "name": "stderr",
     "output_type": "stream",
     "text": [
      "100%|██████████| 100/100 [00:01<00:00, 54.87it/s]"
     ]
    },
    {
     "name": "stdout",
     "output_type": "stream",
     "text": [
      "Number of cc: 604.78\n",
      "Size largest cc: 144\n"
     ]
    },
    {
     "name": "stderr",
     "output_type": "stream",
     "text": [
      "\n"
     ]
    }
   ],
   "source": [
    "# connected component\n",
    "\n",
    "number_cc = 0\n",
    "size = 0\n",
    "for graph in tqdm(possible_worlds):\n",
    "    largest_cc = max(nx.strongly_connected_components(graph), key=len)\n",
    "    size += len(largest_cc)\n",
    "    number_cc += len([c for c in nx.strongly_connected_components(graph)])\n",
    "    sub_graph = graph.subgraph(largest_cc)\n",
    "    \n",
    "    \n",
    "print('Number of cc:', number_cc/100)   \n",
    "print('Size largest cc:', round(size/100))"
   ]
  },
  {
   "cell_type": "markdown",
   "id": "6524e234-8ba4-4a2f-b232-1283417b6a53",
   "metadata": {
    "tags": []
   },
   "source": [
    "## Shortest Path"
   ]
  },
  {
   "cell_type": "code",
   "execution_count": 131,
   "id": "fc6d8edb-be7c-4146-901c-8ea2cad86d1b",
   "metadata": {
    "tags": []
   },
   "outputs": [],
   "source": [
    "#input\n",
    "\n",
    "#A = adj_matrix('fb.csv', 4039, False, False)\n",
    "A = adj_matrix('edge_list_10k.csv', 10000, True, True)\n",
    "#A = adj_matrix('edge_list_1k.csv', 1000, True, True)\n",
    "#A = adj_matrix('lastfm.csv', 7624, False, False)\n",
    "#A = adj_matrix('en.csv', 36692, False, False)\n",
    "#A = adj_matrix('gnutella.csv', 6301, True, False)\n",
    "#A = adj_matrix('ubuntu.csv', 3035, False, True)\n",
    "\n",
    "\n",
    "G = nx.from_numpy_matrix(np.matrix(A.A), create_using=nx.DiGraph)"
   ]
  },
  {
   "cell_type": "code",
   "execution_count": null,
   "id": "66ca1c10-0a5f-4eaf-a4bd-6c51e90e9d92",
   "metadata": {},
   "outputs": [],
   "source": [
    "# input for Enron\n",
    "Data = open('en.csv', \"r\")\n",
    "G = nx.parse_edgelist(Data, delimiter=',', create_using=nx.Graph, nodetype=int)"
   ]
  },
  {
   "cell_type": "code",
   "execution_count": 146,
   "id": "69973cc1-31b0-4542-aba0-7e98a9829da8",
   "metadata": {},
   "outputs": [],
   "source": [
    "# sample one couples of nodes \n",
    "#largest_cc = sorted(nx.weakly_connected_components(G), reverse=1)[0]\n",
    "sample1 = random.sample(G.nodes(),1)[0]\n",
    "sample2 = random.sample(G.nodes(), 1)[0]\n",
    "sample = [sample1, sample2]"
   ]
  },
  {
   "cell_type": "code",
   "execution_count": 147,
   "id": "cb47f404-652d-488f-b569-ec89975f3369",
   "metadata": {},
   "outputs": [],
   "source": [
    "def shortest_distance(G,start,w):\n",
    "    \n",
    "    shortestDistance = float(\"inf\")\n",
    "    for n in G.neighbors(source): \n",
    "        currentDistance = nx.shortest_path_length(s, source=n, target=start, weight= w, method='dijkstra')\n",
    "        if currentDistance < shortestDistance:\n",
    "            target = n\n",
    "        shortestDistance = min(currentDistance, shortestDistance)\n",
    "        \n",
    "    return shortestDistance+1 if w==None else shortestDistance+S[start,n]"
   ]
  },
  {
   "cell_type": "code",
   "execution_count": 148,
   "id": "ea270e4e-25a5-40af-9207-42c4e696b46d",
   "metadata": {},
   "outputs": [],
   "source": [
    "def shortest_distance(G,start,w):\n",
    "    \n",
    "    shortestDistance = float(\"inf\")\n",
    "    for n in G.neighbors(start): \n",
    "        currentDistance = nx.shortest_path_length(G, source=n, target=start, weight= w, method='dijkstra')\n",
    "        if currentDistance < shortestDistance:\n",
    "            target = n\n",
    "        shortestDistance = min(currentDistance, shortestDistance)\n",
    "        \n",
    "    return shortestDistance+1 if w==None else shortestDistance+S[start,n]"
   ]
  },
  {
   "cell_type": "code",
   "execution_count": 149,
   "id": "8c31d803-1479-4c54-86b6-022d6bd0993b",
   "metadata": {},
   "outputs": [],
   "source": [
    "def shortest_path(s, couple,w):  \n",
    "    \n",
    "    #shortest path for the summary\n",
    "    s_i = supernode[couple[0]]\n",
    "    s_j = supernode[couple[1]]\n",
    "    if s_i == s_j:\n",
    "        if S[s_i, s_j] != 0:\n",
    "            spS = 1\n",
    "        else:\n",
    "            spS = shortest_distance(s, s_i, w)\n",
    "\n",
    "    else:\n",
    "         spS = nx.shortest_path_length(s, source=s_i, target=s_j, method='dijkstra', weight=w)\n",
    "       \n",
    "    return spS"
   ]
  },
  {
   "cell_type": "code",
   "execution_count": 155,
   "id": "ecce8577-8b91-40b3-bd1d-db6f757deac2",
   "metadata": {
    "tags": []
   },
   "outputs": [
    {
     "name": "stderr",
     "output_type": "stream",
     "text": [
      "100%|██████████| 100/100 [00:00<00:00, 57852.47it/s]\n"
     ]
    }
   ],
   "source": [
    "#shortest path for the input\n",
    "spG = nx.shortest_path_length(G, source=sample[0], target=sample[1], method='dijkstra', weight=None)\n",
    "\n",
    "spS = []\n",
    "for graph in tqdm(possible_worlds):\n",
    "    spS.append(shortest_path(graph,sample,None))\n",
    "    "
   ]
  },
  {
   "cell_type": "code",
   "execution_count": 156,
   "id": "25362f13-fbdb-48a1-b5a0-bfbebb722c15",
   "metadata": {},
   "outputs": [],
   "source": [
    "sp_dict = {}\n",
    "for k,v in Counter(spS).items():\n",
    "    sp_dict[k] = v/100"
   ]
  },
  {
   "cell_type": "code",
   "execution_count": 157,
   "id": "5578c5ab-8191-4d3f-8b9d-8c3e383a3e79",
   "metadata": {},
   "outputs": [
    {
     "data": {
      "text/plain": [
       "{1: 1.0}"
      ]
     },
     "execution_count": 157,
     "metadata": {},
     "output_type": "execute_result"
    }
   ],
   "source": [
    "sp_dict"
   ]
  },
  {
   "cell_type": "code",
   "execution_count": 158,
   "id": "b65eee96-668e-48e6-a5fb-2a18dbbd3e78",
   "metadata": {},
   "outputs": [
    {
     "data": {
      "text/plain": [
       "5"
      ]
     },
     "execution_count": 158,
     "metadata": {},
     "output_type": "execute_result"
    }
   ],
   "source": [
    "spG"
   ]
  },
  {
   "cell_type": "code",
   "execution_count": 159,
   "id": "033a987d-ae08-431b-b414-75dfa581a229",
   "metadata": {},
   "outputs": [
    {
     "name": "stdout",
     "output_type": "stream",
     "text": [
      "Average Error: 4\n",
      "Percentage Err: 0.8\n"
     ]
    }
   ],
   "source": [
    "spS = 1\n",
    "print('Average Error:',abs(spG-spS))\n",
    "print('Percentage Err:',abs(spG-spS)/spG)"
   ]
  },
  {
   "cell_type": "markdown",
   "id": "29ca41d6-1f9e-476b-9425-fbda1d1435cb",
   "metadata": {},
   "source": [
    "## Set Queries"
   ]
  },
  {
   "cell_type": "code",
   "execution_count": 42,
   "id": "a92db5f1-2a76-4eac-bcb1-4efd8d9f8d5f",
   "metadata": {
    "tags": []
   },
   "outputs": [],
   "source": [
    "#input\n",
    "\n",
    "# = adj_matrix('fb.csv', 4039, False, False)\n",
    "#A = adj_matrix('edge_list_10k.csv', 10000, True, True)\n",
    "#A = adj_matrix('edge_list_1k.csv', 1000, True, True)\n",
    "# = adj_matrix('lastfm.csv', 7624, False, False)\n",
    "#A = adj_matrix('en.csv', 36692, False, False)\n",
    "A = adj_matrix('gnutella.csv', 6301, True, False)\n",
    "#A = adj_matrix('ubuntu.csv', 3035, False, True)\n",
    "\n",
    "\n",
    "G = nx.from_numpy_matrix(np.matrix(A.A), create_using=type_of_graph)"
   ]
  },
  {
   "cell_type": "code",
   "execution_count": 11,
   "id": "43d67ce8-29cb-4007-b250-a550786a1b9d",
   "metadata": {},
   "outputs": [],
   "source": [
    "# input for Enron\n",
    "Data = open('en.csv', \"r\")\n",
    "G = nx.parse_edgelist(Data, delimiter=',', create_using=nx.Graph,nodetype=int)"
   ]
  },
  {
   "cell_type": "code",
   "execution_count": 43,
   "id": "3c170fb8-a354-44c9-a6cd-7ff75fe9a7d1",
   "metadata": {
    "tags": []
   },
   "outputs": [],
   "source": [
    "def precision(k, l1, l2):\n",
    "    l3 = [value for value in l1 if value in l2]\n",
    "    intersect = len(l3)\n",
    "    return round(intersect/k,2)"
   ]
  },
  {
   "cell_type": "code",
   "execution_count": 44,
   "id": "1581574a-15d0-4f2b-bac1-4a004b344d65",
   "metadata": {
    "tags": []
   },
   "outputs": [],
   "source": [
    "def centrality_query(centrality_type, possible_world, k, partition, top):\n",
    "    sets = []\n",
    "    for graph in tqdm(possible_worlds):\n",
    "        centrality = centrality_type(graph, weight=None)\n",
    "        \n",
    "        if centrality_type == nx.pagerank:\n",
    "            for i in range(k): #normalization for pagerank\n",
    "                     centrality[i] = centrality[i]/len(partition[i])\n",
    "       \n",
    "        if centrality_type == nx.degree_centrality:\n",
    "            for i in range(k):       #normalization for the degree centrality\n",
    "                if graph.has_edge(i,i) == True:\n",
    "                    centrality[i] = centrality[i] + (len(partition[i]) - 1)\n",
    "\n",
    "        \n",
    "        projection = {}\n",
    "        for k,v in centrality.items():\n",
    "            for el in partition[k]:\n",
    "                projection[el] = v\n",
    "\n",
    "        th = sorted(list(projection.values()), reverse=True)[top]\n",
    "        k2 = len(graph.nodes())\n",
    "        for idx,el in enumerate(sorted(list(projection.values()), reverse=True)):\n",
    "            if el<th:\n",
    "                k2 = idx\n",
    "                break\n",
    "        answer = sorted(projection, key=projection.get, reverse=True)[:k2]\n",
    "        sets.append(answer)\n",
    "    return sets"
   ]
  },
  {
   "cell_type": "code",
   "execution_count": null,
   "id": "48e64ba3-c7a2-4120-baf2-559a4fe1758e",
   "metadata": {
    "tags": []
   },
   "outputs": [],
   "source": [
    "centrality_type = nx.eigenvector_centrality\n",
    "t1 = time.time()\n",
    "answers = centrality_query(centrality_type, possible_worlds, k, partition, 99)\n",
    "t2 = time.time()\n",
    "\n",
    "print('Running Time:', round(t2-t1,2))"
   ]
  },
  {
   "cell_type": "code",
   "execution_count": 49,
   "id": "ce1219cf-9879-497c-827d-591cf7715a03",
   "metadata": {
    "tags": []
   },
   "outputs": [
    {
     "name": "stdout",
     "output_type": "stream",
     "text": [
      "Precision: 0.21\n",
      "Recall: 0.12\n",
      "f1 measure 0.15272727272727274\n"
     ]
    }
   ],
   "source": [
    "#centrality query using intersection\n",
    "\n",
    "k1 = 200\n",
    "final_answer = set.intersection(*map(set,answers))\n",
    "centralityG = centrality_type(G)\n",
    "topG = sorted(centralityG, key=centralityG.get, reverse=True)[:k1]\n",
    "\n",
    "\n",
    "\n",
    "# measures\n",
    "r = precision(k1,topG, final_answer)\n",
    "p = precision(len(final_answer), topG, final_answer)\n",
    "print('Precision:', p)\n",
    "print('Recall:', r)\n",
    "print('f1 measure', 2*p*r/(p+r))"
   ]
  },
  {
   "cell_type": "code",
   "execution_count": 50,
   "id": "bf0f82d0-fa88-4e2f-89bb-feeda771129b",
   "metadata": {
    "tags": []
   },
   "outputs": [
    {
     "name": "stdout",
     "output_type": "stream",
     "text": [
      "Precision: 0.17\n",
      "Recall: 0.17\n",
      "f1 measure 0.17\n"
     ]
    }
   ],
   "source": [
    "#centrality query using frequency score\n",
    "\n",
    "#k1 = 200\n",
    "\n",
    "#centralityG = centrality_type(G)\n",
    "#topG = sorted(centralityG, key=centralityG.get, reverse=True)[:k1]\n",
    "\n",
    "flat_answers = [item for sublist in answers for item in sublist]\n",
    "occurrences = Counter(flat_answers)\n",
    "#th = max(set(occurrences.values()))\n",
    "th = sorted(occurrences.values(), reverse=True)[k1]\n",
    "final_answer = [k for k,v in occurrences.items() if v>=th]\n",
    "\n",
    "# measures\n",
    "r = precision(k1, topG, final_answer)\n",
    "p = precision(len(final_answer), topG, final_answer)\n",
    "print('Precision:', p)\n",
    "print('Recall:', r)\n",
    "print('f1 measure', 2*p*r/(p+r))"
   ]
  },
  {
   "cell_type": "code",
   "execution_count": null,
   "id": "b29ba272-41d0-45ce-b37f-f2d65820c691",
   "metadata": {},
   "outputs": [],
   "source": []
  },
  {
   "cell_type": "code",
   "execution_count": 50,
   "id": "41670042-59ba-4bc1-908b-2dddea3527d1",
   "metadata": {},
   "outputs": [],
   "source": [
    "#inner most core\n",
    "def inner_most_core(possible_world, k, partition):\n",
    "\n",
    "    sets = []\n",
    "    for graph in tqdm(possible_world):\n",
    "        graph.remove_edges_from(nx.selfloop_edges(graph))\n",
    "        coreS = nx.core_number(graph)\n",
    "        \n",
    "        coreS_dict = {}\n",
    "        for k, v in coreS.items():\n",
    "            for node in partition[k]:\n",
    "                coreS_dict[node] = v \n",
    "    \n",
    "        topSinG = [k for k in coreS_dict.keys() if coreS_dict[k]==max(coreS_dict.values())]\n",
    "\n",
    "        sets.append(topSinG)\n",
    "    return sets"
   ]
  },
  {
   "cell_type": "code",
   "execution_count": 52,
   "id": "4dd1b631-09a8-4364-910c-088b9a4c2a97",
   "metadata": {},
   "outputs": [
    {
     "name": "stderr",
     "output_type": "stream",
     "text": [
      "100%|██████████| 100/100 [46:59<00:00, 28.20s/it]"
     ]
    },
    {
     "name": "stdout",
     "output_type": "stream",
     "text": [
      "Running Time: 2819.6\n"
     ]
    },
    {
     "name": "stderr",
     "output_type": "stream",
     "text": [
      "\n"
     ]
    }
   ],
   "source": [
    "t1 = time.time()\n",
    "answers = inner_most_core(possible_worlds, k, partition)\n",
    "t2 = time.time()\n",
    "\n",
    "print('Running Time:', round(t2-t1,2))"
   ]
  },
  {
   "cell_type": "code",
   "execution_count": null,
   "id": "44970dfa-8026-4236-b134-b2b61f1fe845",
   "metadata": {
    "tags": []
   },
   "outputs": [],
   "source": [
    "#inner most core queries using intersection\n",
    "\n",
    "\n",
    "final_answer = set.intersection(*map(set,answers))\n",
    "coreG = nx.core_number(G)\n",
    "topG = [k for k in coreG.keys() if coreG[k]==max(coreG.values())]\n",
    "\n",
    "# measures\n",
    "r = precision(len(topG),topG,final_answer)\n",
    "p = precision(len(final_answer),topG, final_answer)\n",
    "print('Precision:', p)\n",
    "print('Recall:', r)\n",
    "print('f1 measure', 2*p*r/(p+r))"
   ]
  },
  {
   "cell_type": "code",
   "execution_count": 67,
   "id": "9fd98924-c551-49c4-9060-b3b3966b9239",
   "metadata": {},
   "outputs": [
    {
     "name": "stdout",
     "output_type": "stream",
     "text": [
      "Precision: 1.0\n",
      "Recall: 0.99\n",
      "f1 measure 0.99\n"
     ]
    }
   ],
   "source": [
    "#inner most core queries using frequency score\n",
    "\n",
    "flat_answers = [item for sublist in answers for item in sublist]\n",
    "occurrences = Counter(flat_answers)\n",
    "th = sorted(occurrences.values(), reverse=True)[k1]\n",
    "final_answer = [k for k,v in occurrences.items() if v>=th]\n",
    "\n",
    "\n",
    "\n",
    "# measures\n",
    "r = precision(len(topG),topG,final_answer)\n",
    "p = precision(len(final_answer),topG, final_answer)\n",
    "print('Precision:', p)\n",
    "print('Recall:', r)\n",
    "print('f1 measure', round(2*p*r/(p+r),2))"
   ]
  },
  {
   "cell_type": "code",
   "execution_count": null,
   "id": "2c6109b3-0221-454d-acfb-0481ea971cf5",
   "metadata": {},
   "outputs": [],
   "source": []
  }
 ],
 "metadata": {
  "environment": {
   "kernel": "conda-root-py",
   "name": "common-cpu.m91",
   "type": "gcloud",
   "uri": "gcr.io/deeplearning-platform-release/base-cpu:m91"
  },
  "kernelspec": {
   "display_name": "Python [conda env:root] *",
   "language": "python",
   "name": "conda-root-py"
  },
  "language_info": {
   "codemirror_mode": {
    "name": "ipython",
    "version": 3
   },
   "file_extension": ".py",
   "mimetype": "text/x-python",
   "name": "python",
   "nbconvert_exporter": "python",
   "pygments_lexer": "ipython3",
   "version": "3.7.12"
  }
 },
 "nbformat": 4,
 "nbformat_minor": 5
}
