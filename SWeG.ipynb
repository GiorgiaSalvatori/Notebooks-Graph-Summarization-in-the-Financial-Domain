{
 "cells": [
  {
   "cell_type": "code",
   "execution_count": 1,
   "id": "17b040a7-5682-4ff0-a82f-5cab462a83c9",
   "metadata": {},
   "outputs": [],
   "source": [
    "import csv\n",
    "import networkx as nx\n",
    "import numpy as np\n",
    "import matplotlib.pyplot as plt\n",
    "import itertools\n",
    "import random\n",
    "from random import sample\n",
    "from tqdm import tqdm\n",
    "import scipy\n",
    "from scipy import sparse\n",
    "from scipy.sparse import *\n",
    "from scipy import *\n",
    "from numpy import linalg\n",
    "from scipy.spatial.distance import hamming\n",
    "import time\n",
    "from networkx.algorithms.community import greedy_modularity_communities\n",
    "import networkx.algorithms.community as nx_comm\n",
    "import collections"
   ]
  },
  {
   "cell_type": "markdown",
   "id": "e3455096-7855-4bac-a0a9-88e49fedd1f3",
   "metadata": {},
   "source": [
    "## Supernodes"
   ]
  },
  {
   "cell_type": "code",
   "execution_count": 2,
   "id": "84e38ab8-f051-43e7-ad31-831d56725edd",
   "metadata": {
    "tags": []
   },
   "outputs": [],
   "source": [
    "# facebook\n",
    "partition_fb = {}\n",
    "with open('fb_SNodes.txt') as file:\n",
    "    for idx, line in enumerate(file):\n",
    "        partition_fb[idx] = list(map(int,line.rstrip().split(' ')))[1:]"
   ]
  },
  {
   "cell_type": "code",
   "execution_count": 3,
   "id": "4a501e51-64f8-4eeb-8bbd-e793007a6a85",
   "metadata": {},
   "outputs": [],
   "source": [
    "# lastfm\n",
    "partition_fm = {}\n",
    "with open('fm_SNodes.txt') as file:\n",
    "    for idx, line in enumerate(file):\n",
    "        partition_fm[idx] = list(map(int,line.rstrip().split(' ')))[1:]"
   ]
  },
  {
   "cell_type": "code",
   "execution_count": 4,
   "id": "6de68613-371d-4884-88e8-406d4a763875",
   "metadata": {},
   "outputs": [],
   "source": [
    "# enron\n",
    "partition_en = {}\n",
    "with open('en_SNodes.txt') as file:\n",
    "    for idx, line in enumerate(file):\n",
    "        partition_en[idx] = list(map(int,line.rstrip().split(' ')))[1:]"
   ]
  },
  {
   "cell_type": "code",
   "execution_count": 5,
   "id": "eba9ec00-1e22-4ec1-9024-bcf6a4a4b93b",
   "metadata": {},
   "outputs": [],
   "source": [
    "#supernodes dictionary\n",
    "\n",
    "supernode_fb = {}\n",
    "for k,v in partition_fb.items():\n",
    "    for el in v:\n",
    "        supernode_fb[el] = k\n",
    "        \n",
    "supernode_fm = {}\n",
    "for k,v in partition_fm.items():\n",
    "    for el in v:\n",
    "        supernode_fm[el] = k\n",
    "        \n",
    "supernode_en = {}\n",
    "for k,v in partition_en.items():\n",
    "    for el in v:\n",
    "        supernode_en[el] = k"
   ]
  },
  {
   "cell_type": "markdown",
   "id": "80e4e0ab-84cf-4096-89a3-f2a8a7705df4",
   "metadata": {
    "tags": []
   },
   "source": [
    "## Summary"
   ]
  },
  {
   "cell_type": "code",
   "execution_count": 6,
   "id": "bd38ad23-9bcd-405f-ac86-c027be7debd1",
   "metadata": {},
   "outputs": [],
   "source": [
    "# nx graph\n",
    "\n",
    "fb = open('fb_S.csv', \"r\")\n",
    "s_fb = nx.parse_edgelist(fb, delimiter=';', create_using=nx.Graph(), nodetype=int)\n",
    "\n",
    "fm = open('fm_S.csv', \"r\")\n",
    "s_fm = nx.parse_edgelist(fm, delimiter=';', create_using=nx.Graph(), nodetype=int)\n",
    "\n",
    "en = open('en_S.csv', \"r\")\n",
    "s_en = nx.parse_edgelist(en, delimiter=';', create_using=nx.Graph(), nodetype=int)"
   ]
  },
  {
   "cell_type": "code",
   "execution_count": 7,
   "id": "12ac1146-b6aa-4469-9c0e-98d900f7e6e5",
   "metadata": {},
   "outputs": [],
   "source": [
    "# adj matrices\n",
    "S_fb = nx.adjacency_matrix(s_fb)\n",
    "\n",
    "S_fm = nx.adjacency_matrix(s_fm)\n",
    "\n",
    "S_en = nx.adjacency_matrix(s_en)"
   ]
  },
  {
   "cell_type": "markdown",
   "id": "854897e2-c408-4271-8062-356837972a45",
   "metadata": {},
   "source": [
    "## Input"
   ]
  },
  {
   "cell_type": "code",
   "execution_count": 8,
   "id": "ec13b9a8-0513-41ed-b5ef-f9cc7f9c59d0",
   "metadata": {},
   "outputs": [],
   "source": [
    "# input graphs\n",
    "\n",
    "FB = open('fb.csv', \"r\")\n",
    "G_fb = nx.parse_edgelist(FB, delimiter=',', create_using=nx.Graph(), nodetype=int)\n",
    "\n",
    "FM = open('lastfm.csv', \"r\")\n",
    "G_fm = nx.parse_edgelist(FM, delimiter=',', create_using=nx.Graph(), nodetype=int)\n",
    "\n",
    "EN = open('en.csv', \"r\")\n",
    "G_en = nx.parse_edgelist(EN, delimiter=',', create_using=nx.Graph(), nodetype=int)"
   ]
  },
  {
   "cell_type": "markdown",
   "id": "e4e57c4c-c0fc-45e2-adb2-d9827304ae65",
   "metadata": {
    "tags": []
   },
   "source": [
    "## Supernodes density"
   ]
  },
  {
   "cell_type": "code",
   "execution_count": 18,
   "id": "a451285f-06a8-4167-b4c5-1459bd7fef37",
   "metadata": {},
   "outputs": [],
   "source": [
    "# cluster : size\n",
    "cluster={}\n",
    "for k,v in partition_en.items():\n",
    "    cluster[k] = len(v)\n",
    "s = np.array([key for key, val in cluster.items() for _ in range(val)])"
   ]
  },
  {
   "cell_type": "code",
   "execution_count": 9,
   "id": "2426efbc-3d47-4066-995e-26ceee44966c",
   "metadata": {},
   "outputs": [],
   "source": [
    "n = 36692\n",
    "k = 6137"
   ]
  },
  {
   "cell_type": "code",
   "execution_count": 10,
   "id": "e7f0ff8a-73f8-4561-ac50-b2f30cb6145a",
   "metadata": {},
   "outputs": [
    {
     "name": "stdout",
     "output_type": "stream",
     "text": [
      "median 2.0\n",
      "mean 6.352589350838803\n",
      "variance 72161.44694260237\n",
      "max 22209\n",
      "max percentage 60.52818052981577\n"
     ]
    }
   ],
   "source": [
    "print('median', np.median(list(cluster.values())))\n",
    "print('mean', np.mean(list(cluster.values())))\n",
    "print('variance', np.var(list(cluster.values())))\n",
    "print('max', np.max(list(cluster.values())))\n",
    "print('max percentage', np.max(list(cluster.values()))/n*100)"
   ]
  },
  {
   "cell_type": "code",
   "execution_count": 11,
   "id": "405bb2be-9718-4c7f-8e81-e64e4f1f1b71",
   "metadata": {},
   "outputs": [
    {
     "data": {
      "image/png": "[encoded data removed]",
      "text/plain": [
       "<Figure size 1008x504 with 1 Axes>"
      ]
     },
     "metadata": {
      "needs_background": "light"
     },
     "output_type": "display_data"
    }
   ],
   "source": [
    "#cluster distribution\n",
    "\n",
    "plt.figure(figsize=(14,7)) # Make it 14x7 inch\n",
    "plt.style.use('seaborn-whitegrid') # nice and clean grid\n",
    "plt.hist(s, bins=k, facecolor = 'yellowgreen', edgecolor='olivedrab',  linewidth=0.5, log=True, label = 'Enron')\n",
    "plt.title('Enron') \n",
    "plt.xlabel('supernodes') \n",
    "plt.ylabel('densities') \n",
    "plt.legend(loc=\"upper right\")\n",
    "plt.show()"
   ]
  },
  {
   "cell_type": "markdown",
   "id": "d8747923-2b91-46c0-b337-e1552d283cbf",
   "metadata": {
    "jp-MarkdownHeadingCollapsed": true,
    "tags": []
   },
   "source": [
    "## Restored Graph"
   ]
  },
  {
   "cell_type": "code",
   "execution_count": 177,
   "id": "3d648dbe-1921-4ac9-a295-23841545d9c0",
   "metadata": {},
   "outputs": [
    {
     "name": "stderr",
     "output_type": "stream",
     "text": [
      "100%|██████████| 4039/4039 [01:14<00:00, 53.98it/s] \n"
     ]
    }
   ],
   "source": [
    "#feasible only with facebook graph\n",
    "n = 4039\n",
    "G_restored_fb = lil_matrix((n, n), dtype=int)\n",
    "for i in tqdm(range(n)):\n",
    "    for j in range(i+1):\n",
    "        G_restored_fb[i,j] = 1 if s_fb.has_edge(supernode_fb[i], supernode_fb[j]) else 0\n",
    "        G_restored_fb[j,i] =  G_restored_fb[i,j]"
   ]
  },
  {
   "cell_type": "markdown",
   "id": "98ae6c95-a686-4b3e-b164-10b4fcfe6814",
   "metadata": {},
   "source": [
    "### L2 Error"
   ]
  },
  {
   "cell_type": "code",
   "execution_count": 184,
   "id": "a98a5a37-8d78-4294-807a-74150c513200",
   "metadata": {},
   "outputs": [],
   "source": [
    "def adj_matrix(edge_list, n, is_directed, is_weighted):\n",
    "    \n",
    "    A = lil_matrix((n,n), dtype=float)\n",
    "    f = open(edge_list)\n",
    "    reader = csv.reader(f)\n",
    "    \n",
    "    for line in reader:\n",
    "        if is_weighted:\n",
    "            A[int(line[0]),int(line[1])] = int(line[2])\n",
    "        else:\n",
    "            A[int(line[0]),int(line[1])] = 1\n",
    "        \n",
    "        if is_directed==False:\n",
    "            A[int(line[1]),int(line[0])] = A[int(line[0]),int(line[1])]  \n",
    "        \n",
    "    return A"
   ]
  },
  {
   "cell_type": "code",
   "execution_count": 185,
   "id": "04c30357-1296-4a0d-8792-60c05b642cdb",
   "metadata": {},
   "outputs": [],
   "source": [
    "A_fb = adj_matrix('fb.csv', 4039, False, False)"
   ]
  },
  {
   "cell_type": "code",
   "execution_count": 186,
   "id": "60512ed2-b2e8-4c18-9e83-deac3b18f861",
   "metadata": {},
   "outputs": [
    {
     "name": "stdout",
     "output_type": "stream",
     "text": [
      "Error l2: with A_S 424\n"
     ]
    }
   ],
   "source": [
    "#l2 error\n",
    "print('Error l2: with A_S', round(linalg.norm(A_fb.A-G_restored_fb.A)))"
   ]
  },
  {
   "cell_type": "markdown",
   "id": "c366e716-1089-41c5-81a1-600215207bcc",
   "metadata": {},
   "source": [
    "### Hamming Distance"
   ]
  },
  {
   "cell_type": "code",
   "execution_count": 193,
   "id": "8aafbc67-b565-448c-8683-193566afcbe0",
   "metadata": {},
   "outputs": [
    {
     "name": "stderr",
     "output_type": "stream",
     "text": [
      "100%|██████████| 4039/4039 [13:52<00:00,  4.85it/s]"
     ]
    },
    {
     "name": "stdout",
     "output_type": "stream",
     "text": [
      "Hamming distance in adjacency queries 44.54270859123545\n"
     ]
    },
    {
     "name": "stderr",
     "output_type": "stream",
     "text": [
      "\n"
     ]
    }
   ],
   "source": [
    "# hamming distance\n",
    "s = 0\n",
    "for i in tqdm(range(n)):\n",
    "    s += hamming(A_fb.A[i,:], G_restored_fb.A[i,:]) * len(A_fb.A)  \n",
    "print(\"Hamming distance in adjacency queries\", s/n)"
   ]
  },
  {
   "cell_type": "markdown",
   "id": "acdd4547-e1fa-4288-b39b-cb9dc0672a5f",
   "metadata": {},
   "source": [
    "### Degree Queries"
   ]
  },
  {
   "cell_type": "code",
   "execution_count": 192,
   "id": "064f34a1-7e1e-4fbb-88bd-280f9c524cd6",
   "metadata": {},
   "outputs": [
    {
     "name": "stderr",
     "output_type": "stream",
     "text": [
      "100%|██████████| 4039/4039 [00:01<00:00, 2208.70it/s]"
     ]
    },
    {
     "name": "stdout",
     "output_type": "stream",
     "text": [
      "Average error in adjacency queries 1.014290450780583\n"
     ]
    },
    {
     "name": "stderr",
     "output_type": "stream",
     "text": [
      "\n"
     ]
    }
   ],
   "source": [
    "#error degree queries percentage\n",
    "s = []\n",
    "\n",
    "for i in tqdm(range(n)):\n",
    "    sumA = np.sum(A_fb[i,:])\n",
    "    sumS = np.sum(G_restored_fb[i,:])\n",
    "    s.append((abs(sumA - sumS))/sumA )\n",
    "    \n",
    "print(\"Average error in adjacency queries\", np.mean(s))"
   ]
  },
  {
   "cell_type": "markdown",
   "id": "05e03022-42fb-4584-994d-9bece6a7347e",
   "metadata": {
    "jp-MarkdownHeadingCollapsed": true,
    "tags": []
   },
   "source": [
    "## Global queries"
   ]
  },
  {
   "cell_type": "code",
   "execution_count": 14,
   "id": "121b7e25-2534-40cc-97b1-7e98fe0950c2",
   "metadata": {
    "collapsed": true,
    "jupyter": {
     "outputs_hidden": true
    },
    "tags": []
   },
   "outputs": [
    {
     "name": "stdout",
     "output_type": "stream",
     "text": [
      "start\n"
     ]
    },
    {
     "ename": "KeyboardInterrupt",
     "evalue": "",
     "output_type": "error",
     "traceback": [
      "\u001b[0;31m---------------------------------------------------------------------------\u001b[0m",
      "\u001b[0;31mKeyboardInterrupt\u001b[0m                         Traceback (most recent call last)",
      "\u001b[0;32m/tmp/ipykernel_13380/2970796109.py\u001b[0m in \u001b[0;36m<module>\u001b[0;34m\u001b[0m\n\u001b[1;32m      5\u001b[0m \u001b[0mt0\u001b[0m \u001b[0;34m=\u001b[0m \u001b[0mtime\u001b[0m\u001b[0;34m.\u001b[0m\u001b[0mtime\u001b[0m\u001b[0;34m(\u001b[0m\u001b[0;34m)\u001b[0m\u001b[0;34m\u001b[0m\u001b[0;34m\u001b[0m\u001b[0m\n\u001b[1;32m      6\u001b[0m \u001b[0mprint\u001b[0m\u001b[0;34m(\u001b[0m\u001b[0;34m'start'\u001b[0m\u001b[0;34m)\u001b[0m\u001b[0;34m\u001b[0m\u001b[0;34m\u001b[0m\u001b[0m\n\u001b[0;32m----> 7\u001b[0;31m \u001b[0mprint\u001b[0m\u001b[0;34m(\u001b[0m\u001b[0;34m'largest cc fm min cut size'\u001b[0m\u001b[0;34m,\u001b[0m \u001b[0mtqdm\u001b[0m\u001b[0;34m(\u001b[0m\u001b[0mlen\u001b[0m\u001b[0;34m(\u001b[0m\u001b[0mnx\u001b[0m\u001b[0;34m.\u001b[0m\u001b[0mminimum_node_cut\u001b[0m\u001b[0;34m(\u001b[0m\u001b[0msubfm\u001b[0m\u001b[0;34m)\u001b[0m\u001b[0;34m)\u001b[0m\u001b[0;34m)\u001b[0m\u001b[0;34m)\u001b[0m\u001b[0;34m\u001b[0m\u001b[0;34m\u001b[0m\u001b[0m\n\u001b[0m\u001b[1;32m      8\u001b[0m \u001b[0mt1\u001b[0m \u001b[0;34m=\u001b[0m \u001b[0mtime\u001b[0m\u001b[0;34m.\u001b[0m\u001b[0mtime\u001b[0m\u001b[0;34m(\u001b[0m\u001b[0;34m)\u001b[0m\u001b[0;34m\u001b[0m\u001b[0;34m\u001b[0m\u001b[0m\n\u001b[1;32m      9\u001b[0m \u001b[0mprint\u001b[0m\u001b[0;34m(\u001b[0m\u001b[0;34m'Running time min cut size fm'\u001b[0m\u001b[0;34m,\u001b[0m \u001b[0mround\u001b[0m\u001b[0;34m(\u001b[0m\u001b[0mt1\u001b[0m\u001b[0;34m-\u001b[0m\u001b[0mt0\u001b[0m\u001b[0;34m,\u001b[0m\u001b[0;36m2\u001b[0m\u001b[0;34m)\u001b[0m\u001b[0;34m)\u001b[0m\u001b[0;34m\u001b[0m\u001b[0;34m\u001b[0m\u001b[0m\n",
      "\u001b[0;32m/opt/conda/lib/python3.7/site-packages/networkx/algorithms/connectivity/cuts.py\u001b[0m in \u001b[0;36mminimum_node_cut\u001b[0;34m(G, s, t, flow_func)\u001b[0m\n\u001b[1;32m    423\u001b[0m     \u001b[0;31m# Compute st node cuts between v and all its non-neighbors nodes in G.\u001b[0m\u001b[0;34m\u001b[0m\u001b[0;34m\u001b[0m\u001b[0;34m\u001b[0m\u001b[0m\n\u001b[1;32m    424\u001b[0m     \u001b[0;32mfor\u001b[0m \u001b[0mw\u001b[0m \u001b[0;32min\u001b[0m \u001b[0mset\u001b[0m\u001b[0;34m(\u001b[0m\u001b[0mG\u001b[0m\u001b[0;34m)\u001b[0m \u001b[0;34m-\u001b[0m \u001b[0mset\u001b[0m\u001b[0;34m(\u001b[0m\u001b[0mneighbors\u001b[0m\u001b[0;34m(\u001b[0m\u001b[0mv\u001b[0m\u001b[0;34m)\u001b[0m\u001b[0;34m)\u001b[0m \u001b[0;34m-\u001b[0m \u001b[0;34m{\u001b[0m\u001b[0mv\u001b[0m\u001b[0;34m}\u001b[0m\u001b[0;34m:\u001b[0m\u001b[0;34m\u001b[0m\u001b[0;34m\u001b[0m\u001b[0m\n\u001b[0;32m--> 425\u001b[0;31m         \u001b[0mthis_cut\u001b[0m \u001b[0;34m=\u001b[0m \u001b[0mminimum_st_node_cut\u001b[0m\u001b[0;34m(\u001b[0m\u001b[0mG\u001b[0m\u001b[0;34m,\u001b[0m \u001b[0mv\u001b[0m\u001b[0;34m,\u001b[0m \u001b[0mw\u001b[0m\u001b[0;34m,\u001b[0m \u001b[0;34m**\u001b[0m\u001b[0mkwargs\u001b[0m\u001b[0;34m)\u001b[0m\u001b[0;34m\u001b[0m\u001b[0;34m\u001b[0m\u001b[0m\n\u001b[0m\u001b[1;32m    426\u001b[0m         \u001b[0;32mif\u001b[0m \u001b[0mlen\u001b[0m\u001b[0;34m(\u001b[0m\u001b[0mmin_cut\u001b[0m\u001b[0;34m)\u001b[0m \u001b[0;34m>=\u001b[0m \u001b[0mlen\u001b[0m\u001b[0;34m(\u001b[0m\u001b[0mthis_cut\u001b[0m\u001b[0;34m)\u001b[0m\u001b[0;34m:\u001b[0m\u001b[0;34m\u001b[0m\u001b[0;34m\u001b[0m\u001b[0m\n\u001b[1;32m    427\u001b[0m             \u001b[0mmin_cut\u001b[0m \u001b[0;34m=\u001b[0m \u001b[0mthis_cut\u001b[0m\u001b[0;34m\u001b[0m\u001b[0;34m\u001b[0m\u001b[0m\n",
      "\u001b[0;32m/opt/conda/lib/python3.7/site-packages/networkx/algorithms/connectivity/cuts.py\u001b[0m in \u001b[0;36mminimum_st_node_cut\u001b[0;34m(G, s, t, flow_func, auxiliary, residual)\u001b[0m\n\u001b[1;32m    286\u001b[0m     \u001b[0;31m# The edge cut in the auxiliary digraph corresponds to the node cut in the\u001b[0m\u001b[0;34m\u001b[0m\u001b[0;34m\u001b[0m\u001b[0;34m\u001b[0m\u001b[0m\n\u001b[1;32m    287\u001b[0m     \u001b[0;31m# original graph.\u001b[0m\u001b[0;34m\u001b[0m\u001b[0;34m\u001b[0m\u001b[0;34m\u001b[0m\u001b[0m\n\u001b[0;32m--> 288\u001b[0;31m     \u001b[0medge_cut\u001b[0m \u001b[0;34m=\u001b[0m \u001b[0mminimum_st_edge_cut\u001b[0m\u001b[0;34m(\u001b[0m\u001b[0mH\u001b[0m\u001b[0;34m,\u001b[0m \u001b[0;34mf\"{mapping[s]}B\"\u001b[0m\u001b[0;34m,\u001b[0m \u001b[0;34mf\"{mapping[t]}A\"\u001b[0m\u001b[0;34m,\u001b[0m \u001b[0;34m**\u001b[0m\u001b[0mkwargs\u001b[0m\u001b[0;34m)\u001b[0m\u001b[0;34m\u001b[0m\u001b[0;34m\u001b[0m\u001b[0m\n\u001b[0m\u001b[1;32m    289\u001b[0m     \u001b[0;31m# Each node in the original graph maps to two nodes of the auxiliary graph\u001b[0m\u001b[0;34m\u001b[0m\u001b[0;34m\u001b[0m\u001b[0;34m\u001b[0m\u001b[0m\n\u001b[1;32m    290\u001b[0m     \u001b[0mnode_cut\u001b[0m \u001b[0;34m=\u001b[0m \u001b[0;34m{\u001b[0m\u001b[0mH\u001b[0m\u001b[0;34m.\u001b[0m\u001b[0mnodes\u001b[0m\u001b[0;34m[\u001b[0m\u001b[0mnode\u001b[0m\u001b[0;34m]\u001b[0m\u001b[0;34m[\u001b[0m\u001b[0;34m\"id\"\u001b[0m\u001b[0;34m]\u001b[0m \u001b[0;32mfor\u001b[0m \u001b[0medge\u001b[0m \u001b[0;32min\u001b[0m \u001b[0medge_cut\u001b[0m \u001b[0;32mfor\u001b[0m \u001b[0mnode\u001b[0m \u001b[0;32min\u001b[0m \u001b[0medge\u001b[0m\u001b[0;34m}\u001b[0m\u001b[0;34m\u001b[0m\u001b[0;34m\u001b[0m\u001b[0m\n",
      "\u001b[0;32m/opt/conda/lib/python3.7/site-packages/networkx/algorithms/connectivity/cuts.py\u001b[0m in \u001b[0;36mminimum_st_edge_cut\u001b[0;34m(G, s, t, flow_func, auxiliary, residual)\u001b[0m\n\u001b[1;32m    143\u001b[0m     \u001b[0mkwargs\u001b[0m \u001b[0;34m=\u001b[0m \u001b[0mdict\u001b[0m\u001b[0;34m(\u001b[0m\u001b[0mcapacity\u001b[0m\u001b[0;34m=\u001b[0m\u001b[0;34m\"capacity\"\u001b[0m\u001b[0;34m,\u001b[0m \u001b[0mflow_func\u001b[0m\u001b[0;34m=\u001b[0m\u001b[0mflow_func\u001b[0m\u001b[0;34m,\u001b[0m \u001b[0mresidual\u001b[0m\u001b[0;34m=\u001b[0m\u001b[0mresidual\u001b[0m\u001b[0;34m)\u001b[0m\u001b[0;34m\u001b[0m\u001b[0;34m\u001b[0m\u001b[0m\n\u001b[1;32m    144\u001b[0m \u001b[0;34m\u001b[0m\u001b[0m\n\u001b[0;32m--> 145\u001b[0;31m     \u001b[0mcut_value\u001b[0m\u001b[0;34m,\u001b[0m \u001b[0mpartition\u001b[0m \u001b[0;34m=\u001b[0m \u001b[0mnx\u001b[0m\u001b[0;34m.\u001b[0m\u001b[0mminimum_cut\u001b[0m\u001b[0;34m(\u001b[0m\u001b[0mH\u001b[0m\u001b[0;34m,\u001b[0m \u001b[0ms\u001b[0m\u001b[0;34m,\u001b[0m \u001b[0mt\u001b[0m\u001b[0;34m,\u001b[0m \u001b[0;34m**\u001b[0m\u001b[0mkwargs\u001b[0m\u001b[0;34m)\u001b[0m\u001b[0;34m\u001b[0m\u001b[0;34m\u001b[0m\u001b[0m\n\u001b[0m\u001b[1;32m    146\u001b[0m     \u001b[0mreachable\u001b[0m\u001b[0;34m,\u001b[0m \u001b[0mnon_reachable\u001b[0m \u001b[0;34m=\u001b[0m \u001b[0mpartition\u001b[0m\u001b[0;34m\u001b[0m\u001b[0;34m\u001b[0m\u001b[0m\n\u001b[1;32m    147\u001b[0m     \u001b[0;31m# Any edge in the original graph linking the two sets in the\u001b[0m\u001b[0;34m\u001b[0m\u001b[0;34m\u001b[0m\u001b[0;34m\u001b[0m\u001b[0m\n",
      "\u001b[0;32m/opt/conda/lib/python3.7/site-packages/networkx/algorithms/flow/maxflow.py\u001b[0m in \u001b[0;36mminimum_cut\u001b[0;34m(flowG, _s, _t, capacity, flow_func, **kwargs)\u001b[0m\n\u001b[1;32m    458\u001b[0m     \u001b[0mR\u001b[0m \u001b[0;34m=\u001b[0m \u001b[0mflow_func\u001b[0m\u001b[0;34m(\u001b[0m\u001b[0mflowG\u001b[0m\u001b[0;34m,\u001b[0m \u001b[0m_s\u001b[0m\u001b[0;34m,\u001b[0m \u001b[0m_t\u001b[0m\u001b[0;34m,\u001b[0m \u001b[0mcapacity\u001b[0m\u001b[0;34m=\u001b[0m\u001b[0mcapacity\u001b[0m\u001b[0;34m,\u001b[0m \u001b[0mvalue_only\u001b[0m\u001b[0;34m=\u001b[0m\u001b[0;32mTrue\u001b[0m\u001b[0;34m,\u001b[0m \u001b[0;34m**\u001b[0m\u001b[0mkwargs\u001b[0m\u001b[0;34m)\u001b[0m\u001b[0;34m\u001b[0m\u001b[0;34m\u001b[0m\u001b[0m\n\u001b[1;32m    459\u001b[0m     \u001b[0;31m# Remove saturated edges from the residual network\u001b[0m\u001b[0;34m\u001b[0m\u001b[0;34m\u001b[0m\u001b[0;34m\u001b[0m\u001b[0m\n\u001b[0;32m--> 460\u001b[0;31m     \u001b[0mcutset\u001b[0m \u001b[0;34m=\u001b[0m \u001b[0;34m[\u001b[0m\u001b[0;34m(\u001b[0m\u001b[0mu\u001b[0m\u001b[0;34m,\u001b[0m \u001b[0mv\u001b[0m\u001b[0;34m,\u001b[0m \u001b[0md\u001b[0m\u001b[0;34m)\u001b[0m \u001b[0;32mfor\u001b[0m \u001b[0mu\u001b[0m\u001b[0;34m,\u001b[0m \u001b[0mv\u001b[0m\u001b[0;34m,\u001b[0m \u001b[0md\u001b[0m \u001b[0;32min\u001b[0m \u001b[0mR\u001b[0m\u001b[0;34m.\u001b[0m\u001b[0medges\u001b[0m\u001b[0;34m(\u001b[0m\u001b[0mdata\u001b[0m\u001b[0;34m=\u001b[0m\u001b[0;32mTrue\u001b[0m\u001b[0;34m)\u001b[0m \u001b[0;32mif\u001b[0m \u001b[0md\u001b[0m\u001b[0;34m[\u001b[0m\u001b[0;34m\"flow\"\u001b[0m\u001b[0;34m]\u001b[0m \u001b[0;34m==\u001b[0m \u001b[0md\u001b[0m\u001b[0;34m[\u001b[0m\u001b[0;34m\"capacity\"\u001b[0m\u001b[0;34m]\u001b[0m\u001b[0;34m]\u001b[0m\u001b[0;34m\u001b[0m\u001b[0;34m\u001b[0m\u001b[0m\n\u001b[0m\u001b[1;32m    461\u001b[0m     \u001b[0mR\u001b[0m\u001b[0;34m.\u001b[0m\u001b[0mremove_edges_from\u001b[0m\u001b[0;34m(\u001b[0m\u001b[0mcutset\u001b[0m\u001b[0;34m)\u001b[0m\u001b[0;34m\u001b[0m\u001b[0;34m\u001b[0m\u001b[0m\n\u001b[1;32m    462\u001b[0m \u001b[0;34m\u001b[0m\u001b[0m\n",
      "\u001b[0;32m/opt/conda/lib/python3.7/site-packages/networkx/algorithms/flow/maxflow.py\u001b[0m in \u001b[0;36m<listcomp>\u001b[0;34m(.0)\u001b[0m\n\u001b[1;32m    458\u001b[0m     \u001b[0mR\u001b[0m \u001b[0;34m=\u001b[0m \u001b[0mflow_func\u001b[0m\u001b[0;34m(\u001b[0m\u001b[0mflowG\u001b[0m\u001b[0;34m,\u001b[0m \u001b[0m_s\u001b[0m\u001b[0;34m,\u001b[0m \u001b[0m_t\u001b[0m\u001b[0;34m,\u001b[0m \u001b[0mcapacity\u001b[0m\u001b[0;34m=\u001b[0m\u001b[0mcapacity\u001b[0m\u001b[0;34m,\u001b[0m \u001b[0mvalue_only\u001b[0m\u001b[0;34m=\u001b[0m\u001b[0;32mTrue\u001b[0m\u001b[0;34m,\u001b[0m \u001b[0;34m**\u001b[0m\u001b[0mkwargs\u001b[0m\u001b[0;34m)\u001b[0m\u001b[0;34m\u001b[0m\u001b[0;34m\u001b[0m\u001b[0m\n\u001b[1;32m    459\u001b[0m     \u001b[0;31m# Remove saturated edges from the residual network\u001b[0m\u001b[0;34m\u001b[0m\u001b[0;34m\u001b[0m\u001b[0;34m\u001b[0m\u001b[0m\n\u001b[0;32m--> 460\u001b[0;31m     \u001b[0mcutset\u001b[0m \u001b[0;34m=\u001b[0m \u001b[0;34m[\u001b[0m\u001b[0;34m(\u001b[0m\u001b[0mu\u001b[0m\u001b[0;34m,\u001b[0m \u001b[0mv\u001b[0m\u001b[0;34m,\u001b[0m \u001b[0md\u001b[0m\u001b[0;34m)\u001b[0m \u001b[0;32mfor\u001b[0m \u001b[0mu\u001b[0m\u001b[0;34m,\u001b[0m \u001b[0mv\u001b[0m\u001b[0;34m,\u001b[0m \u001b[0md\u001b[0m \u001b[0;32min\u001b[0m \u001b[0mR\u001b[0m\u001b[0;34m.\u001b[0m\u001b[0medges\u001b[0m\u001b[0;34m(\u001b[0m\u001b[0mdata\u001b[0m\u001b[0;34m=\u001b[0m\u001b[0;32mTrue\u001b[0m\u001b[0;34m)\u001b[0m \u001b[0;32mif\u001b[0m \u001b[0md\u001b[0m\u001b[0;34m[\u001b[0m\u001b[0;34m\"flow\"\u001b[0m\u001b[0;34m]\u001b[0m \u001b[0;34m==\u001b[0m \u001b[0md\u001b[0m\u001b[0;34m[\u001b[0m\u001b[0;34m\"capacity\"\u001b[0m\u001b[0;34m]\u001b[0m\u001b[0;34m]\u001b[0m\u001b[0;34m\u001b[0m\u001b[0;34m\u001b[0m\u001b[0m\n\u001b[0m\u001b[1;32m    461\u001b[0m     \u001b[0mR\u001b[0m\u001b[0;34m.\u001b[0m\u001b[0mremove_edges_from\u001b[0m\u001b[0;34m(\u001b[0m\u001b[0mcutset\u001b[0m\u001b[0;34m)\u001b[0m\u001b[0;34m\u001b[0m\u001b[0;34m\u001b[0m\u001b[0m\n\u001b[1;32m    462\u001b[0m \u001b[0;34m\u001b[0m\u001b[0m\n",
      "\u001b[0;32m/opt/conda/lib/python3.7/site-packages/networkx/classes/reportviews.py\u001b[0m in \u001b[0;36m<genexpr>\u001b[0;34m(.0)\u001b[0m\n\u001b[1;32m    727\u001b[0m             \u001b[0mself\u001b[0m\u001b[0;34m.\u001b[0m\u001b[0m_report\u001b[0m\u001b[0;34m(\u001b[0m\u001b[0mn\u001b[0m\u001b[0;34m,\u001b[0m \u001b[0mnbr\u001b[0m\u001b[0;34m,\u001b[0m \u001b[0mdd\u001b[0m\u001b[0;34m)\u001b[0m\u001b[0;34m\u001b[0m\u001b[0;34m\u001b[0m\u001b[0m\n\u001b[1;32m    728\u001b[0m             \u001b[0;32mfor\u001b[0m \u001b[0mn\u001b[0m\u001b[0;34m,\u001b[0m \u001b[0mnbrs\u001b[0m \u001b[0;32min\u001b[0m \u001b[0mself\u001b[0m\u001b[0;34m.\u001b[0m\u001b[0m_nodes_nbrs\u001b[0m\u001b[0;34m(\u001b[0m\u001b[0;34m)\u001b[0m\u001b[0;34m\u001b[0m\u001b[0;34m\u001b[0m\u001b[0m\n\u001b[0;32m--> 729\u001b[0;31m             \u001b[0;32mfor\u001b[0m \u001b[0mnbr\u001b[0m\u001b[0;34m,\u001b[0m \u001b[0mdd\u001b[0m \u001b[0;32min\u001b[0m \u001b[0mnbrs\u001b[0m\u001b[0;34m.\u001b[0m\u001b[0mitems\u001b[0m\u001b[0;34m(\u001b[0m\u001b[0;34m)\u001b[0m\u001b[0;34m\u001b[0m\u001b[0;34m\u001b[0m\u001b[0m\n\u001b[0m\u001b[1;32m    730\u001b[0m         )\n\u001b[1;32m    731\u001b[0m \u001b[0;34m\u001b[0m\u001b[0m\n",
      "\u001b[0;32m/opt/conda/lib/python3.7/site-packages/networkx/classes/reportviews.py\u001b[0m in \u001b[0;36m<lambda>\u001b[0;34m(n, nbr, dd)\u001b[0m\n\u001b[1;32m    710\u001b[0m         \u001b[0;31m# Set _report based on data and default\u001b[0m\u001b[0;34m\u001b[0m\u001b[0;34m\u001b[0m\u001b[0;34m\u001b[0m\u001b[0m\n\u001b[1;32m    711\u001b[0m         \u001b[0;32mif\u001b[0m \u001b[0mdata\u001b[0m \u001b[0;32mis\u001b[0m \u001b[0;32mTrue\u001b[0m\u001b[0;34m:\u001b[0m\u001b[0;34m\u001b[0m\u001b[0;34m\u001b[0m\u001b[0m\n\u001b[0;32m--> 712\u001b[0;31m             \u001b[0mself\u001b[0m\u001b[0;34m.\u001b[0m\u001b[0m_report\u001b[0m \u001b[0;34m=\u001b[0m \u001b[0;32mlambda\u001b[0m \u001b[0mn\u001b[0m\u001b[0;34m,\u001b[0m \u001b[0mnbr\u001b[0m\u001b[0;34m,\u001b[0m \u001b[0mdd\u001b[0m\u001b[0;34m:\u001b[0m \u001b[0;34m(\u001b[0m\u001b[0mn\u001b[0m\u001b[0;34m,\u001b[0m \u001b[0mnbr\u001b[0m\u001b[0;34m,\u001b[0m \u001b[0mdd\u001b[0m\u001b[0;34m)\u001b[0m\u001b[0;34m\u001b[0m\u001b[0;34m\u001b[0m\u001b[0m\n\u001b[0m\u001b[1;32m    713\u001b[0m         \u001b[0;32melif\u001b[0m \u001b[0mdata\u001b[0m \u001b[0;32mis\u001b[0m \u001b[0;32mFalse\u001b[0m\u001b[0;34m:\u001b[0m\u001b[0;34m\u001b[0m\u001b[0;34m\u001b[0m\u001b[0m\n\u001b[1;32m    714\u001b[0m             \u001b[0mself\u001b[0m\u001b[0;34m.\u001b[0m\u001b[0m_report\u001b[0m \u001b[0;34m=\u001b[0m \u001b[0;32mlambda\u001b[0m \u001b[0mn\u001b[0m\u001b[0;34m,\u001b[0m \u001b[0mnbr\u001b[0m\u001b[0;34m,\u001b[0m \u001b[0mdd\u001b[0m\u001b[0;34m:\u001b[0m \u001b[0;34m(\u001b[0m\u001b[0mn\u001b[0m\u001b[0;34m,\u001b[0m \u001b[0mnbr\u001b[0m\u001b[0;34m)\u001b[0m\u001b[0;34m\u001b[0m\u001b[0;34m\u001b[0m\u001b[0m\n",
      "\u001b[0;31mKeyboardInterrupt\u001b[0m: "
     ]
    }
   ],
   "source": [
    "# largest cc diamter and min cut size\n",
    "largest_cc = max(nx.connected_components(G_fm), key=len)\n",
    "subfm = G_fm.subgraph(largest_cc)\n",
    "\n",
    "t0 = time.time()\n",
    "print('start')\n",
    "print('largest cc fm min cut size', tqdm(len(nx.minimum_node_cut(subfm))))\n",
    "t1 = time.time()\n",
    "print('Running time min cut size fm', round(t1-t0,2))\n",
    "\n",
    "largest_cc = max(nx.connected_components(G_en), key=len)\n",
    "suben = G_en.subgraph(largest_cc)\n",
    "\n",
    "t0 = time.time()\n",
    "print('largest cc diameter', nx.diameter(suben))\n",
    "t1 = time.time()\n",
    "print('Running time diameter en', round(t1-t0,2))\n",
    "\n",
    "\n",
    "t0 = time.time()\n",
    "print('largest cc min cut size', len(nx.minimum_node_cut(suben)))\n",
    "t1 = time.time()\n",
    "print('Running time min cut size en', round(t1-t0,2))"
   ]
  },
  {
   "cell_type": "code",
   "execution_count": 38,
   "id": "54ed70fd-ad71-4f71-a3be-46ce53f8fdae",
   "metadata": {
    "tags": []
   },
   "outputs": [
    {
     "name": "stdout",
     "output_type": "stream",
     "text": [
      "60.26\n"
     ]
    }
   ],
   "source": [
    "# minimum cut\n",
    "t0 = time.time()\n",
    "nx.minimum_node_cut(s_fb)\n",
    "t1 = time.time()\n",
    "print(round(t1-t0,2))"
   ]
  },
  {
   "cell_type": "code",
   "execution_count": 39,
   "id": "bfee00f1-8dbf-4747-b1ee-e3ea51e52203",
   "metadata": {
    "tags": []
   },
   "outputs": [
    {
     "name": "stdout",
     "output_type": "stream",
     "text": [
      "31\n",
      "17.28\n"
     ]
    }
   ],
   "source": [
    "#diameter\n",
    "t0 = time.time()\n",
    "print(nx.diameter(s_fb))\n",
    "t1 = time.time()\n",
    "print(round(t1-t0,2))"
   ]
  },
  {
   "cell_type": "code",
   "execution_count": 40,
   "id": "8ce0d186-51fb-4850-bd97-5fed21c89d80",
   "metadata": {},
   "outputs": [
    {
     "name": "stdout",
     "output_type": "stream",
     "text": [
      "0.07\n"
     ]
    }
   ],
   "source": [
    "#average clustering\n",
    "t0 = time.time()\n",
    "nx.average_clustering(s_fb)\n",
    "t1 = time.time()\n",
    "print(round(t1-t0,2))"
   ]
  },
  {
   "cell_type": "markdown",
   "id": "b6ac74f0-3099-4167-a049-f96bc07126f6",
   "metadata": {
    "jp-MarkdownHeadingCollapsed": true,
    "tags": []
   },
   "source": [
    "## Centrality measures"
   ]
  },
  {
   "cell_type": "code",
   "execution_count": 9,
   "id": "6119ca1b-e4f6-402d-b1cd-098028550e52",
   "metadata": {
    "tags": []
   },
   "outputs": [],
   "source": [
    "def precision(k, l1, l2):\n",
    "    l3 = [value for value in l1 if value in l2]\n",
    "    intersect = len(l3)\n",
    "    return intersect/k"
   ]
  },
  {
   "cell_type": "code",
   "execution_count": 120,
   "id": "432f67c3-f2ed-436f-90b0-f3ce811c9bd6",
   "metadata": {},
   "outputs": [],
   "source": [
    "partition = partition_en\n",
    "S = S_en"
   ]
  },
  {
   "cell_type": "code",
   "execution_count": 117,
   "id": "3e0527fc-c337-4590-8148-ebc95a1be9f5",
   "metadata": {
    "tags": []
   },
   "outputs": [],
   "source": [
    "prG = nx.closeness_centrality(G_en)\n",
    "prS = nx.closeness_centrality(s_en)"
   ]
  },
  {
   "cell_type": "code",
   "execution_count": 35,
   "id": "e36e0825-0a0a-4fcf-b298-f5663c328773",
   "metadata": {},
   "outputs": [],
   "source": [
    "#normalization for pagerank\n",
    "for i in prS.keys():\n",
    "    prS[i] = prS[i]/len(partition[i])"
   ]
  },
  {
   "cell_type": "code",
   "execution_count": 65,
   "id": "6f1f3a79-dbfa-4266-9ebd-1f8060155c6b",
   "metadata": {
    "tags": []
   },
   "outputs": [],
   "source": [
    "#normalization for the degree centrality\n",
    "for idx,i in enumerate(prS.keys()):\n",
    "    if S[idx,idx] !=0:\n",
    "        prS[i] = prS[i] + (len(partition[i]) - 1)#*S_prob[i,i]"
   ]
  },
  {
   "cell_type": "code",
   "execution_count": 121,
   "id": "0cf8186b-b628-4321-93eb-3eb11b7b8f7b",
   "metadata": {
    "tags": []
   },
   "outputs": [],
   "source": [
    "#assign the centrality of the supernode to the nodes inside it\n",
    "prSG = {}\n",
    "for k,v in prS.items():\n",
    "    for el in partition[k]:\n",
    "        prSG[el] = v"
   ]
  },
  {
   "cell_type": "code",
   "execution_count": 127,
   "id": "20c736b1-e391-42c8-8a92-bff4e4072636",
   "metadata": {},
   "outputs": [
    {
     "name": "stdout",
     "output_type": "stream",
     "text": [
      "Precision: 0.0\n",
      "Recall: 0.0\n"
     ]
    },
    {
     "ename": "ZeroDivisionError",
     "evalue": "float division by zero",
     "output_type": "error",
     "traceback": [
      "\u001b[0;31m---------------------------------------------------------------------------\u001b[0m",
      "\u001b[0;31mZeroDivisionError\u001b[0m                         Traceback (most recent call last)",
      "\u001b[0;32m/tmp/ipykernel_25418/2989289321.py\u001b[0m in \u001b[0;36m<module>\u001b[0;34m\u001b[0m\n\u001b[1;32m      8\u001b[0m \u001b[0mprint\u001b[0m\u001b[0;34m(\u001b[0m\u001b[0;34m'Precision:'\u001b[0m\u001b[0;34m,\u001b[0m \u001b[0mp\u001b[0m\u001b[0;34m)\u001b[0m\u001b[0;34m\u001b[0m\u001b[0;34m\u001b[0m\u001b[0m\n\u001b[1;32m      9\u001b[0m \u001b[0mprint\u001b[0m\u001b[0;34m(\u001b[0m\u001b[0;34m'Recall:'\u001b[0m\u001b[0;34m,\u001b[0m \u001b[0mr\u001b[0m\u001b[0;34m)\u001b[0m\u001b[0;34m\u001b[0m\u001b[0;34m\u001b[0m\u001b[0m\n\u001b[0;32m---> 10\u001b[0;31m \u001b[0mprint\u001b[0m\u001b[0;34m(\u001b[0m\u001b[0;34m'f1 measure'\u001b[0m\u001b[0;34m,\u001b[0m \u001b[0;36m2\u001b[0m\u001b[0;34m*\u001b[0m\u001b[0mp\u001b[0m\u001b[0;34m*\u001b[0m\u001b[0mr\u001b[0m\u001b[0;34m/\u001b[0m\u001b[0;34m(\u001b[0m\u001b[0mp\u001b[0m\u001b[0;34m+\u001b[0m\u001b[0mr\u001b[0m\u001b[0;34m)\u001b[0m\u001b[0;34m)\u001b[0m\u001b[0;34m\u001b[0m\u001b[0;34m\u001b[0m\u001b[0m\n\u001b[0m",
      "\u001b[0;31mZeroDivisionError\u001b[0m: float division by zero"
     ]
    }
   ],
   "source": [
    "# precision, recall and F1-measure\n",
    "th = sorted(list(prSG.values()), reverse=True)[199]\n",
    "for idx,el in enumerate(sorted(list(prSG.values()), reverse=True)):\n",
    "    if el<th:\n",
    "        print(idx)\n",
    "        k2 = idx\n",
    "        break\n",
    "        \n",
    "k1 = 200\n",
    "l1 = sorted(prG, key=prG.get, reverse=True)[:k1]\n",
    "l2 = sorted(prSG, key=prSG.get, reverse=True)[:k2]\n",
    "\n",
    "# measures\n",
    "r = precision(k1,l1,l2)\n",
    "p = precision(k2,l1,l2)\n",
    "print('Precision:', p)\n",
    "print('Recall:', r)\n",
    "print('f1 measure', 2*p*r/(p+r))"
   ]
  },
  {
   "cell_type": "markdown",
   "id": "8b22ae0e-51d4-46b2-a02a-e181ea261d35",
   "metadata": {
    "jp-MarkdownHeadingCollapsed": true,
    "tags": []
   },
   "source": [
    "## Triangles"
   ]
  },
  {
   "cell_type": "code",
   "execution_count": 30,
   "id": "2ccde9c6-40df-45bd-84c0-8a9941f36328",
   "metadata": {
    "collapsed": true,
    "jupyter": {
     "outputs_hidden": true
    },
    "tags": []
   },
   "outputs": [
    {
     "name": "stderr",
     "output_type": "stream",
     "text": [
      "/opt/conda/lib/python3.7/site-packages/ipykernel_launcher.py:1: DeprecationWarning: scipy.sum is deprecated and will be removed in SciPy 2.0.0, use numpy.sum instead\n",
      "  \"\"\"Entry point for launching an IPython kernel.\n"
     ]
    },
    {
     "ename": "TypeError",
     "evalue": "unsupported operand type(s) for /: 'dict_values' and 'int'",
     "output_type": "error",
     "traceback": [
      "\u001b[0;31m---------------------------------------------------------------------------\u001b[0m",
      "\u001b[0;31mTypeError\u001b[0m                                 Traceback (most recent call last)",
      "\u001b[0;32m/tmp/ipykernel_18893/2474282206.py\u001b[0m in \u001b[0;36m<module>\u001b[0;34m\u001b[0m\n\u001b[0;32m----> 1\u001b[0;31m \u001b[0mprint\u001b[0m\u001b[0;34m(\u001b[0m\u001b[0;34m'Input triangles'\u001b[0m\u001b[0;34m,\u001b[0m \u001b[0msum\u001b[0m\u001b[0;34m(\u001b[0m\u001b[0mnx\u001b[0m\u001b[0;34m.\u001b[0m\u001b[0mtriangles\u001b[0m\u001b[0;34m(\u001b[0m\u001b[0mG_en\u001b[0m\u001b[0;34m)\u001b[0m\u001b[0;34m.\u001b[0m\u001b[0mvalues\u001b[0m\u001b[0;34m(\u001b[0m\u001b[0;34m)\u001b[0m\u001b[0;34m)\u001b[0m \u001b[0;34m/\u001b[0m \u001b[0;36m3\u001b[0m\u001b[0;34m)\u001b[0m\u001b[0;34m\u001b[0m\u001b[0;34m\u001b[0m\u001b[0m\n\u001b[0m\u001b[1;32m      2\u001b[0m \u001b[0mprint\u001b[0m\u001b[0;34m(\u001b[0m\u001b[0;34m'Summary triangles'\u001b[0m\u001b[0;34m,\u001b[0m \u001b[0msum\u001b[0m\u001b[0;34m(\u001b[0m\u001b[0mnx\u001b[0m\u001b[0;34m.\u001b[0m\u001b[0mtriangles\u001b[0m\u001b[0;34m(\u001b[0m\u001b[0ms_en\u001b[0m\u001b[0;34m)\u001b[0m\u001b[0;34m.\u001b[0m\u001b[0mvalues\u001b[0m\u001b[0;34m(\u001b[0m\u001b[0;34m)\u001b[0m\u001b[0;34m)\u001b[0m \u001b[0;34m/\u001b[0m \u001b[0;36m3\u001b[0m\u001b[0;34m)\u001b[0m\u001b[0;34m\u001b[0m\u001b[0;34m\u001b[0m\u001b[0m\n",
      "\u001b[0;31mTypeError\u001b[0m: unsupported operand type(s) for /: 'dict_values' and 'int'"
     ]
    }
   ],
   "source": [
    "print('Input triangles', sum(nx.triangles(G_en).values()) / 3)\n",
    "print('Summary triangles', sum(nx.triangles(s_en).values()) / 3)"
   ]
  },
  {
   "cell_type": "code",
   "execution_count": 210,
   "id": "6bf89f3e-89c8-4665-9225-cbc4fbeeae78",
   "metadata": {},
   "outputs": [],
   "source": [
    "partition = partition_en\n",
    "s = s_en\n",
    "k = 6135"
   ]
  },
  {
   "cell_type": "code",
   "execution_count": 215,
   "id": "755fc782-0910-4732-93f2-9359005b4bc8",
   "metadata": {
    "tags": []
   },
   "outputs": [
    {
     "name": "stderr",
     "output_type": "stream",
     "text": [
      " 12%|█▏        | 721/6135 [5:35:05<41:56:11, 27.89s/it]\n"
     ]
    },
    {
     "ename": "KeyboardInterrupt",
     "evalue": "",
     "output_type": "error",
     "traceback": [
      "\u001b[0;31m---------------------------------------------------------------------------\u001b[0m",
      "\u001b[0;31mKeyboardInterrupt\u001b[0m                         Traceback (most recent call last)",
      "\u001b[0;32m/tmp/ipykernel_15106/1276934701.py\u001b[0m in \u001b[0;36m<module>\u001b[0;34m\u001b[0m\n\u001b[1;32m     12\u001b[0m         \u001b[0mt\u001b[0m \u001b[0;34m+=\u001b[0m \u001b[0mpi_ij\u001b[0m\u001b[0;34m**\u001b[0m\u001b[0;36m2\u001b[0m\u001b[0;34m*\u001b[0m\u001b[0;34m(\u001b[0m\u001b[0mscipy\u001b[0m\u001b[0;34m.\u001b[0m\u001b[0mspecial\u001b[0m\u001b[0;34m.\u001b[0m\u001b[0mbinom\u001b[0m\u001b[0;34m(\u001b[0m\u001b[0mn_i\u001b[0m\u001b[0;34m,\u001b[0m\u001b[0;36m2\u001b[0m\u001b[0;34m)\u001b[0m\u001b[0;34m*\u001b[0m\u001b[0mn_j\u001b[0m\u001b[0;34m*\u001b[0m\u001b[0mpi_ii\u001b[0m \u001b[0;34m+\u001b[0m \u001b[0mscipy\u001b[0m\u001b[0;34m.\u001b[0m\u001b[0mspecial\u001b[0m\u001b[0;34m.\u001b[0m\u001b[0mbinom\u001b[0m\u001b[0;34m(\u001b[0m\u001b[0mn_j\u001b[0m\u001b[0;34m,\u001b[0m\u001b[0;36m2\u001b[0m\u001b[0;34m)\u001b[0m\u001b[0;34m*\u001b[0m\u001b[0mn_i\u001b[0m\u001b[0;34m*\u001b[0m\u001b[0mpi_jj\u001b[0m\u001b[0;34m)\u001b[0m\u001b[0;34m\u001b[0m\u001b[0;34m\u001b[0m\u001b[0m\n\u001b[1;32m     13\u001b[0m         \u001b[0;32mfor\u001b[0m \u001b[0mw\u001b[0m \u001b[0;32min\u001b[0m \u001b[0mrange\u001b[0m\u001b[0;34m(\u001b[0m\u001b[0mj\u001b[0m\u001b[0;34m+\u001b[0m\u001b[0;36m1\u001b[0m\u001b[0;34m,\u001b[0m\u001b[0mk\u001b[0m\u001b[0;34m)\u001b[0m\u001b[0;34m:\u001b[0m\u001b[0;34m\u001b[0m\u001b[0;34m\u001b[0m\u001b[0m\n\u001b[0;32m---> 14\u001b[0;31m             \u001b[0mn_w\u001b[0m \u001b[0;34m=\u001b[0m \u001b[0mlen\u001b[0m\u001b[0;34m(\u001b[0m\u001b[0mpartition\u001b[0m\u001b[0;34m[\u001b[0m\u001b[0mw\u001b[0m\u001b[0;34m]\u001b[0m\u001b[0;34m)\u001b[0m\u001b[0;34m\u001b[0m\u001b[0;34m\u001b[0m\u001b[0m\n\u001b[0m\u001b[1;32m     15\u001b[0m             \u001b[0mpi_jw\u001b[0m \u001b[0;34m=\u001b[0m \u001b[0;36m1\u001b[0m \u001b[0;32mif\u001b[0m \u001b[0ms\u001b[0m\u001b[0;34m.\u001b[0m\u001b[0mhas_edge\u001b[0m\u001b[0;34m(\u001b[0m\u001b[0mj\u001b[0m\u001b[0;34m,\u001b[0m\u001b[0mw\u001b[0m\u001b[0;34m)\u001b[0m \u001b[0;32melse\u001b[0m \u001b[0;36m0\u001b[0m\u001b[0;34m\u001b[0m\u001b[0;34m\u001b[0m\u001b[0m\n\u001b[1;32m     16\u001b[0m             \u001b[0mpi_wi\u001b[0m \u001b[0;34m=\u001b[0m \u001b[0;36m1\u001b[0m \u001b[0;32mif\u001b[0m \u001b[0ms\u001b[0m\u001b[0;34m.\u001b[0m\u001b[0mhas_edge\u001b[0m\u001b[0;34m(\u001b[0m\u001b[0mw\u001b[0m\u001b[0;34m,\u001b[0m\u001b[0mi\u001b[0m\u001b[0;34m)\u001b[0m \u001b[0;32melse\u001b[0m \u001b[0;36m0\u001b[0m\u001b[0;34m\u001b[0m\u001b[0;34m\u001b[0m\u001b[0m\n",
      "\u001b[0;31mKeyboardInterrupt\u001b[0m: "
     ]
    }
   ],
   "source": [
    "#Riondato\n",
    "t0=time.time()\n",
    "t = 0\n",
    "for i in tqdm(range(k)):\n",
    "    n_i = len(partition[i])\n",
    "    pi_ii = n_i / (n_i - 1) if n_i > 1 and s.has_edge(i,i) else 0\n",
    "    t += scipy.special.binom(n_i,3) * pi_ii**3\n",
    "    for j in range(i+1, k):\n",
    "        pi_ij = 1 if s.has_edge(i,j) else 0\n",
    "        n_j = len(partition[j])\n",
    "        pi_jj = n_i / (n_i - 1) if n_i > 1 and s.has_edge(j,j) else 0\n",
    "        t += pi_ij**2*(scipy.special.binom(n_i,2)*n_j*pi_ii + scipy.special.binom(n_j,2)*n_i*pi_jj)\n",
    "        for w in range(j+1,k):\n",
    "            n_w = len(partition[w])\n",
    "            pi_jw = 1 if s.has_edge(j,w) else 0\n",
    "            pi_wi = 1 if s.has_edge(w,i) else 0\n",
    "            t += n_i*n_j*n_w*pi_ij*pi_jw*pi_wi\n",
    "print(\"Expected Number of triangles: \", round(t))\n",
    "t1 = time.time()\n",
    "print('Running time', round(t1-t0,2))"
   ]
  },
  {
   "cell_type": "code",
   "execution_count": 216,
   "id": "4135e96c-2de8-456c-9ba2-425de159d6e8",
   "metadata": {},
   "outputs": [
    {
     "name": "stdout",
     "output_type": "stream",
     "text": [
      "Running time 20113.73\n"
     ]
    }
   ],
   "source": [
    "t1 = time.time()\n",
    "print('Running time', round(t1-t0,2))"
   ]
  },
  {
   "cell_type": "markdown",
   "id": "e442d852-6f4a-4dc7-a383-47b811b0aeae",
   "metadata": {
    "jp-MarkdownHeadingCollapsed": true,
    "tags": []
   },
   "source": [
    "## Core decomposition"
   ]
  },
  {
   "cell_type": "code",
   "execution_count": 216,
   "id": "a2048e87-d024-4672-a01e-391e63ba7fe4",
   "metadata": {},
   "outputs": [],
   "source": [
    "coreG = nx.core_number(G_en)"
   ]
  },
  {
   "cell_type": "code",
   "execution_count": 217,
   "id": "cd073b89-7574-4940-a19b-88f0d6fbd509",
   "metadata": {},
   "outputs": [],
   "source": [
    "s_en.remove_edges_from(nx.selfloop_edges(s_en))\n",
    "coreS = nx.core_number(s_en)"
   ]
  },
  {
   "cell_type": "code",
   "execution_count": 218,
   "id": "a2b4e36e-4ef6-4d21-8fa4-fff59c02a25f",
   "metadata": {},
   "outputs": [],
   "source": [
    "coreS_dict = {}\n",
    "for k, v in coreS.items():\n",
    "    for node in partition_en[k]:\n",
    "        coreS_dict[node] = v "
   ]
  },
  {
   "cell_type": "code",
   "execution_count": 219,
   "id": "44970dfa-8026-4236-b134-b2b61f1fe845",
   "metadata": {
    "collapsed": true,
    "jupyter": {
     "outputs_hidden": true
    },
    "tags": []
   },
   "outputs": [
    {
     "name": "stdout",
     "output_type": "stream",
     "text": [
      "Precision: 0.0\n",
      "Recall: 0.0\n"
     ]
    },
    {
     "ename": "ZeroDivisionError",
     "evalue": "float division by zero",
     "output_type": "error",
     "traceback": [
      "\u001b[0;31m---------------------------------------------------------------------------\u001b[0m",
      "\u001b[0;31mZeroDivisionError\u001b[0m                         Traceback (most recent call last)",
      "\u001b[0;32m/tmp/ipykernel_5332/3117497255.py\u001b[0m in \u001b[0;36m<module>\u001b[0;34m\u001b[0m\n\u001b[1;32m      9\u001b[0m \u001b[0mprint\u001b[0m\u001b[0;34m(\u001b[0m\u001b[0;34m'Precision:'\u001b[0m\u001b[0;34m,\u001b[0m \u001b[0mp\u001b[0m\u001b[0;34m)\u001b[0m\u001b[0;34m\u001b[0m\u001b[0;34m\u001b[0m\u001b[0m\n\u001b[1;32m     10\u001b[0m \u001b[0mprint\u001b[0m\u001b[0;34m(\u001b[0m\u001b[0;34m'Recall:'\u001b[0m\u001b[0;34m,\u001b[0m \u001b[0mr\u001b[0m\u001b[0;34m)\u001b[0m\u001b[0;34m\u001b[0m\u001b[0;34m\u001b[0m\u001b[0m\n\u001b[0;32m---> 11\u001b[0;31m \u001b[0mprint\u001b[0m\u001b[0;34m(\u001b[0m\u001b[0;34m'f1 measure'\u001b[0m\u001b[0;34m,\u001b[0m \u001b[0;36m2\u001b[0m\u001b[0;34m*\u001b[0m\u001b[0mp\u001b[0m\u001b[0;34m*\u001b[0m\u001b[0mr\u001b[0m\u001b[0;34m/\u001b[0m\u001b[0;34m(\u001b[0m\u001b[0mp\u001b[0m\u001b[0;34m+\u001b[0m\u001b[0mr\u001b[0m\u001b[0;34m)\u001b[0m\u001b[0;34m)\u001b[0m\u001b[0;34m\u001b[0m\u001b[0;34m\u001b[0m\u001b[0m\n\u001b[0m",
      "\u001b[0;31mZeroDivisionError\u001b[0m: float division by zero"
     ]
    }
   ],
   "source": [
    "#inner most core\n",
    "\n",
    "l1 = [k for k in coreG.keys() if coreG[k]==max(coreG.values())]\n",
    "l2 = [k for k in coreS_dict.keys() if coreS_dict[k]==max(coreS_dict.values())]\n",
    "\n",
    "# measures\n",
    "r = precision(len(l1),l1,l2)\n",
    "p = precision(len(l2),l1,l2)\n",
    "print('Precision:', p)\n",
    "print('Recall:', r)\n",
    "print('f1 measure', 2*p*r/(p+r))"
   ]
  },
  {
   "cell_type": "markdown",
   "id": "7bbd901f-2a38-4070-aba5-bb414448b848",
   "metadata": {
    "jp-MarkdownHeadingCollapsed": true,
    "tags": []
   },
   "source": [
    "## Shortest Path"
   ]
  },
  {
   "cell_type": "code",
   "execution_count": 79,
   "id": "0384b235-c576-466e-bcaf-fd058967afc2",
   "metadata": {},
   "outputs": [],
   "source": [
    "# sample 100 couples of nodes \n",
    "random.seed(3)\n",
    "largest_cc = max(nx.connected_components(G_en), key=len)\n",
    "sample1 = sample(largest_cc, 100)\n",
    "sample2 = sample(largest_cc, 100)\n",
    "couples = [list(x) for x in zip(sample1, sample2)]"
   ]
  },
  {
   "cell_type": "code",
   "execution_count": 76,
   "id": "13cd5f14-2b51-4a26-91ad-524e0c841756",
   "metadata": {},
   "outputs": [],
   "source": [
    "def shortest_distance(G,source):\n",
    "    \n",
    "    shortestDistance = float(\"inf\")\n",
    "    for n in G.neighbors(source): \n",
    "        currentDistance = nx.shortest_path_length(G, source=n, target=source,  method='dijkstra')\n",
    "        shortestDistance = min(currentDistance, shortestDistance)\n",
    "        \n",
    "    return shortestDistance+1"
   ]
  },
  {
   "cell_type": "code",
   "execution_count": 35,
   "id": "2ee3214b-2b7d-4658-836a-5edb01debe9d",
   "metadata": {},
   "outputs": [],
   "source": [
    "def shortest_path(G, s, S, sample,supernode):  \n",
    "    avg_err = []\n",
    "    percentage_err = []\n",
    "\n",
    "    for couple in sample:\n",
    "        spG = nx.shortest_path_length(G, source=couple[0], target=couple[1], method='dijkstra')\n",
    "        s_i = supernode[couple[0]]\n",
    "        s_j = supernode[couple[1]]\n",
    "        if s_i == s_j:\n",
    "            if S[s_i, s_j] != 0:\n",
    "                spS = 1\n",
    "            else:\n",
    "                spS = shortest_distance(s, s_i)\n",
    "\n",
    "        else:\n",
    "            spS = nx.shortest_path_length(s, source=s_i, target=s_j, method='dijkstra')\n",
    "        avg_err.append(abs(spG-spS))\n",
    "        percentage_err.append(abs(spG-spS)/spG)\n",
    "\n",
    "    print('Average Error', np.mean(avg_err))\n",
    "    print('Percentage Error', np.mean(percentage_err))"
   ]
  },
  {
   "cell_type": "code",
   "execution_count": 36,
   "id": "ca41e8a7-432b-4c1f-b4d2-8e154e5a1fa8",
   "metadata": {
    "collapsed": true,
    "jupyter": {
     "outputs_hidden": true
    },
    "tags": []
   },
   "outputs": [
    {
     "ename": "NodeNotFound",
     "evalue": "Either source 703 or target 2294 is not in G",
     "output_type": "error",
     "traceback": [
      "\u001b[0;31m---------------------------------------------------------------------------\u001b[0m",
      "\u001b[0;31mNodeNotFound\u001b[0m                              Traceback (most recent call last)",
      "\u001b[0;32m/tmp/ipykernel_8915/2044481026.py\u001b[0m in \u001b[0;36m<module>\u001b[0;34m\u001b[0m\n\u001b[0;32m----> 1\u001b[0;31m \u001b[0mshortest_path\u001b[0m\u001b[0;34m(\u001b[0m\u001b[0mG_fm\u001b[0m\u001b[0;34m,\u001b[0m\u001b[0ms_fm\u001b[0m\u001b[0;34m,\u001b[0m \u001b[0mS_fm\u001b[0m\u001b[0;34m,\u001b[0m \u001b[0mcouples\u001b[0m\u001b[0;34m,\u001b[0m \u001b[0msupernode_fm\u001b[0m\u001b[0;34m)\u001b[0m\u001b[0;34m\u001b[0m\u001b[0;34m\u001b[0m\u001b[0m\n\u001b[0m",
      "\u001b[0;32m/tmp/ipykernel_8915/3791642674.py\u001b[0m in \u001b[0;36mshortest_path\u001b[0;34m(G, s, S, sample, supernode)\u001b[0m\n\u001b[1;32m     14\u001b[0m \u001b[0;34m\u001b[0m\u001b[0m\n\u001b[1;32m     15\u001b[0m         \u001b[0;32melse\u001b[0m\u001b[0;34m:\u001b[0m\u001b[0;34m\u001b[0m\u001b[0;34m\u001b[0m\u001b[0m\n\u001b[0;32m---> 16\u001b[0;31m             \u001b[0mspS\u001b[0m \u001b[0;34m=\u001b[0m \u001b[0mnx\u001b[0m\u001b[0;34m.\u001b[0m\u001b[0mshortest_path_length\u001b[0m\u001b[0;34m(\u001b[0m\u001b[0ms\u001b[0m\u001b[0;34m,\u001b[0m \u001b[0msource\u001b[0m\u001b[0;34m=\u001b[0m\u001b[0ms_i\u001b[0m\u001b[0;34m,\u001b[0m \u001b[0mtarget\u001b[0m\u001b[0;34m=\u001b[0m\u001b[0ms_j\u001b[0m\u001b[0;34m,\u001b[0m \u001b[0mmethod\u001b[0m\u001b[0;34m=\u001b[0m\u001b[0;34m'dijkstra'\u001b[0m\u001b[0;34m)\u001b[0m\u001b[0;34m\u001b[0m\u001b[0;34m\u001b[0m\u001b[0m\n\u001b[0m\u001b[1;32m     17\u001b[0m         \u001b[0mavg_err\u001b[0m\u001b[0;34m.\u001b[0m\u001b[0mappend\u001b[0m\u001b[0;34m(\u001b[0m\u001b[0mabs\u001b[0m\u001b[0;34m(\u001b[0m\u001b[0mspG\u001b[0m\u001b[0;34m-\u001b[0m\u001b[0mspS\u001b[0m\u001b[0;34m)\u001b[0m\u001b[0;34m)\u001b[0m\u001b[0;34m\u001b[0m\u001b[0;34m\u001b[0m\u001b[0m\n\u001b[1;32m     18\u001b[0m         \u001b[0mpercentage_err\u001b[0m\u001b[0;34m.\u001b[0m\u001b[0mappend\u001b[0m\u001b[0;34m(\u001b[0m\u001b[0mabs\u001b[0m\u001b[0;34m(\u001b[0m\u001b[0mspG\u001b[0m\u001b[0;34m-\u001b[0m\u001b[0mspS\u001b[0m\u001b[0;34m)\u001b[0m\u001b[0;34m/\u001b[0m\u001b[0mspG\u001b[0m\u001b[0;34m)\u001b[0m\u001b[0;34m\u001b[0m\u001b[0;34m\u001b[0m\u001b[0m\n",
      "\u001b[0;32m/opt/conda/lib/python3.7/site-packages/networkx/algorithms/shortest_paths/generic.py\u001b[0m in \u001b[0;36mshortest_path_length\u001b[0;34m(G, source, target, weight, method)\u001b[0m\n\u001b[1;32m    295\u001b[0m             \u001b[0;31m# Find shortest source-target path.\u001b[0m\u001b[0;34m\u001b[0m\u001b[0;34m\u001b[0m\u001b[0;34m\u001b[0m\u001b[0m\n\u001b[1;32m    296\u001b[0m             \u001b[0;32mif\u001b[0m \u001b[0mmethod\u001b[0m \u001b[0;34m==\u001b[0m \u001b[0;34m\"unweighted\"\u001b[0m\u001b[0;34m:\u001b[0m\u001b[0;34m\u001b[0m\u001b[0;34m\u001b[0m\u001b[0m\n\u001b[0;32m--> 297\u001b[0;31m                 \u001b[0mp\u001b[0m \u001b[0;34m=\u001b[0m \u001b[0mnx\u001b[0m\u001b[0;34m.\u001b[0m\u001b[0mbidirectional_shortest_path\u001b[0m\u001b[0;34m(\u001b[0m\u001b[0mG\u001b[0m\u001b[0;34m,\u001b[0m \u001b[0msource\u001b[0m\u001b[0;34m,\u001b[0m \u001b[0mtarget\u001b[0m\u001b[0;34m)\u001b[0m\u001b[0;34m\u001b[0m\u001b[0;34m\u001b[0m\u001b[0m\n\u001b[0m\u001b[1;32m    298\u001b[0m                 \u001b[0mpaths\u001b[0m \u001b[0;34m=\u001b[0m \u001b[0mlen\u001b[0m\u001b[0;34m(\u001b[0m\u001b[0mp\u001b[0m\u001b[0;34m)\u001b[0m \u001b[0;34m-\u001b[0m \u001b[0;36m1\u001b[0m\u001b[0;34m\u001b[0m\u001b[0;34m\u001b[0m\u001b[0m\n\u001b[1;32m    299\u001b[0m             \u001b[0;32melif\u001b[0m \u001b[0mmethod\u001b[0m \u001b[0;34m==\u001b[0m \u001b[0;34m\"dijkstra\"\u001b[0m\u001b[0;34m:\u001b[0m\u001b[0;34m\u001b[0m\u001b[0;34m\u001b[0m\u001b[0m\n",
      "\u001b[0;32m/opt/conda/lib/python3.7/site-packages/networkx/algorithms/shortest_paths/unweighted.py\u001b[0m in \u001b[0;36mbidirectional_shortest_path\u001b[0;34m(G, source, target)\u001b[0m\n\u001b[1;32m    219\u001b[0m     \u001b[0;32mif\u001b[0m \u001b[0msource\u001b[0m \u001b[0;32mnot\u001b[0m \u001b[0;32min\u001b[0m \u001b[0mG\u001b[0m \u001b[0;32mor\u001b[0m \u001b[0mtarget\u001b[0m \u001b[0;32mnot\u001b[0m \u001b[0;32min\u001b[0m \u001b[0mG\u001b[0m\u001b[0;34m:\u001b[0m\u001b[0;34m\u001b[0m\u001b[0;34m\u001b[0m\u001b[0m\n\u001b[1;32m    220\u001b[0m         \u001b[0mmsg\u001b[0m \u001b[0;34m=\u001b[0m \u001b[0;34mf\"Either source {source} or target {target} is not in G\"\u001b[0m\u001b[0;34m\u001b[0m\u001b[0;34m\u001b[0m\u001b[0m\n\u001b[0;32m--> 221\u001b[0;31m         \u001b[0;32mraise\u001b[0m \u001b[0mnx\u001b[0m\u001b[0;34m.\u001b[0m\u001b[0mNodeNotFound\u001b[0m\u001b[0;34m(\u001b[0m\u001b[0mmsg\u001b[0m\u001b[0;34m)\u001b[0m\u001b[0;34m\u001b[0m\u001b[0;34m\u001b[0m\u001b[0m\n\u001b[0m\u001b[1;32m    222\u001b[0m \u001b[0;34m\u001b[0m\u001b[0m\n\u001b[1;32m    223\u001b[0m     \u001b[0;31m# call helper to do the real work\u001b[0m\u001b[0;34m\u001b[0m\u001b[0;34m\u001b[0m\u001b[0;34m\u001b[0m\u001b[0m\n",
      "\u001b[0;31mNodeNotFound\u001b[0m: Either source 703 or target 2294 is not in G"
     ]
    }
   ],
   "source": [
    "shortest_path(G_fm,s_fm, S_fm, couples, supernode_fm)"
   ]
  },
  {
   "cell_type": "markdown",
   "id": "9bfad12f-f5ec-4aad-bed5-523033e26731",
   "metadata": {
    "jp-MarkdownHeadingCollapsed": true,
    "tags": []
   },
   "source": [
    "## Connected Components"
   ]
  },
  {
   "cell_type": "code",
   "execution_count": 83,
   "id": "865f0e85-d9b5-4670-ab1b-fa83797ce911",
   "metadata": {},
   "outputs": [
    {
     "data": {
      "text/plain": [
       "551"
      ]
     },
     "execution_count": 83,
     "metadata": {},
     "output_type": "execute_result"
    }
   ],
   "source": [
    "#Number\n",
    "nx.number_connected_components(s_fm)"
   ]
  },
  {
   "cell_type": "code",
   "execution_count": 39,
   "id": "b03a7ebf-2026-4373-ba61-abd6c1ba469d",
   "metadata": {},
   "outputs": [
    {
     "data": {
      "text/plain": [
       "1026"
      ]
     },
     "execution_count": 39,
     "metadata": {},
     "output_type": "execute_result"
    }
   ],
   "source": [
    "# largest cc size\n",
    "largest_cc = max(nx.connected_components(s_en), key=len)\n",
    "len(largest_cc)"
   ]
  },
  {
   "cell_type": "code",
   "execution_count": 97,
   "id": "4bddaf62-0d5e-4d44-b2ae-0989dab1b4a1",
   "metadata": {},
   "outputs": [
    {
     "name": "stdout",
     "output_type": "stream",
     "text": [
      "largest cc diameter 6\n",
      "largest cc min cut size 1\n"
     ]
    }
   ],
   "source": [
    "# largest cc diamter and min cut size\n",
    "subs = s_fb.subgraph(largest_cc)\n",
    "print('largest cc diameter', nx.diameter(subs))\n",
    "print('largest cc min cut size', len(nx.minimum_node_cut(subs)))"
   ]
  },
  {
   "cell_type": "code",
   "execution_count": 42,
   "id": "b842a709-1be3-4d5e-9594-961636866f29",
   "metadata": {},
   "outputs": [
    {
     "data": {
      "image/png": "[encoded data removed]",
      "text/plain": [
       "<Figure size 1008x504 with 1 Axes>"
      ]
     },
     "metadata": {},
     "output_type": "display_data"
    }
   ],
   "source": [
    "#bar plot of cc\n",
    "\n",
    "cc = nx.connected_components(s_en)\n",
    "data = [len(c) for c in sorted(cc, key=len, reverse=True)]\n",
    "\n",
    "plt.figure(figsize=(14,7)) \n",
    "plt.bar(list(range(1000)), data[:1000], color = 'r', log=True)\n",
    "plt.title('Enron') \n",
    "#plt.ylim(0,1050)\n",
    "#plt.xlim(0,100)\n",
    "plt.xlabel('Connected Components') \n",
    "plt.xticks(color='w')\n",
    "plt.ylabel('Size') \n",
    "plt.show()"
   ]
  },
  {
   "cell_type": "markdown",
   "id": "f79316be-78ca-42e7-8c29-8d7e185ab35f",
   "metadata": {
    "jp-MarkdownHeadingCollapsed": true,
    "tags": []
   },
   "source": [
    "## Community Detection"
   ]
  },
  {
   "cell_type": "code",
   "execution_count": 179,
   "id": "ea17c611-c76d-4899-afe7-025b30d73e80",
   "metadata": {},
   "outputs": [],
   "source": [
    "w_G = nx.Graph()\n",
    "lat_lon_to_index =  {}\n",
    "for i, node in enumerate(s_en.nodes()):\n",
    "    w_G.add_node(i, lat_lon=node)\n",
    "    lat_lon_to_index[node] = i\n",
    "\n",
    "for edge in s_en.edges():\n",
    "    w_G.add_edge(lat_lon_to_index[edge[0]], lat_lon_to_index[edge[1]])"
   ]
  },
  {
   "cell_type": "code",
   "execution_count": 180,
   "id": "ca66fbf0-cb5a-4072-83e5-45f0421b3ac7",
   "metadata": {
    "tags": []
   },
   "outputs": [
    {
     "name": "stdout",
     "output_type": "stream",
     "text": [
      "Running time: 0.65\n"
     ]
    }
   ],
   "source": [
    "t0 = time.time()\n",
    "community = greedy_modularity_communities(w_G, weight=None)\n",
    "t1 = time.time()\n",
    "print('Running time:', round(t1-t0,2)) "
   ]
  },
  {
   "cell_type": "code",
   "execution_count": 181,
   "id": "b15d5308-d3ea-427d-978a-1ce414eddde5",
   "metadata": {},
   "outputs": [],
   "source": [
    "# Assing to each node the community of the supernode it belongs to\n",
    "\n",
    "communityS = []\n",
    "for idx in range(len(community)):\n",
    "    comm_idx = []\n",
    "    for el in community[idx]:\n",
    "        for node in partition_en[el]:\n",
    "            comm_idx.append(node)\n",
    "    communityS.append(comm_idx)"
   ]
  },
  {
   "cell_type": "code",
   "execution_count": 188,
   "id": "9c80bd6c-3af5-4cf8-b452-49826df99ac2",
   "metadata": {},
   "outputs": [],
   "source": [
    "flat_list = sorted(set([item for sublist in communityS for item in sublist]))"
   ]
  },
  {
   "cell_type": "code",
   "execution_count": 189,
   "id": "9b8ae20f-4965-4e35-a371-f84305131d40",
   "metadata": {},
   "outputs": [],
   "source": [
    "subs = G_en.subgraph(flat_list)"
   ]
  },
  {
   "cell_type": "code",
   "execution_count": 190,
   "id": "4e174a63-a7b6-4b53-8b2f-04812cd010ed",
   "metadata": {
    "tags": []
   },
   "outputs": [
    {
     "name": "stdout",
     "output_type": "stream",
     "text": [
      "0.13\n"
     ]
    }
   ],
   "source": [
    "#modularity score\n",
    "print(round(nx_comm.modularity(subs, communityS),2))"
   ]
  },
  {
   "cell_type": "code",
   "execution_count": null,
   "id": "f35a544f-da44-444f-8def-0ecc25a9dda1",
   "metadata": {},
   "outputs": [],
   "source": []
  }
 ],
 "metadata": {
  "environment": {
   "kernel": "python3",
   "name": "common-cpu.m91",
   "type": "gcloud",
   "uri": "gcr.io/deeplearning-platform-release/base-cpu:m91"
  },
  "kernelspec": {
   "display_name": "Python 3",
   "language": "python",
   "name": "python3"
  },
  "language_info": {
   "codemirror_mode": {
    "name": "ipython",
    "version": 3
   },
   "file_extension": ".py",
   "mimetype": "text/x-python",
   "name": "python",
   "nbconvert_exporter": "python",
   "pygments_lexer": "ipython3",
   "version": "3.7.12"
  }
 },
 "nbformat": 4,
 "nbformat_minor": 5
}
