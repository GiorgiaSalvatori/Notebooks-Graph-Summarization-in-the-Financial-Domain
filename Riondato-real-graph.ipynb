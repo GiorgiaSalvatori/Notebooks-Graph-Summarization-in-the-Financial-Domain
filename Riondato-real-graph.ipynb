{
 "cells": [
  {
   "cell_type": "code",
   "execution_count": 1,
   "id": "9834a9a3-0555-45d5-b9cc-d1e16710fcef",
   "metadata": {},
   "outputs": [],
   "source": [
    "import csv\n",
    "from scipy import sparse\n",
    "from sklearn.cluster import KMeans\n",
    "import pandas as pd\n",
    "import networkx as nx\n",
    "import numpy as np\n",
    "import time\n",
    "from scipy.sparse import *\n",
    "from scipy import *\n",
    "from sklearn.model_selection import RandomizedSearchCV\n",
    "import itertools\n",
    "from tqdm import tqdm\n",
    "import sys\n",
    "import matplotlib.pyplot as plt\n",
    "from scipy.spatial.distance import hamming\n",
    "from numpy import linalg\n",
    "from matplotlib.pyplot import figure\n",
    "import random\n",
    "import scipy\n",
    "from networkx.algorithms.community import greedy_modularity_communities\n",
    "import networkx.algorithms.community as nx_comm\n",
    "from sklearn.cluster import MiniBatchKMeans"
   ]
  },
  {
   "cell_type": "code",
   "execution_count": 2,
   "id": "ebc0435c-e68d-45d4-bd62-3cf8f05ff65c",
   "metadata": {},
   "outputs": [],
   "source": [
    "def adj_matrix(edge_list, n, is_directed, is_weighted):\n",
    "    \n",
    "    A = lil_matrix((n,n), dtype=float)\n",
    "    f = open(edge_list)\n",
    "    reader = csv.reader(f)\n",
    "    #reader = csv.reader(f, delimiter=';') #per roadnet\n",
    "    \n",
    "    for line in reader:\n",
    "        if is_weighted:\n",
    "            A[int(line[0]),int(line[1])] = round(float(line[2]),2)\n",
    "        else:\n",
    "            A[int(line[0]),int(line[1])] = 1\n",
    "        \n",
    "        if is_directed==False:\n",
    "            A[int(line[1]),int(line[0])] = A[int(line[0]),int(line[1])]  \n",
    "        \n",
    "    return A"
   ]
  },
  {
   "cell_type": "code",
   "execution_count": 3,
   "id": "906ca864-a06c-4747-aba4-f0b916abb579",
   "metadata": {},
   "outputs": [],
   "source": [
    "def kmeans(k, t, A):\n",
    "\n",
    "    kmeans = KMeans(n_clusters=k, init = 'k-means++', algorithm='auto', max_iter=t).fit(A)\n",
    "    #kmeans = MiniBatchKMeans(n_clusters=k, init = 'k-means++', max_iter=t).fit(A)\n",
    "    \n",
    "    # id_supernode : list of id_nodes in it\n",
    "    partition = {i: np.where(kmeans.labels_ == i)[0] for i in range(k)}\n",
    "    \n",
    "    #id_node : id_supernode it belongs to\n",
    "    supernode = {}\n",
    "    for k,v in partition.items():\n",
    "        for el in v:\n",
    "            supernode[el] = k\n",
    "  \n",
    "    return partition, supernode"
   ]
  },
  {
   "cell_type": "code",
   "execution_count": 4,
   "id": "d8d206be-3701-451c-ab7e-ada6a010deb7",
   "metadata": {},
   "outputs": [],
   "source": [
    "def lifted_density_matrix(S, n, partition, supernode):\n",
    "    \n",
    "    t0 = time.time()\n",
    "    S_lifted = lil_matrix((n,n), dtype=float) \n",
    "    S_grass = lil_matrix((n,n), dtype=float) \n",
    "    \n",
    "    for i in tqdm(range(n)):\n",
    "        for j in range(n):\n",
    "            s_i = supernode[i]\n",
    "            s_j = supernode[j]\n",
    "            \n",
    "            S_lifted[i,j] = S[s_i, s_j]\n",
    "            \n",
    "            if s_i != s_j :\n",
    "                S_grass[i,j] = S_lifted[i,j] \n",
    "            elif i != j:\n",
    "                S_grass[i,j] = S_lifted[i,j] * len(partition[s_j])/(len(partition[s_j])-1)   \n",
    "            else:\n",
    "                S_grass[i,j] = 0\n",
    "                \n",
    "    t1 = time.time()\n",
    "    print('Running time A_S_lifted + Grass: %f' %(t1-t0))\n",
    "    return S_lifted,S_grass "
   ]
  },
  {
   "cell_type": "code",
   "execution_count": 5,
   "id": "78ab263a-69dc-4fb6-b2a0-db58870cf2ac",
   "metadata": {},
   "outputs": [],
   "source": [
    "def density_matrix(k, edge_list, partition, A, is_directed, is_weighted, n, supernode):\n",
    "    \n",
    "    t0 = time.time()\n",
    "    \n",
    "    S = dok_matrix((k,k))        #density matrix of the expected weights\n",
    "    S_prob = dok_matrix((k,k))\n",
    "    \n",
    "    f = open(edge_list)\n",
    "    reader = csv.reader(f)\n",
    "    #reader = csv.reader(f, delimiter =';') #per roadnet\n",
    "    for el in reader:\n",
    "        el[0]=int(el[0])\n",
    "        el[1]=int(el[1])\n",
    "        if is_weighted:\n",
    "            S[supernode[el[0]], supernode[el[1]]] +=  A[el[0],el[1]]\n",
    "            S_prob[supernode[el[0]], supernode[el[1]]] += 1\n",
    "        else: \n",
    "            S[supernode[el[0]], supernode[el[1]]] +=  1\n",
    "        if is_directed==False:\n",
    "            S[supernode[el[1]], supernode[el[0]]] +=  A[el[0],el[1]]\n",
    "        \n",
    "    for i in range(k): \n",
    "        for j in range(k): \n",
    "            den = len(partition[i])*len(partition[j])\n",
    "            S[i,j] = S[i,j]/den\n",
    "            S_prob[i,j] = S_prob[i,j]/den\n",
    "            \n",
    "    t1 = time.time()\n",
    "    print('Running time S (kxk): %f' %(t1-t0))\n",
    "    \n",
    "   # S_probs, S_probs_G = lifted_density_matrix(S_prob,n,partition,supernode)\n",
    "   # S, S_G = lifted_density_matrix(S,n,partition,supernode)\n",
    "    #return  S_probs, S_probs_G,  S, S_G\n",
    "    return S"
   ]
  },
  {
   "cell_type": "code",
   "execution_count": 6,
   "id": "64f3348b-cc15-4b50-9804-b091fca436f4",
   "metadata": {},
   "outputs": [],
   "source": [
    "def summ_A(edge_list, n, k, t, is_directed, is_weighted):\n",
    "    \n",
    "    t2 = time.time()\n",
    "    A = adj_matrix(edge_list, n, is_directed, is_weighted)\n",
    "    t3  = time.time()\n",
    "    print('Running time adj_matrix: %f' %(t3-t2))\n",
    "\n",
    "\n",
    "    #partition given by the clustering\n",
    "    t6 = time.time()\n",
    "    partition, supernode = kmeans(k, t, A)\n",
    "    t7 = time.time()\n",
    "    print('Running time kmeans: %f' %(t7-t6))\n",
    "\n",
    "    \n",
    "    S = density_matrix(k, edge_list, partition, A, is_directed, is_weighted, n, supernode)                        \n",
    "\n",
    "\n",
    "    return S, partition, supernode"
   ]
  },
  {
   "cell_type": "code",
   "execution_count": 81,
   "id": "08364597-7358-4fac-b368-e25eed3515fe",
   "metadata": {
    "tags": []
   },
   "outputs": [
    {
     "name": "stdout",
     "output_type": "stream",
     "text": [
      "Running time adj_matrix: 0.797201\n",
      "Running time kmeans: 31.363299\n",
      "Running time S (kxk): 14.827436\n"
     ]
    }
   ],
   "source": [
    "# FACEBOOK\n",
    "k = 500\n",
    "S, partition, supernode = summ_A('fb.csv', 4039, k, 20, False, False)"
   ]
  },
  {
   "cell_type": "code",
   "execution_count": 49,
   "id": "0e5b21e2-7170-4822-ba50-d5ba2b938343",
   "metadata": {
    "tags": []
   },
   "outputs": [
    {
     "name": "stdout",
     "output_type": "stream",
     "text": [
      "Running time adj_matrix: 0.281117\n",
      "Running time kmeans: 124.403846\n",
      "Running time S (kxk): 144.252876\n",
      "Total running time: 268.946826\n"
     ]
    }
   ],
   "source": [
    "# LASTFM\n",
    "t0 = time.time()\n",
    "k = 1730\n",
    "S, partition, supernode = summ_A('lastfm.csv', 7624, k, 20, False, False)\n",
    "t1 = time.time()\n",
    "\n",
    "print('Total running time: %f' %(t1-t0)) "
   ]
  },
  {
   "cell_type": "code",
   "execution_count": 8,
   "id": "78d9f9bc-472e-4ad6-b7d9-8c5ed0449726",
   "metadata": {},
   "outputs": [
    {
     "name": "stdout",
     "output_type": "stream",
     "text": [
      "Running time adj_matrix: 6.680871\n",
      "Running time kmeans: 3816.122313\n",
      "Running time S (kxk): 1830.307108\n"
     ]
    }
   ],
   "source": [
    "# ENRON MAIL\n",
    "k = 6137\n",
    "S, partition, supernode = summ_A('en.csv', 36692, k, 20, False, False)"
   ]
  },
  {
   "cell_type": "code",
   "execution_count": 72,
   "id": "33f1bf77-6c7b-47a9-b1a0-2d90549bb5e6",
   "metadata": {
    "tags": []
   },
   "outputs": [
    {
     "name": "stdout",
     "output_type": "stream",
     "text": [
      "Running time adj_matrix: 0.282711\n",
      "Running time kmeans: 32.334011\n",
      "Running time S (kxk): 49.557666\n"
     ]
    }
   ],
   "source": [
    "# GNUTELLA (K = 500,750,1000)\n",
    "#analysis on the largest cc\n",
    "k = 1000\n",
    "S, partition, supernode = summ_A('gnutella.csv', 6301, k, 20, True, False)"
   ]
  },
  {
   "cell_type": "code",
   "execution_count": 86,
   "id": "58649e93-5386-42bf-92cc-5ab386fa15da",
   "metadata": {
    "tags": []
   },
   "outputs": [
    {
     "name": "stdout",
     "output_type": "stream",
     "text": [
      "Running time adj_matrix: 2.707775\n",
      "Running time kmeans: 71.490785\n",
      "Running time S (kxk): 34.676456\n"
     ]
    }
   ],
   "source": [
    "# UBUNTU (K = 350,500,750)\n",
    "k = 750\n",
    "#S_probs, S_probs_G,  S, S_G, partition, supernode = summ_A('ubuntu.csv', 3035, k, 20, False, True)\n",
    "S, S_prob, partition, supernode = summ_A('ubuntu.csv', 3035, k, 20, False, True)"
   ]
  },
  {
   "cell_type": "markdown",
   "id": "58075c5f-3ef2-4283-8e59-c6366059d24b",
   "metadata": {
    "jp-MarkdownHeadingCollapsed": true,
    "tags": []
   },
   "source": [
    "## Thresholding"
   ]
  },
  {
   "cell_type": "code",
   "execution_count": 12,
   "id": "0acfedb5-b7b6-43ca-82cb-9be540c4f034",
   "metadata": {},
   "outputs": [],
   "source": [
    "A = adj_matrix('lastfm.csv', 7624, False, False)"
   ]
  },
  {
   "cell_type": "code",
   "execution_count": 14,
   "id": "e363d887-d178-473f-a29a-70a988649bd4",
   "metadata": {},
   "outputs": [],
   "source": [
    "n = 3035"
   ]
  },
  {
   "cell_type": "code",
   "execution_count": 77,
   "id": "0c3e29a2-505d-409d-bfbe-3cf27a91ca7a",
   "metadata": {},
   "outputs": [],
   "source": [
    "# discretize \n",
    "# A -> 0 remains 0, values different from zeros became 1\n",
    "#A_th = lil_matrix((n,n), dtype=float) \n",
    "#A_th[A>0] = 1\n",
    "\n",
    "\n",
    "th = 0.75\n",
    "# thresholding for number of SuperEdges\n",
    "S_probs_th = lil_matrix((n,n), dtype=float) \n",
    "S_probs_th[S_probs<th] = 0\n",
    "S_probs_th[S_probs>=th] = 1\n",
    "\n",
    "# thresholding for l2 error\n",
    "S_th = S\n",
    "S_th[S_probs<th] = 0"
   ]
  },
  {
   "cell_type": "code",
   "execution_count": 78,
   "id": "f25e2190-fa40-4923-a42a-a0f697335af7",
   "metadata": {},
   "outputs": [
    {
     "name": "stdout",
     "output_type": "stream",
     "text": [
      "Error l2: with A_S 17299\n"
     ]
    }
   ],
   "source": [
    "#l2 error\n",
    "print('Error l2: with A_S', round(linalg.norm(A.A-S_th.A)))"
   ]
  },
  {
   "cell_type": "code",
   "execution_count": 79,
   "id": "c0774181-2c7c-4e49-9740-9bf6b228e590",
   "metadata": {},
   "outputs": [
    {
     "name": "stdout",
     "output_type": "stream",
     "text": [
      "Edges in the Grass lifted summary matrix 65925\n"
     ]
    }
   ],
   "source": [
    "#Number of SuperEdges\n",
    "print('Edges in the Grass lifted summary matrix',np.count_nonzero(S_probs_th.A))"
   ]
  },
  {
   "cell_type": "markdown",
   "id": "5c9afce0-1e53-451a-b2e4-bc02cc73b116",
   "metadata": {
    "tags": []
   },
   "source": [
    "## Clusters densities"
   ]
  },
  {
   "cell_type": "code",
   "execution_count": 46,
   "id": "b6998c7b-844b-4e28-a0e1-930f954efd66",
   "metadata": {},
   "outputs": [],
   "source": [
    "# cluster : size\n",
    "cluster={}\n",
    "for k,v in partition.items():\n",
    "    cluster[k] = len(v)\n",
    "s = np.array([key for key, val in cluster.items() for _ in range(val)])"
   ]
  },
  {
   "cell_type": "code",
   "execution_count": 47,
   "id": "d445bd03-f2f9-4b79-9d41-15693e72433c",
   "metadata": {},
   "outputs": [],
   "source": [
    "n = 6301"
   ]
  },
  {
   "cell_type": "code",
   "execution_count": 48,
   "id": "e5bd671b-5a37-4ca0-8572-98021a8ba442",
   "metadata": {},
   "outputs": [
    {
     "name": "stdout",
     "output_type": "stream",
     "text": [
      "median 1.0\n",
      "mean 12.602\n",
      "variance 60084.523595999985\n",
      "max 5488\n",
      "max percentage 87.09728614505634\n"
     ]
    }
   ],
   "source": [
    "print('median', np.median(list(cluster.values())))\n",
    "print('mean', np.mean(list(cluster.values())))\n",
    "print('variance', np.var(list(cluster.values())))\n",
    "print('max', np.max(list(cluster.values())))\n",
    "print('max percentage', np.max(list(cluster.values()))/n*100)"
   ]
  },
  {
   "cell_type": "code",
   "execution_count": 50,
   "id": "2ed48b0b-597c-4af7-83e0-c75d260d0ee9",
   "metadata": {},
   "outputs": [
    {
     "data": {
      "image/png": "[encoded data removed]",
      "text/plain": [
       "<Figure size 1008x504 with 1 Axes>"
      ]
     },
     "metadata": {},
     "output_type": "display_data"
    }
   ],
   "source": [
    "#cluster distribution\n",
    "\n",
    "plt.figure(figsize=(14,7)) # Make it 14x7 inch\n",
    "plt.style.use('seaborn-whitegrid') # nice and clean grid\n",
    "plt.hist(s, bins=k, facecolor = 'yellowgreen', edgecolor='olivedrab',  linewidth=0.5, log=True, label = 'Gnutella')\n",
    "plt.title('Gnutella') \n",
    "plt.xlabel('supernodes') \n",
    "plt.ylabel('densities') \n",
    "plt.legend(loc=\"upper right\")\n",
    "plt.show()"
   ]
  },
  {
   "cell_type": "markdown",
   "id": "4f8d12df-d354-4608-8693-42cbe2df17f3",
   "metadata": {
    "jp-MarkdownHeadingCollapsed": true,
    "tags": []
   },
   "source": [
    "## Degree queries"
   ]
  },
  {
   "cell_type": "code",
   "execution_count": 8,
   "id": "ee52a62c-d4b4-4206-8d79-29a9b2219775",
   "metadata": {},
   "outputs": [],
   "source": [
    "A = adj_matrix('ubuntu.csv', 3035, False, True)"
   ]
  },
  {
   "cell_type": "code",
   "execution_count": 56,
   "id": "c41cc1b0-187a-4a83-bdd2-28ef0fc6097e",
   "metadata": {},
   "outputs": [],
   "source": [
    "#save the errors for any threshold\n",
    "s_tot = []\n",
    "s_out_tot = []\n",
    "s_in_tot = []"
   ]
  },
  {
   "cell_type": "code",
   "execution_count": 57,
   "id": "2fee6860-76a4-4a55-8ffe-9eadee796c2b",
   "metadata": {},
   "outputs": [],
   "source": [
    "n = 3035"
   ]
  },
  {
   "cell_type": "code",
   "execution_count": 90,
   "id": "8d4c30d0-0134-490b-a5a3-b739bc72304c",
   "metadata": {},
   "outputs": [],
   "source": [
    "# discretize \n",
    "# A -> 0 remains 0, values different from zeros became 1\n",
    "#A[A>0] = 1\n",
    "# grass -> negative values became 0, positive values 1 \n",
    "\n",
    "#Th = 0.01, 0.02, 0.05, 0.1, 0.25, 0.5, 0.75\n",
    "probs_G = lil_matrix((n,n), dtype=float) \n",
    "probs_G[S_prob<0.75] = 0\n",
    "probs_G[S_prob>=0.75] = 1"
   ]
  },
  {
   "cell_type": "code",
   "execution_count": 70,
   "id": "49c2843f-88e3-46a5-b5f2-d43df1fa6871",
   "metadata": {},
   "outputs": [],
   "source": [
    "#discretize for weighted degree\n",
    "S_G_dq = S_G \n",
    "S_G_dq[S_probs_G<0.75]= 0"
   ]
  },
  {
   "cell_type": "code",
   "execution_count": 71,
   "id": "13d595e6-ecd6-42e0-8ff8-2b32436bea92",
   "metadata": {},
   "outputs": [
    {
     "name": "stderr",
     "output_type": "stream",
     "text": [
      "100%|██████████| 3035/3035 [00:02<00:00, 1501.14it/s]"
     ]
    },
    {
     "name": "stdout",
     "output_type": "stream",
     "text": [
      "Average error in adjacency queries 0.9224668951032251\n"
     ]
    },
    {
     "name": "stderr",
     "output_type": "stream",
     "text": [
      "\n"
     ]
    }
   ],
   "source": [
    "#out degree queries percentage\n",
    "s = []\n",
    "\n",
    "for i in tqdm(range(n)):\n",
    "    sumA = np.sum(A[i,:])\n",
    "    #sumS = np.sum(probs_G[i,:])\n",
    "    sumS = np.sum(S_G_dq[i,:])\n",
    "    if sumA !=0:\n",
    "        s.append((abs(sumA - sumS))/sumA )\n",
    "    \n",
    "s_tot.append(round(np.mean(s),2))\n",
    "print(\"Average error in adjacency queries\", np.mean(s))"
   ]
  },
  {
   "cell_type": "code",
   "execution_count": 72,
   "id": "ad32521b-be16-4548-b32a-8950b68b7e91",
   "metadata": {},
   "outputs": [
    {
     "data": {
      "image/png": "[encoded data removed]",
      "text/plain": [
       "<Figure size 720x360 with 1 Axes>"
      ]
     },
     "metadata": {
      "needs_background": "light"
     },
     "output_type": "display_data"
    }
   ],
   "source": [
    "labels = [0.01, 0.02, 0.05, 0.1, 0.25, 0.5, 0.75]\n",
    "\n",
    "x = np.arange(len(labels))  # the label locations\n",
    "width = 0.35  # the width of the bars\n",
    "\n",
    "fig, ax = plt.subplots()\n",
    "fig.set_figheight(5)\n",
    "fig.set_figwidth(10)\n",
    "rects1 = ax.bar(x , s_tot , width, label='Degree Error')\n",
    "#rects2 = ax.bar(x + width/2, s_in_tot, width, label='In Degree Error')\n",
    "\n",
    "# Add some text for labels, title and custom x-axis tick labels, etc.\n",
    "#ax.set_ylim(0, 1.3)\n",
    "ax.set_xlabel('Threshold')\n",
    "ax.set_ylabel('Percentage Error')\n",
    "ax.set_title(\"Ubuntu\")\n",
    "ax.set_xticks(x, labels)\n",
    "ax.legend()\n",
    "\n",
    "ax.bar_label(rects1, padding=3)\n",
    "#ax.bar_label(rects2, padding=3)\n",
    "\n",
    "fig.tight_layout()\n",
    "\n",
    "plt.show()"
   ]
  },
  {
   "cell_type": "markdown",
   "id": "3a976cc8-ea7f-44ae-bb1f-f1a6c89f3821",
   "metadata": {
    "jp-MarkdownHeadingCollapsed": true,
    "tags": []
   },
   "source": [
    "## Weights comparison"
   ]
  },
  {
   "cell_type": "code",
   "execution_count": 24,
   "id": "3badcfb9-d322-4e76-b0a8-b51eb2322422",
   "metadata": {},
   "outputs": [],
   "source": [
    "A = adj_matrix('ubuntu.csv', 3035, False, True)\n",
    "G = nx.from_numpy_matrix(np.matrix(A.A), create_using=nx.Graph)"
   ]
  },
  {
   "cell_type": "code",
   "execution_count": 10,
   "id": "38fdc5ba-d692-4b52-8ce1-49d9eb4d0e5a",
   "metadata": {},
   "outputs": [],
   "source": [
    "#summary graph\n",
    "s = nx.from_numpy_matrix(np.matrix(S.A), create_using=nx.Graph)"
   ]
  },
  {
   "cell_type": "code",
   "execution_count": 12,
   "id": "6cbaa173-ed57-4386-8428-21fabd20d002",
   "metadata": {},
   "outputs": [],
   "source": [
    "def get_edge_attributes(G, name):\n",
    "    edges = G.edges(data=True)\n",
    "    return [ x[-1]['weight'] for x in edges]"
   ]
  },
  {
   "cell_type": "code",
   "execution_count": 13,
   "id": "1b939212-e143-4367-8ca2-c59a32f6b391",
   "metadata": {},
   "outputs": [],
   "source": [
    "w_G = get_edge_attributes(G, 'weight')\n",
    "w_S = get_edge_attributes(s, 'weight')"
   ]
  },
  {
   "cell_type": "code",
   "execution_count": 14,
   "id": "db03853a-76b4-4cc2-986f-3e9b7d36f08c",
   "metadata": {},
   "outputs": [
    {
     "data": {
      "image/png": "[encoded data removed]",
      "text/plain": [
       "<Figure size 648x504 with 1 Axes>"
      ]
     },
     "metadata": {
      "needs_background": "light"
     },
     "output_type": "display_data"
    }
   ],
   "source": [
    "colors = ['b','g']\n",
    "#plots the histogram\n",
    "fig, ax1 = plt.subplots(figsize=(9,7))\n",
    "ax1.hist([w_S, w_G],color=colors, bins=20, log=True, label = ['summary','input'])\n",
    "plt.title(\"Ubuntu\")\n",
    "plt.xlabel(\"Weights\", fontsize=16)  \n",
    "plt.ylabel(\"Frequencies\", fontsize=16)\n",
    "plt.legend(loc=\"upper right\")\n",
    "plt.xticks(fontsize=14)  \n",
    "plt.yticks(fontsize=14)\n",
    "plt.show()"
   ]
  },
  {
   "cell_type": "markdown",
   "id": "67e1b982-f0eb-439f-b172-a57c6a86a475",
   "metadata": {
    "jp-MarkdownHeadingCollapsed": true,
    "tags": []
   },
   "source": [
    "## Queries on S (kxk) "
   ]
  },
  {
   "cell_type": "code",
   "execution_count": 51,
   "id": "7821b733-79c7-48ee-919f-0292cd8939f2",
   "metadata": {},
   "outputs": [],
   "source": [
    "A = adj_matrix('fb.csv', 4039, False, False)"
   ]
  },
  {
   "cell_type": "code",
   "execution_count": 50,
   "id": "14b58e23-9177-401b-8e2a-ebd3b207d4f7",
   "metadata": {},
   "outputs": [],
   "source": [
    "A = adj_matrix('lastfm.csv', 7624, False, False)"
   ]
  },
  {
   "cell_type": "code",
   "execution_count": 10,
   "id": "45aba49a-dab6-4e88-aae7-ce07890aa0a6",
   "metadata": {},
   "outputs": [],
   "source": [
    "A = adj_matrix('gnutella.csv', 6301, True, False)"
   ]
  },
  {
   "cell_type": "code",
   "execution_count": 33,
   "id": "edea657b-44f5-4880-8285-a8975550f104",
   "metadata": {},
   "outputs": [],
   "source": [
    "A = adj_matrix('ubuntu.csv', 3035, False, True)"
   ]
  },
  {
   "cell_type": "code",
   "execution_count": 65,
   "id": "c5bd8724-d5ef-4a00-99b6-5da75b68f631",
   "metadata": {},
   "outputs": [],
   "source": [
    "A = adj_matrix('roadnet.csv', 1090142, False, False)"
   ]
  },
  {
   "cell_type": "code",
   "execution_count": 51,
   "id": "131f4f47-2a00-4025-890f-fc70413b192e",
   "metadata": {
    "tags": []
   },
   "outputs": [],
   "source": [
    "#input\n",
    "G = nx.from_numpy_matrix(np.matrix(A.A), create_using=nx.Graph)"
   ]
  },
  {
   "cell_type": "code",
   "execution_count": 41,
   "id": "e2fffc54-21a4-420d-ae3f-8e5296487f67",
   "metadata": {},
   "outputs": [],
   "source": [
    "# input for Enron\n",
    "Data = open('en.csv', \"r\")\n",
    "G = nx.parse_edgelist(Data, delimiter=',', create_using=nx.Graph,nodetype=int)"
   ]
  },
  {
   "cell_type": "code",
   "execution_count": 66,
   "id": "82aa8728-3e5d-421c-b4bc-e6466f2b4a31",
   "metadata": {},
   "outputs": [],
   "source": [
    "# input for roadnet\n",
    "Data = open('roadnet.csv', \"r\")\n",
    "G = nx.parse_edgelist(Data, delimiter=';', create_using=nx.Graph,nodetype=int)"
   ]
  },
  {
   "cell_type": "code",
   "execution_count": 77,
   "id": "aaa5471e-b3ab-4ccc-a9be-922472fba51e",
   "metadata": {},
   "outputs": [],
   "source": [
    "#summary\n",
    "s = nx.from_numpy_matrix(np.matrix(S.A), create_using=nx.Graph)"
   ]
  },
  {
   "cell_type": "code",
   "execution_count": 31,
   "id": "d665b300-8999-46c1-901d-9bef9a6d657d",
   "metadata": {},
   "outputs": [],
   "source": [
    "Gcc = sorted(nx.connected_components(G), key=len, reverse=True)\n",
    "G0 = G.subgraph(Gcc[0])"
   ]
  },
  {
   "cell_type": "code",
   "execution_count": 12,
   "id": "a3ee2b0b-d6e8-41ad-af42-d0cb5e923e8c",
   "metadata": {},
   "outputs": [],
   "source": [
    "scc = sorted(nx.connected_components(s), key=len, reverse=True)\n",
    "s0 = s.subgraph(scc[0])"
   ]
  },
  {
   "cell_type": "code",
   "execution_count": 13,
   "id": "54ed70fd-ad71-4f71-a3be-46ce53f8fdae",
   "metadata": {
    "tags": []
   },
   "outputs": [
    {
     "name": "stdout",
     "output_type": "stream",
     "text": [
      "4\n",
      "Running time 4.02\n"
     ]
    }
   ],
   "source": [
    "#diameter\n",
    "t0 = time.time()\n",
    "print(nx.diameter(s0))\n",
    "t1 = time.time()\n",
    "print('Running time', round(t1-t0,2))\n",
    "#enron"
   ]
  },
  {
   "cell_type": "code",
   "execution_count": 9,
   "id": "3b90df01-b60b-403e-aef6-744f45100d7c",
   "metadata": {},
   "outputs": [
    {
     "name": "stdout",
     "output_type": "stream",
     "text": [
      "Running time 4.62\n"
     ]
    }
   ],
   "source": [
    "#average clustering\n",
    "t0 = time.time()\n",
    "nx.average_clustering(s)\n",
    "t1 = time.time()\n",
    "print('Running time',round(t1-t0,2))"
   ]
  },
  {
   "cell_type": "code",
   "execution_count": 15,
   "id": "8ce0d186-51fb-4850-bd97-5fed21c89d80",
   "metadata": {
    "tags": []
   },
   "outputs": [
    {
     "name": "stdout",
     "output_type": "stream",
     "text": [
      "{0}\n",
      "Running time 22.46\n"
     ]
    }
   ],
   "source": [
    "# minimum cut\n",
    "t0 = time.time()\n",
    "print(nx.minimum_node_cut(s0))\n",
    "t1 = time.time()\n",
    "print('Running time', round(t1-t0,2))"
   ]
  },
  {
   "cell_type": "markdown",
   "id": "bc027733-821a-4173-84e2-8296f54b3e5b",
   "metadata": {
    "jp-MarkdownHeadingCollapsed": true,
    "tags": []
   },
   "source": [
    "## Triangles"
   ]
  },
  {
   "cell_type": "code",
   "execution_count": 99,
   "id": "a309eeef-e8e0-4614-81d6-ed1905e14853",
   "metadata": {},
   "outputs": [
    {
     "name": "stdout",
     "output_type": "stream",
     "text": [
      "running time 5.79\n"
     ]
    }
   ],
   "source": [
    "#triangles\n",
    "t0 = time.time()\n",
    "np.sum(list(nx.triangles(G).values())) / 3\n",
    "t1 = time.time()\n",
    "print('running time', round(t1-t0,2))"
   ]
  },
  {
   "cell_type": "code",
   "execution_count": 119,
   "id": "f57d97f8-c68d-4115-af38-1eb8ca351a3f",
   "metadata": {},
   "outputs": [
    {
     "name": "stderr",
     "output_type": "stream",
     "text": [
      "100%|██████████| 1500/1500 [3:40:54<00:00,  8.84s/it] "
     ]
    },
    {
     "name": "stdout",
     "output_type": "stream",
     "text": [
      "Expected Number of triangles:  4154516\n",
      "Running time 13254.29\n"
     ]
    },
    {
     "name": "stderr",
     "output_type": "stream",
     "text": [
      "\n"
     ]
    }
   ],
   "source": [
    "#Riondato for undirected graphs\n",
    "t0=time.time()\n",
    "t = 0\n",
    "for i in tqdm(range(k)):\n",
    "    n_i = len(partition[i])\n",
    "    pi_ii = S[i,i] * n_i / (n_i - 1) if n_i > 1 else 0\n",
    "    t += scipy.special.binom(n_i,3) * pi_ii**3\n",
    "    for j in range(i+1, k):\n",
    "        pi_ij = S[i,j]\n",
    "        n_j = len(partition[j])\n",
    "        pi_jj = S[j,j] * n_j / (n_j-1) if n_j > 1 else 0\n",
    "        t += pi_ij**2*(scipy.special.binom(n_i,2)*n_j*pi_ii + scipy.special.binom(n_j,2)*n_i*pi_jj)\n",
    "        for w in range(j+1,k):\n",
    "            n_w = len(partition[w])\n",
    "            pi_jw = S[j,w]\n",
    "            pi_wi = S[w,i]\n",
    "            t += n_i*n_j*n_w*pi_ij*pi_jw*pi_wi\n",
    "print(\"Expected Number of triangles: \", round(t))\n",
    "t1 = time.time()\n",
    "print('Running time',round(t1-t0,2))\n",
    "\n",
    "#ENRON 1,500"
   ]
  },
  {
   "cell_type": "code",
   "execution_count": 13,
   "id": "d449f62b-ada6-47f2-9b9a-0e4f53d68a0e",
   "metadata": {},
   "outputs": [
    {
     "name": "stderr",
     "output_type": "stream",
     "text": [
      "  0%|          | 0/350 [00:00<?, ?it/s]\n"
     ]
    },
    {
     "ename": "NameError",
     "evalue": "name 'S_prob' is not defined",
     "output_type": "error",
     "traceback": [
      "\u001b[0;31m---------------------------------------------------------------------------\u001b[0m",
      "\u001b[0;31mNameError\u001b[0m                                 Traceback (most recent call last)",
      "\u001b[0;32m/tmp/ipykernel_24495/3964193870.py\u001b[0m in \u001b[0;36m<module>\u001b[0;34m\u001b[0m\n\u001b[1;32m      3\u001b[0m \u001b[0;32mfor\u001b[0m \u001b[0mi\u001b[0m \u001b[0;32min\u001b[0m \u001b[0mtqdm\u001b[0m\u001b[0;34m(\u001b[0m\u001b[0mrange\u001b[0m\u001b[0;34m(\u001b[0m\u001b[0mk\u001b[0m\u001b[0;34m)\u001b[0m\u001b[0;34m)\u001b[0m\u001b[0;34m:\u001b[0m\u001b[0;34m\u001b[0m\u001b[0;34m\u001b[0m\u001b[0m\n\u001b[1;32m      4\u001b[0m     \u001b[0mn_i\u001b[0m \u001b[0;34m=\u001b[0m \u001b[0mlen\u001b[0m\u001b[0;34m(\u001b[0m\u001b[0mpartition\u001b[0m\u001b[0;34m[\u001b[0m\u001b[0mi\u001b[0m\u001b[0;34m]\u001b[0m\u001b[0;34m)\u001b[0m\u001b[0;34m\u001b[0m\u001b[0;34m\u001b[0m\u001b[0m\n\u001b[0;32m----> 5\u001b[0;31m     \u001b[0mpi_ii\u001b[0m \u001b[0;34m=\u001b[0m \u001b[0mS_prob\u001b[0m\u001b[0;34m[\u001b[0m\u001b[0mi\u001b[0m\u001b[0;34m,\u001b[0m\u001b[0mi\u001b[0m\u001b[0;34m]\u001b[0m \u001b[0;34m*\u001b[0m \u001b[0mn_i\u001b[0m \u001b[0;34m/\u001b[0m \u001b[0;34m(\u001b[0m\u001b[0mn_i\u001b[0m \u001b[0;34m-\u001b[0m \u001b[0;36m1\u001b[0m\u001b[0;34m)\u001b[0m \u001b[0;32mif\u001b[0m \u001b[0mn_i\u001b[0m \u001b[0;34m>\u001b[0m \u001b[0;36m1\u001b[0m \u001b[0;32melse\u001b[0m \u001b[0;36m0\u001b[0m\u001b[0;34m\u001b[0m\u001b[0;34m\u001b[0m\u001b[0m\n\u001b[0m\u001b[1;32m      6\u001b[0m     \u001b[0mt\u001b[0m \u001b[0;34m+=\u001b[0m \u001b[0mscipy\u001b[0m\u001b[0;34m.\u001b[0m\u001b[0mspecial\u001b[0m\u001b[0;34m.\u001b[0m\u001b[0mbinom\u001b[0m\u001b[0;34m(\u001b[0m\u001b[0mn_i\u001b[0m\u001b[0;34m,\u001b[0m\u001b[0;36m3\u001b[0m\u001b[0;34m)\u001b[0m \u001b[0;34m*\u001b[0m \u001b[0mpi_ii\u001b[0m\u001b[0;34m**\u001b[0m\u001b[0;36m3\u001b[0m\u001b[0;34m\u001b[0m\u001b[0;34m\u001b[0m\u001b[0m\n\u001b[1;32m      7\u001b[0m     \u001b[0;32mfor\u001b[0m \u001b[0mj\u001b[0m \u001b[0;32min\u001b[0m \u001b[0mrange\u001b[0m\u001b[0;34m(\u001b[0m\u001b[0mi\u001b[0m\u001b[0;34m+\u001b[0m\u001b[0;36m1\u001b[0m\u001b[0;34m,\u001b[0m \u001b[0mk\u001b[0m\u001b[0;34m)\u001b[0m\u001b[0;34m:\u001b[0m\u001b[0;34m\u001b[0m\u001b[0;34m\u001b[0m\u001b[0m\n",
      "\u001b[0;31mNameError\u001b[0m: name 'S_prob' is not defined"
     ]
    }
   ],
   "source": [
    "#Riondato for directed graphs\n",
    "t = 0\n",
    "for i in tqdm(range(k)):\n",
    "    n_i = len(partition[i])\n",
    "    pi_ii = S_prob[i,i] * n_i / (n_i - 1) if n_i > 1 else 0\n",
    "    t += scipy.special.binom(n_i,3) * pi_ii**3\n",
    "    for j in range(i+1, k):\n",
    "        pi_ij = (S_prob[i,j] + S_prob[j,i]) - (S_prob[i,j] * S_prob[j,i])\n",
    "        n_j = len(partition[j])\n",
    "        pi_jj = S_prob[j,j] * n_j / (n_j-1) if n_j > 1 else 0\n",
    "        t += pi_ij**2*(scipy.special.binom(n_i,2)*n_j*pi_ii + scipy.special.binom(n_j,2)*n_i*pi_jj)\n",
    "        for w in range(j+1,k):\n",
    "            n_w = len(partition[w])\n",
    "            pi_jw = (S_prob[j,w] + S_prob[j,w]) - (S_prob[j,w] * S_prob[j,w])\n",
    "            pi_wi = (S_prob[w,i] + S_prob[i,w]) - (S_prob[w,i] * S_prob[i,w])\n",
    "            t += n_i*n_j*n_w*pi_ij*pi_jw*pi_wi\n",
    "print(\"Expected Number of triangles: \", round(t))\n"
   ]
  },
  {
   "cell_type": "markdown",
   "id": "8ad1cbb4-41ec-40c0-9360-02cc4efb1aa5",
   "metadata": {
    "jp-MarkdownHeadingCollapsed": true,
    "tags": []
   },
   "source": [
    "## Centrality"
   ]
  },
  {
   "cell_type": "code",
   "execution_count": 52,
   "id": "39ca4573-25f6-4744-ab30-30ca04363f01",
   "metadata": {},
   "outputs": [],
   "source": [
    "#summary graph\n",
    "s = nx.from_numpy_matrix(np.matrix(S.A), create_using=nx.Graph)"
   ]
  },
  {
   "cell_type": "code",
   "execution_count": 11,
   "id": "6119ca1b-e4f6-402d-b1cd-098028550e52",
   "metadata": {
    "tags": []
   },
   "outputs": [],
   "source": [
    "def precision(k, l1, l2):\n",
    "    l3 = [value for value in l1 if value in l2]\n",
    "    intersect = len(l3)\n",
    "    return intersect/k"
   ]
  },
  {
   "cell_type": "code",
   "execution_count": 53,
   "id": "3e0527fc-c337-4590-8148-ebc95a1be9f5",
   "metadata": {
    "collapsed": true,
    "jupyter": {
     "outputs_hidden": true
    },
    "tags": []
   },
   "outputs": [
    {
     "ename": "AttributeError",
     "evalue": "module networkx has no attribute single_source_shortest_path_length",
     "output_type": "error",
     "traceback": [
      "\u001b[0;31m---------------------------------------------------------------------------\u001b[0m",
      "\u001b[0;31mAttributeError\u001b[0m                            Traceback (most recent call last)",
      "\u001b[0;32m/tmp/ipykernel_4295/1037403829.py\u001b[0m in \u001b[0;36m<module>\u001b[0;34m\u001b[0m\n\u001b[1;32m      1\u001b[0m \u001b[0;31m#prG = nx.closeness_centrality(G)\u001b[0m\u001b[0;34m\u001b[0m\u001b[0;34m\u001b[0m\u001b[0;34m\u001b[0m\u001b[0m\n\u001b[0;32m----> 2\u001b[0;31m \u001b[0mprS\u001b[0m \u001b[0;34m=\u001b[0m \u001b[0mnx\u001b[0m\u001b[0;34m.\u001b[0m\u001b[0mcloseness_centrality\u001b[0m\u001b[0;34m(\u001b[0m\u001b[0ms\u001b[0m\u001b[0;34m)\u001b[0m\u001b[0;34m\u001b[0m\u001b[0;34m\u001b[0m\u001b[0m\n\u001b[0m",
      "\u001b[0;32m/opt/conda/lib/python3.7/site-packages/networkx/algorithms/centrality/closeness.py\u001b[0m in \u001b[0;36mcloseness_centrality\u001b[0;34m(G, u, distance, wf_improved)\u001b[0m\n\u001b[1;32m    103\u001b[0m         )\n\u001b[1;32m    104\u001b[0m     \u001b[0;32melse\u001b[0m\u001b[0;34m:\u001b[0m\u001b[0;34m\u001b[0m\u001b[0;34m\u001b[0m\u001b[0m\n\u001b[0;32m--> 105\u001b[0;31m         \u001b[0mpath_length\u001b[0m \u001b[0;34m=\u001b[0m \u001b[0mnx\u001b[0m\u001b[0;34m.\u001b[0m\u001b[0msingle_source_shortest_path_length\u001b[0m\u001b[0;34m\u001b[0m\u001b[0;34m\u001b[0m\u001b[0m\n\u001b[0m\u001b[1;32m    106\u001b[0m \u001b[0;34m\u001b[0m\u001b[0m\n\u001b[1;32m    107\u001b[0m     \u001b[0;32mif\u001b[0m \u001b[0mu\u001b[0m \u001b[0;32mis\u001b[0m \u001b[0;32mNone\u001b[0m\u001b[0;34m:\u001b[0m\u001b[0;34m\u001b[0m\u001b[0;34m\u001b[0m\u001b[0m\n",
      "\u001b[0;32m/opt/conda/lib/python3.7/site-packages/networkx/__init__.py\u001b[0m in \u001b[0;36m__getattr__\u001b[0;34m(name)\u001b[0m\n\u001b[1;32m     49\u001b[0m             \u001b[0;34m\"This message will be removed in NetworkX 3.0.\"\u001b[0m\u001b[0;34m\u001b[0m\u001b[0;34m\u001b[0m\u001b[0m\n\u001b[1;32m     50\u001b[0m         )\n\u001b[0;32m---> 51\u001b[0;31m     \u001b[0;32mraise\u001b[0m \u001b[0mAttributeError\u001b[0m\u001b[0;34m(\u001b[0m\u001b[0;34mf\"module {__name__} has no attribute {name}\"\u001b[0m\u001b[0;34m)\u001b[0m\u001b[0;34m\u001b[0m\u001b[0;34m\u001b[0m\u001b[0m\n\u001b[0m\u001b[1;32m     52\u001b[0m \u001b[0;34m\u001b[0m\u001b[0m\n\u001b[1;32m     53\u001b[0m \u001b[0;34m\u001b[0m\u001b[0m\n",
      "\u001b[0;31mAttributeError\u001b[0m: module networkx has no attribute single_source_shortest_path_length"
     ]
    }
   ],
   "source": [
    "prG = nx.closeness_centrality(G)\n",
    "prS = nx.closeness_centrality(s)"
   ]
  },
  {
   "cell_type": "code",
   "execution_count": 13,
   "id": "5f808ba4-8773-4a8e-b81d-7ecc29f69588",
   "metadata": {},
   "outputs": [],
   "source": [
    "#normalization for pagerank\n",
    "for i in range(k):\n",
    "    prS[i] = prS[i]/len(partition[i])"
   ]
  },
  {
   "cell_type": "code",
   "execution_count": 30,
   "id": "6f1f3a79-dbfa-4266-9ebd-1f8060155c6b",
   "metadata": {
    "tags": []
   },
   "outputs": [],
   "source": [
    "#normalization for the degree centrality\n",
    "for i in range(k):\n",
    "    if S[i,i] !=0:\n",
    "        prS[i] = prS[i] + (len(partition[i]) - 1)#*S_prob[i,i]"
   ]
  },
  {
   "cell_type": "code",
   "execution_count": 31,
   "id": "0cf8186b-b628-4321-93eb-3eb11b7b8f7b",
   "metadata": {
    "tags": []
   },
   "outputs": [],
   "source": [
    "#assign the centrality of the supernode to the nodes inside it\n",
    "prSG = {}\n",
    "for k,v in prS.items():\n",
    "    for el in partition[k]:\n",
    "        prSG[el] = v"
   ]
  },
  {
   "cell_type": "code",
   "execution_count": 35,
   "id": "6dc99403-c175-4fe7-811c-b7cfe1b4dae4",
   "metadata": {
    "tags": []
   },
   "outputs": [],
   "source": [
    "th = sorted(list(prSG.values()), reverse=True)[199]"
   ]
  },
  {
   "cell_type": "code",
   "execution_count": 36,
   "id": "bbaab63c-22b2-4810-acdf-ad23f926c6e8",
   "metadata": {
    "tags": []
   },
   "outputs": [
    {
     "name": "stdout",
     "output_type": "stream",
     "text": [
      "5631\n"
     ]
    }
   ],
   "source": [
    "for idx,el in enumerate(sorted(list(prSG.values()), reverse=True)):\n",
    "    if el<th:\n",
    "        print(idx)\n",
    "        k2 = idx\n",
    "        break"
   ]
  },
  {
   "cell_type": "code",
   "execution_count": 37,
   "id": "20c736b1-e391-42c8-8a92-bff4e4072636",
   "metadata": {},
   "outputs": [
    {
     "name": "stdout",
     "output_type": "stream",
     "text": [
      "Precision: 0.0\n",
      "Recall: 0.0\n"
     ]
    },
    {
     "ename": "ZeroDivisionError",
     "evalue": "float division by zero",
     "output_type": "error",
     "traceback": [
      "\u001b[0;31m---------------------------------------------------------------------------\u001b[0m",
      "\u001b[0;31mZeroDivisionError\u001b[0m                         Traceback (most recent call last)",
      "\u001b[0;32m/tmp/ipykernel_4295/2989289321.py\u001b[0m in \u001b[0;36m<module>\u001b[0;34m\u001b[0m\n\u001b[1;32m      8\u001b[0m \u001b[0mprint\u001b[0m\u001b[0;34m(\u001b[0m\u001b[0;34m'Precision:'\u001b[0m\u001b[0;34m,\u001b[0m \u001b[0mp\u001b[0m\u001b[0;34m)\u001b[0m\u001b[0;34m\u001b[0m\u001b[0;34m\u001b[0m\u001b[0m\n\u001b[1;32m      9\u001b[0m \u001b[0mprint\u001b[0m\u001b[0;34m(\u001b[0m\u001b[0;34m'Recall:'\u001b[0m\u001b[0;34m,\u001b[0m \u001b[0mr\u001b[0m\u001b[0;34m)\u001b[0m\u001b[0;34m\u001b[0m\u001b[0;34m\u001b[0m\u001b[0m\n\u001b[0;32m---> 10\u001b[0;31m \u001b[0mprint\u001b[0m\u001b[0;34m(\u001b[0m\u001b[0;34m'f1 measure'\u001b[0m\u001b[0;34m,\u001b[0m \u001b[0;36m2\u001b[0m\u001b[0;34m*\u001b[0m\u001b[0mp\u001b[0m\u001b[0;34m*\u001b[0m\u001b[0mr\u001b[0m\u001b[0;34m/\u001b[0m\u001b[0;34m(\u001b[0m\u001b[0mp\u001b[0m\u001b[0;34m+\u001b[0m\u001b[0mr\u001b[0m\u001b[0;34m)\u001b[0m\u001b[0;34m)\u001b[0m\u001b[0;34m\u001b[0m\u001b[0;34m\u001b[0m\u001b[0m\n\u001b[0m",
      "\u001b[0;31mZeroDivisionError\u001b[0m: float division by zero"
     ]
    }
   ],
   "source": [
    "k1 = 200\n",
    "l1 = sorted(prG, key=prG.get, reverse=True)[:k1]\n",
    "l2 = sorted(prSG, key=prSG.get, reverse=True)[:k2]\n",
    "\n",
    "# measures\n",
    "r = precision(k1,l1,l2)\n",
    "p = precision(k2,l1,l2)\n",
    "print('Precision:', p)\n",
    "print('Recall:', r)\n",
    "print('f1 measure', 2*p*r/(p+r))"
   ]
  },
  {
   "cell_type": "markdown",
   "id": "59527701-dd75-4278-b402-86a4d6677e7b",
   "metadata": {
    "jp-MarkdownHeadingCollapsed": true,
    "tags": []
   },
   "source": [
    "## Core decomposition"
   ]
  },
  {
   "cell_type": "code",
   "execution_count": 24,
   "id": "a2048e87-d024-4672-a01e-391e63ba7fe4",
   "metadata": {},
   "outputs": [
    {
     "name": "stdout",
     "output_type": "stream",
     "text": [
      "running time 1.05\n"
     ]
    }
   ],
   "source": [
    "t0  = time.time() \n",
    "coreG = nx.core_number(G)\n",
    "t1 = time.time()\n",
    "print('running time', round(t1-t0,2))"
   ]
  },
  {
   "cell_type": "code",
   "execution_count": 23,
   "id": "cd073b89-7574-4940-a19b-88f0d6fbd509",
   "metadata": {},
   "outputs": [
    {
     "name": "stdout",
     "output_type": "stream",
     "text": [
      "running time 0.47\n"
     ]
    }
   ],
   "source": [
    "t0 = time.time()\n",
    "s.remove_edges_from(nx.selfloop_edges(s))\n",
    "coreS = nx.core_number(s)\n",
    "t1 = time.time()\n",
    "print('running time', round(t1-t0,2))"
   ]
  },
  {
   "cell_type": "code",
   "execution_count": 48,
   "id": "a2b4e36e-4ef6-4d21-8fa4-fff59c02a25f",
   "metadata": {},
   "outputs": [],
   "source": [
    "coreS_dict = {}\n",
    "for k, v in coreS.items():\n",
    "    for node in partition[k]:\n",
    "        coreS_dict[node] = v "
   ]
  },
  {
   "cell_type": "code",
   "execution_count": 49,
   "id": "44970dfa-8026-4236-b134-b2b61f1fe845",
   "metadata": {},
   "outputs": [
    {
     "name": "stdout",
     "output_type": "stream",
     "text": [
      "Precision: 0.011705685618729096\n",
      "Recall: 0.9607843137254902\n",
      "f1 measure 0.023129572810951144\n"
     ]
    }
   ],
   "source": [
    "#inner most core\n",
    "\n",
    "l1 = [k for k in coreG.keys() if coreG[k]==max(coreG.values())]\n",
    "l2 = [k for k in coreS_dict.keys() if coreS_dict[k]==max(coreS_dict.values())]\n",
    "\n",
    "# measures\n",
    "r = precision(len(l1),l1,l2)\n",
    "p = precision(len(l2),l1,l2)\n",
    "print('Precision:', p)\n",
    "print('Recall:', r)\n",
    "print('f1 measure', 2*p*r/(p+r))"
   ]
  },
  {
   "cell_type": "markdown",
   "id": "0b5b684d-7797-4e89-a853-93b70c913316",
   "metadata": {
    "jp-MarkdownHeadingCollapsed": true,
    "tags": []
   },
   "source": [
    "## Shortest Path"
   ]
  },
  {
   "cell_type": "code",
   "execution_count": 19,
   "id": "782677bb-c754-46ee-84b7-9b387f8239dd",
   "metadata": {},
   "outputs": [],
   "source": [
    "# sample 100 couples of nodes \n",
    "cc = nx.connected_components(G)\n",
    "largest_cc = sorted(nx.connected_components(G))[0]\n",
    "sample1 = random.sample(largest_cc, 1)\n",
    "sample2 = random.sample(largest_cc, 1)\n",
    "sample = [list(x) for x in zip(sample1, sample2)]"
   ]
  },
  {
   "cell_type": "code",
   "execution_count": 94,
   "id": "654414a5-adca-4353-99ce-9d3c1684a6e6",
   "metadata": {
    "tags": []
   },
   "outputs": [
    {
     "name": "stdout",
     "output_type": "stream",
     "text": [
      "running time 0.24\n"
     ]
    }
   ],
   "source": [
    "t0 = time.time()\n",
    "nx.shortest_path_length(G, source=sample1[0], target=sample2[0], weight= 'weight', method='dijkstra')\n",
    "t1 = time.time()\n",
    "print('running time', round(t1-t0,2))"
   ]
  },
  {
   "cell_type": "code",
   "execution_count": 20,
   "id": "61a6fafe-84fb-4e97-b91e-55fa2243f18b",
   "metadata": {},
   "outputs": [],
   "source": [
    "def shortest_distance(G,start,w):\n",
    "    \n",
    "    shortestDistance = float(\"inf\")\n",
    "    for n in G.neighbors(source): \n",
    "        currentDistance = nx.shortest_path_length(s, source=n, target=start, weight= w, method='dijkstra')\n",
    "        if currentDistance < shortestDistance:\n",
    "            target = n\n",
    "        shortestDistance = min(currentDistance, shortestDistance)\n",
    "        \n",
    "    return shortestDistance+1 if w==None else shortestDistance+S[start,n]"
   ]
  },
  {
   "cell_type": "code",
   "execution_count": 22,
   "id": "8837e6f3-8655-4471-8a0f-aa931bd81159",
   "metadata": {},
   "outputs": [
    {
     "name": "stdout",
     "output_type": "stream",
     "text": [
      "running time 0.02\n"
     ]
    }
   ],
   "source": [
    "t0 = time.time()\n",
    "s_i = supernode[sample1[0]]\n",
    "s_j = supernode[sample2[0]]\n",
    "if s_i == s_j:\n",
    "    if S[s_i, s_i] != 0:\n",
    "         spS = S[s_i,s_j]\n",
    "    else:\n",
    "        spS = shortest_distance(s, s_i, 'weight')\n",
    "\n",
    "\n",
    "\n",
    "else:\n",
    "    spS = nx.shortest_path_length(s, source=s_i, target=s_j, weight='weight', method='dijkstra')\n",
    "t1 = time.time()\n",
    "print('running time', round(t1-t0,2))"
   ]
  },
  {
   "cell_type": "code",
   "execution_count": 44,
   "id": "666c87be-effa-4710-a66d-73cce1cfad72",
   "metadata": {},
   "outputs": [],
   "source": [
    "# sample 1000 couples of nodes \n",
    "sample1 = random.sample(G.nodes(), 1000)\n",
    "sample2 = random.sample(G.nodes(), 1000)\n",
    "sample = [list(x) for x in zip(sample1, sample2)]"
   ]
  },
  {
   "cell_type": "code",
   "execution_count": 55,
   "id": "7d8378fb-6332-4666-af8c-d43d03460628",
   "metadata": {},
   "outputs": [],
   "source": [
    "# sample 100 couples of nodes \n",
    "cc = nx.connected_components(G)\n",
    "largest_cc = sorted(nx.connected_components(G), key=len)[-1]\n",
    "sample1 = random.sample(largest_cc, 1000)\n",
    "sample2 = random.sample(largest_cc, 1000)\n",
    "sample = [list(x) for x in zip(sample1, sample2)]"
   ]
  },
  {
   "cell_type": "code",
   "execution_count": 50,
   "id": "35e51a97-0543-406c-9c2b-b90dd2a0d6ce",
   "metadata": {},
   "outputs": [],
   "source": [
    "def shortest_distance(G,start,w):\n",
    "    \n",
    "    shortestDistance = float(\"inf\")\n",
    "    for n in G.neighbors(source): \n",
    "        currentDistance = nx.shortest_path_length(s, source=n, target=start, weight= w, method='dijkstra')\n",
    "        if currentDistance < shortestDistance:\n",
    "            target = n\n",
    "        shortestDistance = min(currentDistance, shortestDistance)\n",
    "        \n",
    "    return shortestDistance+1 if w==None else shortestDistance+S[start,n]"
   ]
  },
  {
   "cell_type": "code",
   "execution_count": 56,
   "id": "e64f9577-6ec7-49b8-8769-efa62f385e9b",
   "metadata": {},
   "outputs": [],
   "source": [
    "def shortest_path(G, s, couple):  \n",
    "    avg_err = []\n",
    "    percentage_err = []\n",
    "\n",
    "    for couple in sample:\n",
    "        spG = nx.shortest_path_length(G, source=couple[0], target=couple[1], method='dijkstra')\n",
    "        s_i = supernode[couple[0]]\n",
    "        s_j = supernode[couple[1]]\n",
    "        if s_i == s_j:\n",
    "            if S[s_i, s_j] != 0:\n",
    "                spS = 1\n",
    "            else:\n",
    "                spS = shortest_distance(s, s_i)\n",
    "\n",
    "        else:\n",
    "            spS = nx.shortest_path_length(s, source=s_i, target=s_j, method='dijkstra')\n",
    "        avg_err.append(abs(spG-spS))\n",
    "        percentage_err.append(abs(spG-spS)/spG)\n",
    "\n",
    "    print('Average Error', np.mean(avg_err))\n",
    "    print('Percentage Error', np.mean(percentage_err))"
   ]
  },
  {
   "cell_type": "code",
   "execution_count": 57,
   "id": "8098da0a-cb3c-45bf-88ba-28748f924f59",
   "metadata": {},
   "outputs": [],
   "source": [
    "sample=[[0,176]]"
   ]
  },
  {
   "cell_type": "code",
   "execution_count": 59,
   "id": "66b51605-166f-45a6-bd49-1db0e15e6e65",
   "metadata": {},
   "outputs": [
    {
     "name": "stdout",
     "output_type": "stream",
     "text": [
      "Average Error 5.0\n",
      "Percentage Error 0.8333333333333334\n"
     ]
    }
   ],
   "source": [
    "#unweighted version\n",
    "shortest_path(G,s,sample)"
   ]
  },
  {
   "cell_type": "code",
   "execution_count": 61,
   "id": "0aa74e21-d221-46c6-8da5-228486e8893f",
   "metadata": {
    "tags": []
   },
   "outputs": [
    {
     "name": "stderr",
     "output_type": "stream",
     "text": [
      "100%|██████████| 1000/1000 [03:11<00:00,  5.21it/s]"
     ]
    },
    {
     "name": "stdout",
     "output_type": "stream",
     "text": [
      "Average Error 2.4521952398245284\n",
      "Percentage Error 0.9938579660719886\n"
     ]
    },
    {
     "name": "stderr",
     "output_type": "stream",
     "text": [
      "\n"
     ]
    }
   ],
   "source": [
    "#weighted version\n",
    "shortest_path(G,s,sample,'weight')"
   ]
  },
  {
   "cell_type": "markdown",
   "id": "f73a8413-a90e-4b61-974b-329682d0df73",
   "metadata": {
    "jp-MarkdownHeadingCollapsed": true,
    "tags": []
   },
   "source": [
    "## Queries on S lifted (nxn)"
   ]
  },
  {
   "cell_type": "code",
   "execution_count": null,
   "id": "fab051dd-7b00-44f0-84c3-9aade6b6951a",
   "metadata": {},
   "outputs": [],
   "source": [
    "A = adj_matrix('lastfm.csv', 7624, False, False)"
   ]
  },
  {
   "cell_type": "code",
   "execution_count": null,
   "id": "1222b7aa-535e-4d47-900b-21b6b0ffce0f",
   "metadata": {},
   "outputs": [],
   "source": [
    "A = adj_matrix('fb.csv', 4039, False, False)"
   ]
  },
  {
   "cell_type": "code",
   "execution_count": null,
   "id": "9d6a5892-ebf5-4e17-b524-2cb8bdb62012",
   "metadata": {},
   "outputs": [],
   "source": [
    "A = adj_matrix('gnutella.csv', 6301, True, False)"
   ]
  },
  {
   "cell_type": "code",
   "execution_count": 77,
   "id": "7558ebbb-c4ae-4433-afc9-ab3417e6e684",
   "metadata": {},
   "outputs": [],
   "source": [
    "A = adj_matrix('ubuntu.csv', 3035, False, True)"
   ]
  },
  {
   "cell_type": "code",
   "execution_count": 8,
   "id": "b35d3a80-80a6-4911-86cd-e2e5f3ab7a84",
   "metadata": {},
   "outputs": [],
   "source": [
    "s = nx.from_numpy_matrix(np.matrix(S.A), create_using=nx.Graph)"
   ]
  },
  {
   "cell_type": "code",
   "execution_count": null,
   "id": "acf04fc8-d717-49d6-b03d-c78bee808845",
   "metadata": {},
   "outputs": [],
   "source": [
    "s = nx.from_numpy_matrix(np.matrix(S.A), create_using=nx.DiGraph)"
   ]
  },
  {
   "cell_type": "code",
   "execution_count": 26,
   "id": "09a8bcc0-4266-4a2c-95e8-d5bf00389085",
   "metadata": {},
   "outputs": [
    {
     "name": "stdout",
     "output_type": "stream",
     "text": [
      "Number of zeros in the lifted summary matrix 8095504\n"
     ]
    }
   ],
   "source": [
    "#sparsity\n",
    "print('Number of zeros in the lifted summary matrix',np.count_nonzero(S.A))"
   ]
  },
  {
   "cell_type": "code",
   "execution_count": 16,
   "id": "7bf3f352-eda6-48df-aaa2-6920af64de0f",
   "metadata": {},
   "outputs": [
    {
     "name": "stderr",
     "output_type": "stream",
     "text": [
      "/opt/conda/lib/python3.7/site-packages/scipy/sparse/compressed.py:291: SparseEfficiencyWarning: Comparing a sparse matrix with a scalar greater than zero using < is inefficient, try using >= instead.\n",
      "  warn(bad_scalar_msg, SparseEfficiencyWarning)\n",
      "100%|██████████| 3035/3035 [24:30<00:00,  2.06it/s] "
     ]
    },
    {
     "name": "stdout",
     "output_type": "stream",
     "text": [
      "Hamming distance in adjacency queries 59.62069819262194\n"
     ]
    },
    {
     "name": "stderr",
     "output_type": "stream",
     "text": [
      "\n"
     ]
    }
   ],
   "source": [
    "# hamming distance\n",
    "\n",
    "# discretize \n",
    "# A -> 0 remains 0, values different from zeros became 1\n",
    "A[A>0] = 1\n",
    "# grass -> negative values became 0, positive values 1 \n",
    "S_G[S_G<0.25] = 0\n",
    "S_G[S_G>=0.25] = 1\n",
    "\n",
    "\n",
    "s = 0\n",
    "for i in tqdm(range(3035)):\n",
    "    s += hamming(A.A[i,:], S_G.A[i,:]) * len(A.A)  \n",
    "print(\"Hamming distance in adjacency queries\", s/4039)"
   ]
  },
  {
   "cell_type": "markdown",
   "id": "5f6bf858-511f-408d-9884-889eb8f1ef06",
   "metadata": {
    "tags": []
   },
   "source": [
    "#### Top Degree queries"
   ]
  },
  {
   "cell_type": "code",
   "execution_count": 13,
   "id": "ef9e5bc6-4dd9-4452-a98c-64099d9c0456",
   "metadata": {},
   "outputs": [],
   "source": [
    "def precision(k, deg, degS):\n",
    "    l1 = sorted(deg, key=deg.get, reverse=True)[:k]\n",
    "    l2 = sorted(degS, key=degS.get, reverse=True)[:k]\n",
    "    l3 = [value for value in l1 if value in l2]\n",
    "    intersect = len(l3)\n",
    "    return intersect/k"
   ]
  },
  {
   "cell_type": "code",
   "execution_count": 14,
   "id": "8bae2932-69d2-41c1-86fe-242c6c62f4f8",
   "metadata": {
    "tags": []
   },
   "outputs": [],
   "source": [
    "# degree queries\n",
    "deg = dict()\n",
    "for idx,row in enumerate(A.A):\n",
    "    \n",
    "    deg[idx] = np.sum(row)\n",
    "\n",
    "degS = dict()\n",
    "for idx,row in enumerate(S_G.A):\n",
    "    \n",
    "    degS[idx] = np.sum(row)"
   ]
  },
  {
   "cell_type": "code",
   "execution_count": 15,
   "id": "09468841-88bb-4f93-bfff-2bc496488c95",
   "metadata": {},
   "outputs": [
    {
     "name": "stdout",
     "output_type": "stream",
     "text": [
      "1.0\n",
      "1.0\n",
      "1.0\n"
     ]
    }
   ],
   "source": [
    "print(precision(10, deg, degS))\n",
    "print(precision(50, deg, degS))\n",
    "print(precision(100, deg, degS))"
   ]
  },
  {
   "cell_type": "markdown",
   "id": "59776ba4-444c-4779-a527-e3685d71e167",
   "metadata": {
    "tags": []
   },
   "source": [
    "## Connected Components"
   ]
  },
  {
   "cell_type": "code",
   "execution_count": 78,
   "id": "738ef754-26e2-4578-b18b-d7e9c7db5e82",
   "metadata": {},
   "outputs": [],
   "source": [
    "s = nx.from_numpy_matrix(np.matrix(A.A), create_using=nx.Graph)"
   ]
  },
  {
   "cell_type": "code",
   "execution_count": 74,
   "id": "d62bf478-4de6-4bd8-89d5-2a6ac8777e98",
   "metadata": {},
   "outputs": [
    {
     "data": {
      "text/plain": [
       "37"
      ]
     },
     "execution_count": 74,
     "metadata": {},
     "output_type": "execute_result"
    }
   ],
   "source": [
    "#Number\n",
    "#nx.number_connected_components(s)\n",
    "len([c for c in nx.strongly_connected_components(s)])"
   ]
  },
  {
   "cell_type": "code",
   "execution_count": 79,
   "id": "537dd2d0-f494-4957-a398-9a38d3889598",
   "metadata": {},
   "outputs": [
    {
     "data": {
      "text/plain": [
       "3024"
      ]
     },
     "execution_count": 79,
     "metadata": {},
     "output_type": "execute_result"
    }
   ],
   "source": [
    "# largest cc size\n",
    "largest_cc = max(nx.connected_components(s), key=len)\n",
    "len(largest_cc)"
   ]
  },
  {
   "cell_type": "code",
   "execution_count": null,
   "id": "b0fabacc-f23e-42bd-9e06-240c4c07a0d1",
   "metadata": {
    "tags": []
   },
   "outputs": [],
   "source": [
    "# largest cc diamter and min cut size\n",
    "subs = s.subgraph(largest_cc)\n",
    "#print('largest cc diameter', nx.diameter(subs))\n",
    "print('largest cc min cut size', len(nx.minimum_node_cut(subs)))"
   ]
  },
  {
   "cell_type": "code",
   "execution_count": 32,
   "id": "454271ec-4125-4dd5-951a-76b3987f398b",
   "metadata": {},
   "outputs": [
    {
     "data": {
      "image/png": "[encoded data removed]",
      "text/plain": [
       "<Figure size 1008x504 with 1 Axes>"
      ]
     },
     "metadata": {},
     "output_type": "display_data"
    }
   ],
   "source": [
    "#bar plot of cc\n",
    "\n",
    "cc = nx.weakly_connected_components(s)\n",
    "data = [len(c) for c in sorted(cc, key=len, reverse=True)]\n",
    "\n",
    "plt.figure(figsize=(14,7)) \n",
    "#plt.bar(list(range(len(data))), data, color = 'r', log=False)\n",
    "plt.bar([1,2,3,4,5,6], [1730,0,0,0,0,0], color = 'r', log=False)\n",
    "plt.title('LastFM') \n",
    "#plt.ylim(0,1050)\n",
    "#plt.xlim(0,100)\n",
    "plt.xlabel('Connected Components') \n",
    "plt.xticks(color='w')\n",
    "plt.ylabel('Size') \n",
    "plt.show()"
   ]
  },
  {
   "cell_type": "markdown",
   "id": "5264319e-314b-4b54-9125-9af4d8248f6c",
   "metadata": {
    "jp-MarkdownHeadingCollapsed": true,
    "tags": []
   },
   "source": [
    "## Community Detection"
   ]
  },
  {
   "cell_type": "code",
   "execution_count": null,
   "id": "b0441dd1-3dda-47f0-a8cf-3f6b6df90958",
   "metadata": {},
   "outputs": [],
   "source": [
    "#summary\n",
    "s = nx.from_numpy_matrix(np.matrix(S.A), create_using=nx.Graph)"
   ]
  },
  {
   "cell_type": "code",
   "execution_count": null,
   "id": "1e405a85-fd3d-48be-af16-ca3afb9b247b",
   "metadata": {
    "tags": []
   },
   "outputs": [],
   "source": [
    "t0 = time.time()\n",
    "community = greedy_modularity_communities(s, weight=None)\n",
    "t1 = time.time()\n",
    "print('Running time:', round(t1-t0,2)) "
   ]
  },
  {
   "cell_type": "code",
   "execution_count": null,
   "id": "7e17bf8a-a399-46c7-a95f-39ad92b54e4a",
   "metadata": {
    "tags": []
   },
   "outputs": [],
   "source": [
    "# Assing to each node the community of the supernode it belongs to\n",
    "\n",
    "communityS = []\n",
    "for idx in range(len(community)):\n",
    "    comm_idx = []\n",
    "    for el in community[idx]:\n",
    "        for node in partition[el]:\n",
    "            comm_idx.append(node)\n",
    "    communityS.append(comm_idx)"
   ]
  },
  {
   "cell_type": "code",
   "execution_count": null,
   "id": "210127ae-fe60-4208-926d-40192b7bc6a0",
   "metadata": {},
   "outputs": [],
   "source": [
    "#modularity score\n",
    "print(round(nx_comm.modularity(G, communityS),2))"
   ]
  },
  {
   "cell_type": "code",
   "execution_count": null,
   "id": "caffb444-c284-4ca9-b56d-e3e4e9f81427",
   "metadata": {},
   "outputs": [],
   "source": []
  }
 ],
 "metadata": {
  "environment": {
   "kernel": "conda-root-py",
   "name": "common-cpu.m91",
   "type": "gcloud",
   "uri": "gcr.io/deeplearning-platform-release/base-cpu:m91"
  },
  "kernelspec": {
   "display_name": "Python [conda env:root] *",
   "language": "python",
   "name": "conda-root-py"
  },
  "language_info": {
   "codemirror_mode": {
    "name": "ipython",
    "version": 3
   },
   "file_extension": ".py",
   "mimetype": "text/x-python",
   "name": "python",
   "nbconvert_exporter": "python",
   "pygments_lexer": "ipython3",
   "version": "3.7.12"
  }
 },
 "nbformat": 4,
 "nbformat_minor": 5
}
