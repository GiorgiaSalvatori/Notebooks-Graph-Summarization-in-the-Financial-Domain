{
 "cells": [
  {
   "cell_type": "markdown",
   "id": "5840f908-8837-4e7f-9736-17b383847a0a",
   "metadata": {},
   "source": [
    "## Nx Graph"
   ]
  },
  {
   "cell_type": "code",
   "execution_count": 1,
   "id": "6affac17-e62e-4c1f-848f-573ee0c2b4c1",
   "metadata": {},
   "outputs": [],
   "source": [
    "from sklearn.cluster import KMeans\n",
    "import pandas as pd\n",
    "import networkx as nx\n",
    "import numpy as np\n",
    "import time\n",
    "from scipy.sparse import *\n",
    "from scipy import *\n",
    "from tqdm import tqdm\n",
    "import matplotlib.pyplot as plt\n",
    "from scipy.spatial.distance import hamming\n",
    "from numpy import linalg\n",
    "from matplotlib.pyplot import figure\n",
    "import random\n",
    "import scipy.special\n",
    "import itertools\n",
    "from networkx.algorithms.community import greedy_modularity_communities\n",
    "import networkx.algorithms.community as nx_comm\n",
    "from collections import Counter"
   ]
  },
  {
   "cell_type": "code",
   "execution_count": 2,
   "id": "90ff02f9-8f79-4bc0-a02d-9d8f7c671907",
   "metadata": {},
   "outputs": [],
   "source": [
    "def convert(string):\n",
    "    li = list(string.split(\" \"))\n",
    "    return li"
   ]
  },
  {
   "cell_type": "code",
   "execution_count": 3,
   "id": "e097fabd-f071-4d9b-9537-9de55ea83ab4",
   "metadata": {},
   "outputs": [],
   "source": [
    "def kmeans(k, t, A):\n",
    "\n",
    "    kmeans = KMeans(n_clusters=k, init = 'k-means++', algorithm='auto', max_iter=t).fit(A)\n",
    "    \n",
    "    # id_supernode : list of id_nodes in it\n",
    "    partition = {i: np.where(kmeans.labels_ == i)[0] for i in range(k)}\n",
    "    \n",
    "    #id_node : id_supernode it belongs to\n",
    "    supernode = {}\n",
    "    for k,v in partition.items():\n",
    "        for el in v:\n",
    "            supernode[el] = k\n",
    "  \n",
    "    return partition, supernode"
   ]
  },
  {
   "cell_type": "code",
   "execution_count": 4,
   "id": "ca74c85e-f914-42c8-9f16-47acc7b61663",
   "metadata": {},
   "outputs": [],
   "source": [
    "def lifted_density_matrix(S, n, partition, supernode):\n",
    "    \n",
    "    t0 = time.time()\n",
    "    S_lifted = lil_matrix((n,n), dtype=float) \n",
    "    S_grass = lil_matrix((n,n), dtype=float) \n",
    "    for i in tqdm(range(n)):\n",
    "        for j in range(n):\n",
    "            s_i = supernode[i]\n",
    "            s_j = supernode[j]\n",
    "            \n",
    "            S_lifted[i,j] = S[s_i, s_j]\n",
    "            if s_i != s_j :\n",
    "                S_grass[i,j] = S_lifted[i,j] \n",
    "            elif i != j:\n",
    "                S_grass[i,j] = S_lifted[i,j] * len(partition[s_j])/(len(partition[s_j])-1)   \n",
    "            else:\n",
    "                S_grass[i,j] = 0\n",
    "    t1 = time.time()\n",
    "    print('Running time A_S_lifted + Grass: %f' %(t1-t0))\n",
    "    return S_lifted,S_grass "
   ]
  },
  {
   "cell_type": "code",
   "execution_count": 5,
   "id": "10783c16-ac1f-40cb-bbf4-27b544264704",
   "metadata": {},
   "outputs": [],
   "source": [
    "def density_matrix(k, partition, A, n, supernode):\n",
    "    \n",
    "    t0 = time.time()\n",
    "    \n",
    "    S = dok_matrix((k,k))        #density matrix of the expected weights\n",
    "    S_prob = dok_matrix((k,k))\n",
    "    \n",
    "    for el in nx.generate_edgelist(G):\n",
    "        el = convert(el)\n",
    "        el[0] = int(el[0])\n",
    "        el[1] = int(el[1])\n",
    "        S[supernode[el[0]], supernode[el[1]]] +=  A[el[0],el[1]]\n",
    "        S_prob[supernode[el[0]], supernode[el[1]]] +=  1\n",
    "         \n",
    "    for i in range(k): \n",
    "        for j in range(k): \n",
    "            S[i,j] = S[i,j]/(len(partition[i])*len(partition[j]))\n",
    "            S_prob[i,j] = S_prob[i,j]/(len(partition[i])*len(partition[j]))\n",
    "                    \n",
    "    t1 = time.time()\n",
    "    print('Running time S (kxk): %f' %(t1-t0))\n",
    "    \n",
    "    \n",
    "   # S_probs, S_probs_G = lifted_density_matrix(S_prob,n,partition,supernode)\n",
    "    #S, S_G = lifted_density_matrix(S,n,partition,supernode)\n",
    "    return S_prob, S\n",
    "    #return  S_probs, S_probs_G,  S, S_G"
   ]
  },
  {
   "cell_type": "code",
   "execution_count": 6,
   "id": "252ab509-b190-4f38-ab4f-dab60912b230",
   "metadata": {},
   "outputs": [],
   "source": [
    "def summ(G, n, k, t):\n",
    "    \n",
    "    A = nx.adjacency_matrix(G)\n",
    "    \n",
    "    #partition given by the clustering\n",
    "    t0=time.time()\n",
    "    partition, supernode = kmeans(k, t, A)\n",
    "    t1 = time.time()\n",
    "    print('K-means: %f' %(t1-t0)) \n",
    "   \n",
    "    \n",
    "    S_probs,S = density_matrix(k, partition, A, n, supernode)\n",
    " \n",
    "    return  S_probs, S, partition, supernode"
   ]
  },
  {
   "cell_type": "code",
   "execution_count": 7,
   "id": "049f243a-ba49-4ed8-8faf-84696d7330e7",
   "metadata": {},
   "outputs": [],
   "source": [
    "random.seed(123)"
   ]
  },
  {
   "cell_type": "code",
   "execution_count": 13,
   "id": "ae049997-01e3-4833-afd6-c3cbb21c371f",
   "metadata": {
    "tags": []
   },
   "outputs": [],
   "source": [
    "random.seed(123)\n",
    "n = 1000\n",
    "m = 10000\n",
    "G = nx.gnm_random_graph(n,m, directed=True)\n",
    "for (u,v,w) in G.edges(data=True):\n",
    "    weight = random.randint(1,250000)\n",
    "    w['weight'] = weight"
   ]
  },
  {
   "cell_type": "code",
   "execution_count": 9,
   "id": "6a9ea958-6d04-4e80-a074-c2ee881cf7b5",
   "metadata": {
    "tags": []
   },
   "outputs": [
    {
     "name": "stdout",
     "output_type": "stream",
     "text": [
      "K-means: 6.321812\n",
      "Running time S (kxk): 4.702435\n",
      "Total running time: 11.141651\n"
     ]
    }
   ],
   "source": [
    "t0 = time.time()\n",
    "k = 250\n",
    "S_probs, S, partition, supernode = summ(G,n,k,20)\n",
    "t1 = time.time()\n",
    "\n",
    "print('Total running time: %f' %(t1-t0)) "
   ]
  },
  {
   "cell_type": "code",
   "execution_count": 42,
   "id": "38f66d14-c241-4a82-9ac9-cf1f20d59783",
   "metadata": {},
   "outputs": [
    {
     "ename": "ValueError",
     "evalue": "Received invalid argument(s): edge_labels",
     "output_type": "error",
     "traceback": [
      "\u001b[0;31m---------------------------------------------------------------------------\u001b[0m",
      "\u001b[0;31mValueError\u001b[0m                                Traceback (most recent call last)",
      "\u001b[0;32m/tmp/ipykernel_3489/1991083974.py\u001b[0m in \u001b[0;36m<module>\u001b[0;34m\u001b[0m\n\u001b[1;32m     15\u001b[0m \u001b[0;34m\u001b[0m\u001b[0m\n\u001b[1;32m     16\u001b[0m \u001b[0;34m\u001b[0m\u001b[0m\n\u001b[0;32m---> 17\u001b[0;31m \u001b[0mnx\u001b[0m\u001b[0;34m.\u001b[0m\u001b[0mdraw\u001b[0m\u001b[0;34m(\u001b[0m\u001b[0mG\u001b[0m\u001b[0;34m,\u001b[0m \u001b[0mpos\u001b[0m\u001b[0;34m,\u001b[0m  \u001b[0medge_labels\u001b[0m\u001b[0;34m=\u001b[0m\u001b[0mweight\u001b[0m \u001b[0;34m)\u001b[0m\u001b[0;34m\u001b[0m\u001b[0;34m\u001b[0m\u001b[0m\n\u001b[0m\u001b[1;32m     18\u001b[0m \u001b[0mplt\u001b[0m\u001b[0;34m.\u001b[0m\u001b[0mshow\u001b[0m\u001b[0;34m(\u001b[0m\u001b[0;34m)\u001b[0m\u001b[0;34m\u001b[0m\u001b[0;34m\u001b[0m\u001b[0m\n",
      "\u001b[0;32m/opt/conda/lib/python3.7/site-packages/networkx/drawing/nx_pylab.py\u001b[0m in \u001b[0;36mdraw\u001b[0;34m(G, pos, ax, **kwds)\u001b[0m\n\u001b[1;32m    119\u001b[0m         \u001b[0mkwds\u001b[0m\u001b[0;34m[\u001b[0m\u001b[0;34m\"with_labels\"\u001b[0m\u001b[0;34m]\u001b[0m \u001b[0;34m=\u001b[0m \u001b[0;34m\"labels\"\u001b[0m \u001b[0;32min\u001b[0m \u001b[0mkwds\u001b[0m\u001b[0;34m\u001b[0m\u001b[0;34m\u001b[0m\u001b[0m\n\u001b[1;32m    120\u001b[0m \u001b[0;34m\u001b[0m\u001b[0m\n\u001b[0;32m--> 121\u001b[0;31m     \u001b[0mdraw_networkx\u001b[0m\u001b[0;34m(\u001b[0m\u001b[0mG\u001b[0m\u001b[0;34m,\u001b[0m \u001b[0mpos\u001b[0m\u001b[0;34m=\u001b[0m\u001b[0mpos\u001b[0m\u001b[0;34m,\u001b[0m \u001b[0max\u001b[0m\u001b[0;34m=\u001b[0m\u001b[0max\u001b[0m\u001b[0;34m,\u001b[0m \u001b[0;34m**\u001b[0m\u001b[0mkwds\u001b[0m\u001b[0;34m)\u001b[0m\u001b[0;34m\u001b[0m\u001b[0;34m\u001b[0m\u001b[0m\n\u001b[0m\u001b[1;32m    122\u001b[0m     \u001b[0max\u001b[0m\u001b[0;34m.\u001b[0m\u001b[0mset_axis_off\u001b[0m\u001b[0;34m(\u001b[0m\u001b[0;34m)\u001b[0m\u001b[0;34m\u001b[0m\u001b[0;34m\u001b[0m\u001b[0m\n\u001b[1;32m    123\u001b[0m     \u001b[0mplt\u001b[0m\u001b[0;34m.\u001b[0m\u001b[0mdraw_if_interactive\u001b[0m\u001b[0;34m(\u001b[0m\u001b[0;34m)\u001b[0m\u001b[0;34m\u001b[0m\u001b[0;34m\u001b[0m\u001b[0m\n",
      "\u001b[0;32m/opt/conda/lib/python3.7/site-packages/networkx/drawing/nx_pylab.py\u001b[0m in \u001b[0;36mdraw_networkx\u001b[0;34m(G, pos, arrows, with_labels, **kwds)\u001b[0m\n\u001b[1;32m    322\u001b[0m     \u001b[0;32mif\u001b[0m \u001b[0many\u001b[0m\u001b[0;34m(\u001b[0m\u001b[0;34m[\u001b[0m\u001b[0mk\u001b[0m \u001b[0;32mnot\u001b[0m \u001b[0;32min\u001b[0m \u001b[0mvalid_kwds\u001b[0m \u001b[0;32mfor\u001b[0m \u001b[0mk\u001b[0m \u001b[0;32min\u001b[0m \u001b[0mkwds\u001b[0m\u001b[0;34m]\u001b[0m\u001b[0;34m)\u001b[0m\u001b[0;34m:\u001b[0m\u001b[0;34m\u001b[0m\u001b[0;34m\u001b[0m\u001b[0m\n\u001b[1;32m    323\u001b[0m         \u001b[0minvalid_args\u001b[0m \u001b[0;34m=\u001b[0m \u001b[0;34m\", \"\u001b[0m\u001b[0;34m.\u001b[0m\u001b[0mjoin\u001b[0m\u001b[0;34m(\u001b[0m\u001b[0;34m[\u001b[0m\u001b[0mk\u001b[0m \u001b[0;32mfor\u001b[0m \u001b[0mk\u001b[0m \u001b[0;32min\u001b[0m \u001b[0mkwds\u001b[0m \u001b[0;32mif\u001b[0m \u001b[0mk\u001b[0m \u001b[0;32mnot\u001b[0m \u001b[0;32min\u001b[0m \u001b[0mvalid_kwds\u001b[0m\u001b[0;34m]\u001b[0m\u001b[0;34m)\u001b[0m\u001b[0;34m\u001b[0m\u001b[0;34m\u001b[0m\u001b[0m\n\u001b[0;32m--> 324\u001b[0;31m         \u001b[0;32mraise\u001b[0m \u001b[0mValueError\u001b[0m\u001b[0;34m(\u001b[0m\u001b[0;34mf\"Received invalid argument(s): {invalid_args}\"\u001b[0m\u001b[0;34m)\u001b[0m\u001b[0;34m\u001b[0m\u001b[0;34m\u001b[0m\u001b[0m\n\u001b[0m\u001b[1;32m    325\u001b[0m \u001b[0;34m\u001b[0m\u001b[0m\n\u001b[1;32m    326\u001b[0m     \u001b[0mnode_kwds\u001b[0m \u001b[0;34m=\u001b[0m \u001b[0;34m{\u001b[0m\u001b[0mk\u001b[0m\u001b[0;34m:\u001b[0m \u001b[0mv\u001b[0m \u001b[0;32mfor\u001b[0m \u001b[0mk\u001b[0m\u001b[0;34m,\u001b[0m \u001b[0mv\u001b[0m \u001b[0;32min\u001b[0m \u001b[0mkwds\u001b[0m\u001b[0;34m.\u001b[0m\u001b[0mitems\u001b[0m\u001b[0;34m(\u001b[0m\u001b[0;34m)\u001b[0m \u001b[0;32mif\u001b[0m \u001b[0mk\u001b[0m \u001b[0;32min\u001b[0m \u001b[0mvalid_node_kwds\u001b[0m\u001b[0;34m}\u001b[0m\u001b[0;34m\u001b[0m\u001b[0;34m\u001b[0m\u001b[0m\n",
      "\u001b[0;31mValueError\u001b[0m: Received invalid argument(s): edge_labels"
     ]
    },
    {
     "data": {
      "image/png": "[encoded data removed]",
      "text/plain": [
       "<Figure size 432x288 with 1 Axes>"
      ]
     },
     "metadata": {},
     "output_type": "display_data"
    }
   ],
   "source": [
    "G = nx.MultiDiGraph()\n",
    "G.add_edge(1,2,weight=8)\n",
    "G.add_edge(1,2,weight=3)\n",
    "G.add_edge(2,3,weight=4)\n",
    "G.add_edge(2,3,weight=6)\n",
    "\n",
    "pos = nx.random_layout(G)\n",
    "\n",
    "edges = G.edges()\n",
    "\n",
    "weight = []\n",
    "\n",
    "for (u,v,attrib_dict) in list(G.edges.data()):\n",
    "    weight.append(attrib_dict['weight'])\n",
    "\n",
    "\n",
    "nx.draw(G, pos,  edge_labels=weight )\n",
    "plt.show()"
   ]
  },
  {
   "cell_type": "markdown",
   "id": "4884363d-8933-4852-b719-de57198e541e",
   "metadata": {
    "jp-MarkdownHeadingCollapsed": true,
    "tags": []
   },
   "source": [
    "## Thresholding"
   ]
  },
  {
   "cell_type": "code",
   "execution_count": 11,
   "id": "3474a797-51ad-44e8-9c5e-c6b2b50802b5",
   "metadata": {},
   "outputs": [],
   "source": [
    "A = nx.adjacency_matrix(G)"
   ]
  },
  {
   "cell_type": "code",
   "execution_count": 78,
   "id": "30653793-4e04-4767-a5e1-0f7980435a60",
   "metadata": {},
   "outputs": [],
   "source": [
    "# discretize \n",
    "# A -> 0 remains 0, values different from zeros became 1\n",
    "#A_th = lil_matrix((1000,1000), dtype=float) \n",
    "#A_th[A>0] = 1\n",
    "\n",
    "\n",
    "th = 0.01\n",
    "# thresholding for number of SuperEdges\n",
    "S_probs_th = lil_matrix((1000,1000), dtype=float) \n",
    "S_probs_th[S_probs<th] = 0\n",
    "S_probs_th[S_probs>=th] = 1\n",
    "\n",
    "# thresholding for l2 error\n",
    "S_th = S\n",
    "S_th[S_probs<th] = 0"
   ]
  },
  {
   "cell_type": "code",
   "execution_count": 79,
   "id": "04d99c71-33f5-4124-9f99-5e0f2b4079cf",
   "metadata": {},
   "outputs": [
    {
     "name": "stdout",
     "output_type": "stream",
     "text": [
      "Error l2: with A_S 13363919\n"
     ]
    }
   ],
   "source": [
    "#l2 error\n",
    "print('Error l2: with A_S', round(linalg.norm(A.A-S_th.A)))"
   ]
  },
  {
   "cell_type": "code",
   "execution_count": 80,
   "id": "824a4a5a-1fd0-4b40-bab0-8b99fc9c58dc",
   "metadata": {},
   "outputs": [
    {
     "name": "stdout",
     "output_type": "stream",
     "text": [
      "Edges in the Grass lifted summary matrix 1209\n"
     ]
    }
   ],
   "source": [
    "#Number of SuperEdges\n",
    "print('Edges in the Grass lifted summary matrix',np.count_nonzero(S_probs_th.A))"
   ]
  },
  {
   "cell_type": "markdown",
   "id": "e1a9f827-bb21-4a11-ad71-dece6256493a",
   "metadata": {
    "jp-MarkdownHeadingCollapsed": true,
    "tags": []
   },
   "source": [
    "## Weights comparison"
   ]
  },
  {
   "cell_type": "code",
   "execution_count": 37,
   "id": "38fdc5ba-d692-4b52-8ce1-49d9eb4d0e5a",
   "metadata": {},
   "outputs": [],
   "source": [
    "#summary graph\n",
    "s = nx.from_numpy_matrix(np.matrix(S.A), create_using=nx.DiGraph)"
   ]
  },
  {
   "cell_type": "code",
   "execution_count": 38,
   "id": "6cbaa173-ed57-4386-8428-21fabd20d002",
   "metadata": {},
   "outputs": [],
   "source": [
    "def get_edge_attributes(G, name):\n",
    "    edges = G.edges(data=True)\n",
    "    return [ x[-1]['weight'] for x in edges]"
   ]
  },
  {
   "cell_type": "code",
   "execution_count": 39,
   "id": "1b939212-e143-4367-8ca2-c59a32f6b391",
   "metadata": {},
   "outputs": [],
   "source": [
    "#w_G = get_edge_attributes(G, 'weight')\n",
    "w_S = get_edge_attributes(s, 'weight')"
   ]
  },
  {
   "cell_type": "code",
   "execution_count": 40,
   "id": "db03853a-76b4-4cc2-986f-3e9b7d36f08c",
   "metadata": {},
   "outputs": [
    {
     "data": {
      "image/png": "[encoded data removed]",
      "text/plain": [
       "<Figure size 648x504 with 1 Axes>"
      ]
     },
     "metadata": {
      "needs_background": "light"
     },
     "output_type": "display_data"
    }
   ],
   "source": [
    "colors = ['b','g']\n",
    "#plots the histogram\n",
    "fig, ax1 = plt.subplots(figsize=(9,7))\n",
    "ax1.hist([w_S,w_G],color=colors, bins=20, log=True, label = ['summary','input'])\n",
    "plt.title(\"Random-1\")\n",
    "plt.xlabel(\"Weights\", fontsize=16)  \n",
    "plt.ylabel(\"Frequencies\", fontsize=16)\n",
    "plt.legend(loc=\"upper right\")\n",
    "plt.xticks(fontsize=14)  \n",
    "plt.yticks(fontsize=14)\n",
    "plt.show()"
   ]
  },
  {
   "cell_type": "markdown",
   "id": "2cc2e8a3-0c3a-472c-91e3-8c695860addd",
   "metadata": {
    "jp-MarkdownHeadingCollapsed": true,
    "tags": []
   },
   "source": [
    "## Degree queries"
   ]
  },
  {
   "cell_type": "code",
   "execution_count": 10,
   "id": "1e6baf48-6fdf-48ae-8f78-2b5a92b2fbc9",
   "metadata": {},
   "outputs": [],
   "source": [
    "A = nx.adjacency_matrix(G)"
   ]
  },
  {
   "cell_type": "code",
   "execution_count": 60,
   "id": "a9a3365f-1e35-401d-8c4c-854a2cf06fca",
   "metadata": {},
   "outputs": [],
   "source": [
    "#save the errors for any node\n",
    "\n",
    "s_out_tot = []\n",
    "s_in_tot = []"
   ]
  },
  {
   "cell_type": "code",
   "execution_count": 256,
   "id": "ca861a51-8d25-4b1e-b8f7-5f2f1d8b117c",
   "metadata": {},
   "outputs": [],
   "source": [
    "# discretize \n",
    "# A -> 0 remains 0, values different from zeros became 1\n",
    "#A[A>0] = 1\n",
    "# grass -> negative values became 0, positive values 1 \n",
    "\n",
    "#Th = 0.02, 0.05, 0.1, 0.25, 0.5, 0.75\n",
    "probs_G = lil_matrix((1000,1000), dtype=float) \n",
    "probs_G[S_probs_G<0.75]= 0\n",
    "probs_G[S_probs_G>=0.75] = 1"
   ]
  },
  {
   "cell_type": "code",
   "execution_count": 79,
   "id": "0f3d353e-82fd-409a-93bd-b9331b85d966",
   "metadata": {},
   "outputs": [],
   "source": [
    "#discretize for weighted degree\n",
    "S_G_dq = S_G \n",
    "S_G_dq[S_probs_G<0.75]= 0"
   ]
  },
  {
   "cell_type": "code",
   "execution_count": 80,
   "id": "f3db2062-f4ac-443a-b0b3-deeb85db2f88",
   "metadata": {},
   "outputs": [
    {
     "name": "stderr",
     "output_type": "stream",
     "text": [
      "100%|██████████| 1000/1000 [00:00<00:00, 1460.88it/s]"
     ]
    },
    {
     "name": "stdout",
     "output_type": "stream",
     "text": [
      "Average error in adjacency queries 0.89\n"
     ]
    },
    {
     "name": "stderr",
     "output_type": "stream",
     "text": [
      "\n"
     ]
    }
   ],
   "source": [
    "#out degree queries percentage\n",
    "s_out = []\n",
    "\n",
    "for i in tqdm(range(1000)):\n",
    "    sumA = np.sum(A[i,:])\n",
    "    #sumS = np.sum(probs_G[i,:])\n",
    "    sumS = np.sum(S_G_dq[i,:])\n",
    "    s_out.append((abs(sumA - sumS))/sumA )\n",
    "    \n",
    "s_out_tot.append(round(np.mean(s_out),2))\n",
    "print(\"Average error in adjacency queries\", round(np.mean(s_out),2))"
   ]
  },
  {
   "cell_type": "code",
   "execution_count": 81,
   "id": "1629769f-cba0-450d-82ad-e9938626d041",
   "metadata": {},
   "outputs": [
    {
     "name": "stderr",
     "output_type": "stream",
     "text": [
      "100%|██████████| 1000/1000 [00:02<00:00, 438.12it/s]"
     ]
    },
    {
     "name": "stdout",
     "output_type": "stream",
     "text": [
      "Average error in adjacency queries 0.85\n"
     ]
    },
    {
     "name": "stderr",
     "output_type": "stream",
     "text": [
      "\n"
     ]
    }
   ],
   "source": [
    "#in degree queries percentage\n",
    "s_in = []\n",
    "\n",
    "for i in tqdm(range(1000)):\n",
    "    sumA = np.sum(A[:,i])\n",
    "    #sumS = np.sum(probs_G[:,i])\n",
    "    sumS = np.sum(S_G_dq[:,i])\n",
    "    if sumA !=0:\n",
    "        s_in.append((abs(sumA - sumS))/sumA )\n",
    "\n",
    "\n",
    "s_in_tot.append(round(np.mean(s_in),2))\n",
    "print(\"Average error in adjacency queries\", round(np.mean(s_in),2))"
   ]
  },
  {
   "cell_type": "code",
   "execution_count": 82,
   "id": "ffa75dc5-4bc7-4d35-8f58-34a4234f7af9",
   "metadata": {},
   "outputs": [
    {
     "data": {
      "image/png": "[encoded data removed]",
      "text/plain": [
       "<Figure size 720x360 with 1 Axes>"
      ]
     },
     "metadata": {
      "needs_background": "light"
     },
     "output_type": "display_data"
    }
   ],
   "source": [
    "labels = [0.01, 0.02, 0.05, 0.1, 0.25, 0.5, 0.75]\n",
    "\n",
    "x = np.arange(len(labels))  # the label locations\n",
    "width = 0.35  # the width of the bars\n",
    "\n",
    "fig, ax = plt.subplots()\n",
    "fig.set_figheight(5)\n",
    "fig.set_figwidth(10)\n",
    "rects1 = ax.bar(x - width/2, s_out_tot , width, label='Out Degree Error')\n",
    "rects2 = ax.bar(x + width/2, s_in_tot, width, label='In Degree Error')\n",
    "\n",
    "# Add some text for labels, title and custom x-axis tick labels, etc.\n",
    "ax.set_ylim(0, 1.3)\n",
    "ax.set_xlabel('Threshold')\n",
    "ax.set_ylabel('Relative Error')\n",
    "ax.set_title(\"Random-1\")\n",
    "ax.set_xticks(x, labels)\n",
    "ax.legend()\n",
    "\n",
    "ax.bar_label(rects1, padding=3)\n",
    "ax.bar_label(rects2, padding=3)\n",
    "\n",
    "fig.tight_layout()\n",
    "\n",
    "plt.show()"
   ]
  },
  {
   "cell_type": "markdown",
   "id": "5e13313d-92ba-4cce-8284-08ad4c05f13f",
   "metadata": {
    "jp-MarkdownHeadingCollapsed": true,
    "tags": []
   },
   "source": [
    "## Nx queries"
   ]
  },
  {
   "cell_type": "code",
   "execution_count": 11,
   "id": "90abad57-050c-404c-86f5-836135bedff4",
   "metadata": {},
   "outputs": [],
   "source": [
    "#summary\n",
    "s = nx.from_numpy_matrix(np.matrix(S.A), create_using=nx.DiGraph)"
   ]
  },
  {
   "cell_type": "code",
   "execution_count": 53,
   "id": "ba243ebe-3de5-4933-94cd-badd4fcbb5ae",
   "metadata": {},
   "outputs": [
    {
     "name": "stdout",
     "output_type": "stream",
     "text": [
      "3\n",
      "running time 0.15\n"
     ]
    }
   ],
   "source": [
    "t0 = time.time()\n",
    "print(nx.diameter(s))\n",
    "t1 = time.time()\n",
    "print('running time', round(t1-t0,2))"
   ]
  },
  {
   "cell_type": "code",
   "execution_count": 54,
   "id": "4044a9ba-c2ba-4aa5-bec8-5b9231787030",
   "metadata": {},
   "outputs": [
    {
     "name": "stdout",
     "output_type": "stream",
     "text": [
      "running time 0.06\n"
     ]
    }
   ],
   "source": [
    "#average clustering\n",
    "t0 = time.time()\n",
    "nx.average_clustering(s)\n",
    "t1 = time.time()\n",
    "print('running time', round(t1-t0,2))"
   ]
  },
  {
   "cell_type": "code",
   "execution_count": 22,
   "id": "66d9232a-8723-462a-93e7-013a143c50ea",
   "metadata": {
    "tags": []
   },
   "outputs": [
    {
     "name": "stdout",
     "output_type": "stream",
     "text": [
      "{299}\n",
      "running time 95.29\n"
     ]
    }
   ],
   "source": [
    "# minimum cut\n",
    "t0 = time.time()\n",
    "print(nx.minimum_node_cut(G0))\n",
    "t1 = time.time()\n",
    "print('running time', round(t1-t0,2))"
   ]
  },
  {
   "cell_type": "markdown",
   "id": "2d6d7b8f-3fc1-400c-998f-d53fee956955",
   "metadata": {
    "jp-MarkdownHeadingCollapsed": true,
    "tags": []
   },
   "source": [
    "## Queries"
   ]
  },
  {
   "cell_type": "code",
   "execution_count": 77,
   "id": "86964c7a-7318-4bcd-ac39-398a98627b2e",
   "metadata": {},
   "outputs": [],
   "source": [
    "A = nx.adjacency_matrix(G)"
   ]
  },
  {
   "cell_type": "code",
   "execution_count": 24,
   "id": "3f4eb899-83c3-4abb-bdab-6720537ef818",
   "metadata": {},
   "outputs": [
    {
     "name": "stdout",
     "output_type": "stream",
     "text": [
      "Error l2: with A_S 13114793\n"
     ]
    }
   ],
   "source": [
    "#err(A,A_S_lifted)\n",
    "print('Error l2: with A_S', round(linalg.norm(A.A-S.A)))"
   ]
  },
  {
   "cell_type": "code",
   "execution_count": 45,
   "id": "5da02f8f-0b0d-4ba0-ba11-acd922300627",
   "metadata": {},
   "outputs": [
    {
     "data": {
      "text/plain": [
       "4633"
      ]
     },
     "execution_count": 45,
     "metadata": {},
     "output_type": "execute_result"
    }
   ],
   "source": [
    "s = nx.from_numpy_matrix(np.matrix(S.A), create_using=nx.DiGraph)\n",
    "len(s.edges())"
   ]
  },
  {
   "cell_type": "code",
   "execution_count": 46,
   "id": "72457a5d-2a64-4bcd-8788-7fc0bc9d7260",
   "metadata": {},
   "outputs": [
    {
     "name": "stderr",
     "output_type": "stream",
     "text": [
      "/opt/conda/lib/python3.7/site-packages/ipykernel_launcher.py:1: DeprecationWarning: scipy.mean is deprecated and will be removed in SciPy 2.0.0, use numpy.mean instead\n",
      "  \"\"\"Entry point for launching an IPython kernel.\n"
     ]
    },
    {
     "data": {
      "text/plain": [
       "1696.795674491348"
      ]
     },
     "execution_count": 46,
     "metadata": {},
     "output_type": "execute_result"
    }
   ],
   "source": [
    "mean(S.A)"
   ]
  },
  {
   "cell_type": "code",
   "execution_count": 272,
   "id": "fa718bbc-12a7-4bec-a51d-b20275798e2a",
   "metadata": {},
   "outputs": [
    {
     "name": "stdout",
     "output_type": "stream",
     "text": [
      "Number of zeros in the lifted summary matrix 7686\n"
     ]
    }
   ],
   "source": [
    "#sparsity of S (kxk)\n",
    "print('Number of zeros in the lifted summary matrix',np.count_nonzero(S.A==0))"
   ]
  },
  {
   "cell_type": "code",
   "execution_count": 78,
   "id": "a3541e76-abcd-4c1d-81ad-6fadbb0f7d0e",
   "metadata": {
    "tags": []
   },
   "outputs": [],
   "source": [
    "#adjacency queries\n",
    "# discretize \n",
    "A = A.A\n",
    "S_probs_G = S_probs_G.A\n",
    "A[A>0] = 1"
   ]
  },
  {
   "cell_type": "code",
   "execution_count": 79,
   "id": "55db1160-dff4-4008-a892-1b69c602108f",
   "metadata": {},
   "outputs": [],
   "source": [
    "probs_G = S_probs_G\n",
    "probs_G[S_probs_G<0.25] = 0\n",
    "probs_G[S_probs_G>=0.25] = 1"
   ]
  },
  {
   "cell_type": "code",
   "execution_count": 80,
   "id": "0ef6735c-3e19-4ff9-8631-22b6e7e298de",
   "metadata": {},
   "outputs": [
    {
     "name": "stdout",
     "output_type": "stream",
     "text": [
      "Hamming distance in adjacency queries 9.051\n"
     ]
    }
   ],
   "source": [
    "s=0\n",
    "for i in range(1000):\n",
    "    s += hamming(A[i,:], probs_G[i,:]) * len(A)  # hamming distance\n",
    "print(\"Hamming distance in adjacency queries\", s/1000)"
   ]
  },
  {
   "cell_type": "code",
   "execution_count": 232,
   "id": "6b6a9844-e3be-4525-b279-69b35a7d45f0",
   "metadata": {},
   "outputs": [],
   "source": [
    "# top degree queries\n",
    "def precision(k, deg, degS):\n",
    "    l1 = sorted(deg, key=deg.get, reverse=True)[:k]\n",
    "    l2 = sorted(degS, key=degS.get, reverse=True)[:k]\n",
    "    l3 = [value for value in l1 if value in l2]\n",
    "    intersect = len(l3)\n",
    "    return intersect/k"
   ]
  },
  {
   "cell_type": "code",
   "execution_count": 237,
   "id": "66dfdc0c-ae95-469e-847f-398b7497ff0c",
   "metadata": {},
   "outputs": [
    {
     "name": "stdout",
     "output_type": "stream",
     "text": [
      "0.7\n",
      "0.5\n",
      "0.49\n"
     ]
    }
   ],
   "source": [
    "# top degree queries\n",
    "# degree queries\n",
    "A = nx.adjacency_matrix(G)\n",
    "deg = dict()\n",
    "for idx,row in enumerate(A):\n",
    "    deg[idx] = np.sum(row)\n",
    "\n",
    "    \n",
    "degS = dict()\n",
    "for idx,row in enumerate(S_G):\n",
    "    degS[idx] = np.sum(row)\n",
    "    \n",
    "print(precision(10, deg, degS))\n",
    "print(precision(50, deg, degS))\n",
    "print(precision(100, deg, degS))"
   ]
  },
  {
   "cell_type": "markdown",
   "id": "58bd509e-e672-4fa4-80c6-186aae70caf6",
   "metadata": {
    "jp-MarkdownHeadingCollapsed": true,
    "tags": []
   },
   "source": [
    "## Triangles"
   ]
  },
  {
   "cell_type": "code",
   "execution_count": 83,
   "id": "3384b2c6-6f83-4e81-a341-df3408774b9a",
   "metadata": {},
   "outputs": [],
   "source": [
    "G2 = G.to_undirected()"
   ]
  },
  {
   "cell_type": "code",
   "execution_count": 84,
   "id": "7b26f74b-3629-4b9c-ae3a-2fac7abb05d0",
   "metadata": {},
   "outputs": [
    {
     "name": "stderr",
     "output_type": "stream",
     "text": [
      "/opt/conda/lib/python3.7/site-packages/ipykernel_launcher.py:1: DeprecationWarning: scipy.sum is deprecated and will be removed in SciPy 2.0.0, use numpy.sum instead\n",
      "  \"\"\"Entry point for launching an IPython kernel.\n"
     ]
    },
    {
     "data": {
      "text/plain": [
       "1253.0"
      ]
     },
     "execution_count": 84,
     "metadata": {},
     "output_type": "execute_result"
    }
   ],
   "source": [
    "sum(list(nx.triangles(G2).values())) / 3"
   ]
  },
  {
   "cell_type": "code",
   "execution_count": 59,
   "id": "e6f1e8fa-ec13-4ac1-81ba-17c75b5d3852",
   "metadata": {},
   "outputs": [
    {
     "name": "stderr",
     "output_type": "stream",
     "text": [
      "100%|██████████| 350/350 [02:27<00:00,  2.38it/s]"
     ]
    },
    {
     "name": "stdout",
     "output_type": "stream",
     "text": [
      "Expected Number of triangles:  929\n",
      "running time 147.1\n"
     ]
    },
    {
     "name": "stderr",
     "output_type": "stream",
     "text": [
      "\n"
     ]
    }
   ],
   "source": [
    "#Riondato\n",
    "t0 = time.time()\n",
    "t = 0\n",
    "for i in tqdm(range(k)):\n",
    "    n_i = len(partition[i])\n",
    "    pi_ii = S_probs[i,i] * n_i / (n_i - 1) if n_i > 1 else 0\n",
    "    t += scipy.special.binom(n_i,3) * pi_ii**3\n",
    "    for j in range(i+1, k):\n",
    "        pi_ij = (S_probs[i,j] + S_probs[j,i]) - (S_probs[i,j] * S_probs[j,i])\n",
    "        n_j = len(partition[j])\n",
    "        pi_jj = S_probs[j,j] * n_j / (n_j-1) if n_j > 1 else 0\n",
    "        t += pi_ij**2*(scipy.special.binom(n_i,2)*n_j*pi_ii + scipy.special.binom(n_j,2)*n_i*pi_jj)\n",
    "        for w in range(j+1,k):\n",
    "            n_w = len(partition[w])\n",
    "            pi_jw = (S_probs[j,w] + S_probs[j,w]) - (S_probs[j,w] * S_probs[j,w])\n",
    "            pi_wi = (S_probs[w,i] + S_probs[i,w]) - (S_probs[w,i] * S_probs[i,w])\n",
    "            t += n_i*n_j*n_w*pi_ij*pi_jw*pi_wi\n",
    "print(\"Expected Number of triangles: \", round(t))\n",
    "t1 = time.time()\n",
    "print('running time', round(t1-t0,2))"
   ]
  },
  {
   "cell_type": "markdown",
   "id": "0d97aca8-d025-4644-882f-8540184dbb37",
   "metadata": {
    "jp-MarkdownHeadingCollapsed": true,
    "tags": []
   },
   "source": [
    "## Centrality measures"
   ]
  },
  {
   "cell_type": "code",
   "execution_count": 23,
   "id": "c134db3e-d58b-4428-b9b0-c32c2ee5359c",
   "metadata": {},
   "outputs": [],
   "source": [
    "def precision(k, l1, l2):\n",
    "    l3 = [value for value in l1 if value in l2]\n",
    "    intersect = len(l3)\n",
    "    return intersect/k"
   ]
  },
  {
   "cell_type": "code",
   "execution_count": 35,
   "id": "9058b3bc-a74e-4f9b-93f8-bbf626ffdc2a",
   "metadata": {},
   "outputs": [],
   "source": [
    "#summary\n",
    "s = nx.from_numpy_matrix(np.matrix(S.A), create_using=nx.DiGraph)"
   ]
  },
  {
   "cell_type": "code",
   "execution_count": 36,
   "id": "7bbdc48d-cb5e-4295-a980-6a834f113f30",
   "metadata": {},
   "outputs": [],
   "source": [
    "prG = nx.pagerank(G)\n",
    "prS = nx.pagerank(s)"
   ]
  },
  {
   "cell_type": "code",
   "execution_count": 41,
   "id": "5eeac046-72d5-4f9a-936c-9e75411ed244",
   "metadata": {},
   "outputs": [],
   "source": [
    "prG = nx.closeness_centrality(G)\n",
    "prS = nx.closeness_centrality(s)"
   ]
  },
  {
   "cell_type": "code",
   "execution_count": 37,
   "id": "fa55e6e7-0cd9-469f-93da-effbce698d34",
   "metadata": {},
   "outputs": [],
   "source": [
    "#normalization for pagerank\n",
    "for i in range(k):\n",
    "    prS[i] = prS[i]/len(partition[i])"
   ]
  },
  {
   "cell_type": "code",
   "execution_count": 56,
   "id": "9c2500f8-915e-492c-8132-7d6e1b2d019c",
   "metadata": {
    "tags": []
   },
   "outputs": [],
   "source": [
    "#normalization for the degree centrality\n",
    "for i in range(k):\n",
    "    if S[i,i] !=0:\n",
    "        prS[i] = prS[i] + (len(partition[i]) - 1)"
   ]
  },
  {
   "cell_type": "code",
   "execution_count": 38,
   "id": "f2bdb5d1-d01c-4af5-8cfe-eee18a51d78b",
   "metadata": {
    "tags": []
   },
   "outputs": [],
   "source": [
    "#assign the centrality of the supernode to the nodes inside it\n",
    "prSG = {}\n",
    "for k,v in prS.items():\n",
    "    for el in partition[k]:\n",
    "        prSG[el] = v"
   ]
  },
  {
   "cell_type": "code",
   "execution_count": 49,
   "id": "b1895e29-1de5-44ab-95b1-bcdb89c8f664",
   "metadata": {
    "tags": []
   },
   "outputs": [],
   "source": [
    "th = sorted(list(prSG.values()), reverse=True)[99]"
   ]
  },
  {
   "cell_type": "code",
   "execution_count": 50,
   "id": "c81cf869-4376-42cc-8439-2d8a27da7392",
   "metadata": {
    "tags": []
   },
   "outputs": [
    {
     "name": "stdout",
     "output_type": "stream",
     "text": [
      "100\n"
     ]
    }
   ],
   "source": [
    "for idx,el in enumerate(sorted(list(prSG.values()), reverse=True)):\n",
    "    if el<th:\n",
    "        print(idx)\n",
    "        k2 = idx\n",
    "        break"
   ]
  },
  {
   "cell_type": "code",
   "execution_count": 51,
   "id": "901e7f5d-6dc2-4cdc-96ec-6e8db6f77813",
   "metadata": {},
   "outputs": [
    {
     "name": "stdout",
     "output_type": "stream",
     "text": [
      "Precision: 0.2\n",
      "Recall: 0.2\n",
      "f1 measure 0.20000000000000004\n"
     ]
    }
   ],
   "source": [
    "k1 = 100\n",
    "l1 = sorted(prG, key=prG.get, reverse=True)[:k1]\n",
    "l2 = sorted(prSG, key=prSG.get, reverse=True)[:k2]\n",
    "\n",
    "# measures\n",
    "r = precision(k1,l1,l2)\n",
    "p = precision(k2,l1,l2)\n",
    "print('Precision:', p)\n",
    "print('Recall:', r)\n",
    "print('f1 measure', 2*p*r/(p+r))"
   ]
  },
  {
   "cell_type": "markdown",
   "id": "b3b0e816-12d5-4402-b481-2ae08a0b7c1b",
   "metadata": {
    "jp-MarkdownHeadingCollapsed": true,
    "tags": []
   },
   "source": [
    "## Core decomposition"
   ]
  },
  {
   "cell_type": "code",
   "execution_count": 26,
   "id": "ae0a2f02-6f7e-4ed0-9d0b-7e3a1050cbb8",
   "metadata": {},
   "outputs": [
    {
     "name": "stdout",
     "output_type": "stream",
     "text": [
      "running time 0.01\n"
     ]
    }
   ],
   "source": [
    "t0 = time.time()\n",
    "coreG = nx.core_number(G)\n",
    "t1 = time.time()\n",
    "print('running time', round(t1-t0,2))"
   ]
  },
  {
   "cell_type": "code",
   "execution_count": 49,
   "id": "044efbe5-d9f0-4613-8349-d13f0ef8133f",
   "metadata": {},
   "outputs": [
    {
     "name": "stdout",
     "output_type": "stream",
     "text": [
      "running time 0.01\n"
     ]
    }
   ],
   "source": [
    "t0 = time.time()\n",
    "s.remove_edges_from(nx.selfloop_edges(s))\n",
    "coreS = nx.core_number(s)\n",
    "t1 = time.time()\n",
    "print('running time', round(t1-t0,2))"
   ]
  },
  {
   "cell_type": "code",
   "execution_count": 161,
   "id": "7fee13fb-dd22-4d6e-a86a-52ea8157bb66",
   "metadata": {},
   "outputs": [],
   "source": [
    "coreS_dict = {}\n",
    "for k, v in coreS.items():\n",
    "    for node in partition[k]:\n",
    "        coreS_dict[node] = v "
   ]
  },
  {
   "cell_type": "code",
   "execution_count": 162,
   "id": "874a05be-14eb-47a0-bb62-c32049c533e7",
   "metadata": {},
   "outputs": [
    {
     "name": "stdout",
     "output_type": "stream",
     "text": [
      "Nodes with the largest core number in the input: 869\n",
      "Nodes with the largest core number in the input: 188\n",
      "Precision: 0.898936170212766\n",
      "Recall: 0.19447640966628307\n",
      "f1 measure 0.31977294228949854\n"
     ]
    }
   ],
   "source": [
    "#inner most core\n",
    "\n",
    "l1 = [k for k in coreG.keys() if coreG[k]==max(coreG.values())]\n",
    "l2 = [k for k in coreS.keys() if coreS[k]==max(coreS.values())]\n",
    "\n",
    "print('Nodes with the largest core number in the input:', len(l1))\n",
    "print('Nodes with the largest core number in the input:', len(l2))\n",
    "\n",
    "# measures\n",
    "r = precision(len(l1),l1,l2)\n",
    "p = precision(len(l2),l1,l2)\n",
    "print('Precision:', p)\n",
    "print('Recall:', r)\n",
    "print('f1 measure', 2*p*r/(p+r))"
   ]
  },
  {
   "cell_type": "markdown",
   "id": "9c97790e-9c8a-4b32-a15b-6c5ae255810a",
   "metadata": {
    "jp-MarkdownHeadingCollapsed": true,
    "tags": []
   },
   "source": [
    "## Shortest Path"
   ]
  },
  {
   "cell_type": "code",
   "execution_count": 28,
   "id": "3a769e4a-2b2f-4a2b-a6dd-d7ea8c924789",
   "metadata": {},
   "outputs": [],
   "source": [
    "# sample 100 couples of nodes \n",
    "sample1 = random.sample(G.nodes, 1000)\n",
    "sample2 = random.sample(G.nodes, 1000)\n",
    "sample = [list(x) for x in zip(sample1, sample2)]"
   ]
  },
  {
   "cell_type": "code",
   "execution_count": 194,
   "id": "35e51a97-0543-406c-9c2b-b90dd2a0d6ce",
   "metadata": {},
   "outputs": [],
   "source": [
    "def shortest_distance(G,start,w):\n",
    "    \n",
    "    shortestDistance = float(\"inf\")\n",
    "    for n in G.neighbors(source): \n",
    "        currentDistance = nx.shortest_path_length(s, source=n, target=start, weight= w, method='dijkstra')\n",
    "        if currentDistance < shortestDistance:\n",
    "            target = n\n",
    "        shortestDistance = min(currentDistance, shortestDistance)\n",
    "        \n",
    "    return shortestDistance+1 if w==None else shortestDistance+S[start,n]"
   ]
  },
  {
   "cell_type": "code",
   "execution_count": 238,
   "id": "e64f9577-6ec7-49b8-8769-efa62f385e9b",
   "metadata": {},
   "outputs": [],
   "source": [
    "def shortest_path(G, s, couple, w):\n",
    "    avg_err_same_supernode = []\n",
    "    percentage_err_same_supernode = []\n",
    "\n",
    "    avg_err = []\n",
    "    percentage_err = []\n",
    "\n",
    "    for couple in sample:\n",
    "        spG = nx.shortest_path_length(G, source=couple[0], target=couple[1], weight= w, method='dijkstra')\n",
    "        s_i = supernode[couple[0]]\n",
    "        s_j = supernode[couple[1]]\n",
    "        if s_i == s_j:\n",
    "            if S[s_i, s_i] != 0:\n",
    "                spS = S[s_i, s_i]\n",
    "                #print('spS e spG', spS,spG)\n",
    "            else:\n",
    "                spS = shortest_distance(s, s_i, w)\n",
    "\n",
    "            avg_err_same_supernode.append(abs(spG-spS))\n",
    "            percentage_err_same_supernode.append(abs(spG-spS)/spG)\n",
    "\n",
    "        else:\n",
    "            spS = nx.shortest_path_length(s, source=s_i, target=s_j, weight=w, method='dijkstra')\n",
    "            avg_err.append(abs(spG-spS))\n",
    "            percentage_err.append(abs(spG-spS)/spG if abs(spG-spS)/spG<1 else 1) \n",
    "        \n",
    "        #print(abs(spG-spS))\n",
    "    print('Average Error', (np.mean(avg_err_same_supernode)+np.mean(avg_err))/2)\n",
    "    print('Percentage Error', (np.mean(percentage_err_same_supernode)+ np.mean(percentage_err))/2)"
   ]
  },
  {
   "cell_type": "code",
   "execution_count": 226,
   "id": "c65f1803-6457-4feb-a58c-7d827929d6bb",
   "metadata": {
    "tags": []
   },
   "outputs": [
    {
     "name": "stdout",
     "output_type": "stream",
     "text": [
      "Average Error 2.6796104905904055\n",
      "Percentage Error 0.8174601704273081\n"
     ]
    }
   ],
   "source": [
    "#unweighted version\n",
    "shortest_path(G,s,couple,None)"
   ]
  },
  {
   "cell_type": "code",
   "execution_count": 239,
   "id": "b8c46a34-c3f0-4145-be1f-28dcedff40ed",
   "metadata": {
    "tags": []
   },
   "outputs": [
    {
     "name": "stdout",
     "output_type": "stream",
     "text": [
      "Average Error 187111.51900080687\n",
      "Percentage Error 0.9927663286560815\n"
     ]
    }
   ],
   "source": [
    "#weighted version\n",
    "shortest_path(G,s,couple,'weight')"
   ]
  },
  {
   "cell_type": "markdown",
   "id": "bda0ab2d-1696-4eef-8ce7-9637683844f8",
   "metadata": {
    "jp-MarkdownHeadingCollapsed": true,
    "tags": []
   },
   "source": [
    "## Cluster of nx graph"
   ]
  },
  {
   "cell_type": "code",
   "execution_count": 24,
   "id": "a451285f-06a8-4167-b4c5-1459bd7fef37",
   "metadata": {},
   "outputs": [],
   "source": [
    "# cluster : size\n",
    "cluster={}\n",
    "for k,v in partition.items():\n",
    "    cluster[k] = len(v)\n",
    "s = np.array([key for key, val in cluster.items() for _ in range(val)])"
   ]
  },
  {
   "cell_type": "code",
   "execution_count": 25,
   "id": "b0e1bf2e-9bfa-49d4-b601-07e294eac6d4",
   "metadata": {},
   "outputs": [],
   "source": [
    "n=1000"
   ]
  },
  {
   "cell_type": "code",
   "execution_count": 26,
   "id": "f5f165e5-1806-4ebc-8a52-45102e510d5c",
   "metadata": {},
   "outputs": [
    {
     "name": "stdout",
     "output_type": "stream",
     "text": [
      "median 1.0\n",
      "mean 2.857142857142857\n",
      "variance 962.071020408163\n",
      "max 582\n",
      "max percentage 0.582\n"
     ]
    }
   ],
   "source": [
    "print('median', np.median(list(cluster.values())))\n",
    "print('mean', np.mean(list(cluster.values())))\n",
    "print('variance', np.var(list(cluster.values())))\n",
    "print('max', np.max(list(cluster.values())))\n",
    "print('max percentage', np.max(list(cluster.values()))/n)"
   ]
  },
  {
   "cell_type": "code",
   "execution_count": 27,
   "id": "405bb2be-9718-4c7f-8e81-e64e4f1f1b71",
   "metadata": {},
   "outputs": [
    {
     "data": {
      "image/png": "[encoded data removed]",
      "text/plain": [
       "<Figure size 1008x504 with 1 Axes>"
      ]
     },
     "metadata": {},
     "output_type": "display_data"
    }
   ],
   "source": [
    "#cluster distribution\n",
    "\n",
    "plt.figure(figsize=(14,7)) # Make it 14x7 inch\n",
    "plt.style.use('seaborn-whitegrid') # nice and clean grid\n",
    "plt.hist(s, bins=k, facecolor = 'yellowgreen', edgecolor='olivedrab',  linewidth=0.5, log=True, label = 'Random-1')\n",
    "plt.title('Random-1') \n",
    "plt.xlabel('supernodes') \n",
    "plt.ylabel('densities') \n",
    "plt.legend(loc=\"upper left\")\n",
    "plt.show()"
   ]
  },
  {
   "cell_type": "markdown",
   "id": "1e713a97-b47b-4b03-9f53-838ea816037a",
   "metadata": {
    "jp-MarkdownHeadingCollapsed": true,
    "tags": []
   },
   "source": [
    "## Clusters comparison"
   ]
  },
  {
   "cell_type": "code",
   "execution_count": 19,
   "id": "bad090f3-4a9e-4e4d-a7ed-448fc526da36",
   "metadata": {},
   "outputs": [],
   "source": [
    "cluster2 = np.load('my_file.npy',allow_pickle='TRUE').item()"
   ]
  },
  {
   "cell_type": "code",
   "execution_count": 144,
   "id": "480fb64e-da26-4fb4-a822-03bdfbb99277",
   "metadata": {},
   "outputs": [
    {
     "data": {
      "image/png": "[encoded data removed]",
      "text/plain": [
       "<Figure size 648x504 with 1 Axes>"
      ]
     },
     "metadata": {
      "needs_background": "light"
     },
     "output_type": "display_data"
    }
   ],
   "source": [
    "colors = ['b','g']\n",
    "nxg = np.array([key for key, val in cluster.items() for _ in range(val)])\n",
    "gen =  np.array([key for key, val in cluster2.items() for _ in range(val)])\n",
    "#plots the histogram\n",
    "fig, ax1 = plt.subplots(figsize=(9,7))\n",
    "ax1.hist([nxg,gen],color=colors, bins=100, log=True, label = ['nx graph','transaction graph'])\n",
    "plt.title(\"n=1k, k = 350\")\n",
    "plt.xlabel(\"Supernode\", fontsize=16)  \n",
    "plt.ylabel(\"Cardinality\", fontsize=16)\n",
    "plt.legend(loc=\"upper right\")\n",
    "plt.xticks(fontsize=14)  \n",
    "plt.yticks(fontsize=14)\n",
    "plt.show()"
   ]
  },
  {
   "cell_type": "code",
   "execution_count": 62,
   "id": "79dc4ad4-0639-4bb4-bcba-72ca45293055",
   "metadata": {},
   "outputs": [
    {
     "name": "stdout",
     "output_type": "stream",
     "text": [
      "Median 1.0\n",
      "Mean 4.0\n",
      "Var 1548.648\n"
     ]
    }
   ],
   "source": [
    "print('Median', np.median(list(cluster.values())))\n",
    "print('Mean', np.mean(list(cluster.values())))\n",
    "print('Var', np.var(list(cluster.values())))"
   ]
  },
  {
   "cell_type": "code",
   "execution_count": 21,
   "id": "f813e2ab-b9fa-4482-91cc-45bf9b071749",
   "metadata": {},
   "outputs": [
    {
     "name": "stdout",
     "output_type": "stream",
     "text": [
      "Median 1.0\n",
      "Mean 2.857142857142857\n",
      "Var 896.1110204081634\n"
     ]
    }
   ],
   "source": [
    "print('Median', np.median(list(cluster2.values())))\n",
    "print('Mean', np.mean(list(cluster2.values())))\n",
    "print('Var', np.var(list(cluster2.values())))"
   ]
  },
  {
   "cell_type": "code",
   "execution_count": 3,
   "id": "b029ad12-e693-42cb-b2d0-b0e7b5e56b7b",
   "metadata": {},
   "outputs": [
    {
     "data": {
      "text/plain": [
       "0.8951345985268303"
      ]
     },
     "execution_count": 3,
     "metadata": {},
     "output_type": "execute_result"
    }
   ],
   "source": [
    "from random import random\n",
    "random()"
   ]
  },
  {
   "cell_type": "markdown",
   "id": "04bf5772-1097-4636-bddf-946079e55833",
   "metadata": {
    "jp-MarkdownHeadingCollapsed": true,
    "tags": []
   },
   "source": [
    "## Community Detection"
   ]
  },
  {
   "cell_type": "code",
   "execution_count": 25,
   "id": "8955cc33-97a1-4154-9a31-7d3b4b5df626",
   "metadata": {},
   "outputs": [],
   "source": [
    "#summary\n",
    "s = nx.from_numpy_matrix(np.matrix(S.A), create_using=nx.Graph)"
   ]
  },
  {
   "cell_type": "code",
   "execution_count": 26,
   "id": "6400a0bb-ca41-4eb0-b50f-17ca5a32938b",
   "metadata": {
    "tags": []
   },
   "outputs": [
    {
     "name": "stdout",
     "output_type": "stream",
     "text": [
      "Running time: 0.25\n"
     ]
    }
   ],
   "source": [
    "t0 = time.time()\n",
    "community = greedy_modularity_communities(s, weight='weight')\n",
    "t1 = time.time()\n",
    "print('Running time:', round(t1-t0,2)) "
   ]
  },
  {
   "cell_type": "code",
   "execution_count": 27,
   "id": "c16e043e-bfab-4582-8e0a-8f3fd4c86e25",
   "metadata": {
    "tags": []
   },
   "outputs": [],
   "source": [
    "# Assing to each node the community of the supernode it belongs to\n",
    "\n",
    "communityS = []\n",
    "for idx in range(len(community)):\n",
    "    comm_idx = []\n",
    "    for el in community[idx]:\n",
    "        for node in partition[el]:\n",
    "            comm_idx.append(node)\n",
    "    communityS.append(comm_idx)"
   ]
  },
  {
   "cell_type": "code",
   "execution_count": 28,
   "id": "7af29b42-c2bf-489a-b218-6cae8f1951b3",
   "metadata": {},
   "outputs": [
    {
     "name": "stdout",
     "output_type": "stream",
     "text": [
      "0.07\n"
     ]
    }
   ],
   "source": [
    "#modularity score\n",
    "print(round(nx_comm.modularity(G, communityS),2))"
   ]
  },
  {
   "cell_type": "markdown",
   "id": "c72a8c76-ec5e-4634-b439-27e313ff9483",
   "metadata": {},
   "source": [
    "# Connected Components"
   ]
  },
  {
   "cell_type": "markdown",
   "id": "79268ead-b831-4450-9e90-d914413ce91f",
   "metadata": {
    "jp-MarkdownHeadingCollapsed": true,
    "tags": []
   },
   "source": [
    "## Connected Components"
   ]
  },
  {
   "cell_type": "code",
   "execution_count": 17,
   "id": "f05fb1ed-df57-4500-9902-89c2c6986512",
   "metadata": {},
   "outputs": [],
   "source": [
    "s = nx.from_numpy_matrix(np.matrix(S.A), create_using=nx.DiGraph)"
   ]
  },
  {
   "cell_type": "code",
   "execution_count": 18,
   "id": "a440c2d0-01a8-4957-9510-2ee4373f7bfa",
   "metadata": {},
   "outputs": [
    {
     "data": {
      "text/plain": [
       "1"
      ]
     },
     "execution_count": 18,
     "metadata": {},
     "output_type": "execute_result"
    }
   ],
   "source": [
    "#Number\n",
    "len([c for c in nx.weakly_connected_components(s)])"
   ]
  },
  {
   "cell_type": "code",
   "execution_count": 11,
   "id": "9c5c8881-d801-47eb-9031-00bd30d73b32",
   "metadata": {},
   "outputs": [
    {
     "ename": "NetworkXNotImplemented",
     "evalue": "not implemented for directed type",
     "output_type": "error",
     "traceback": [
      "\u001b[0;31m---------------------------------------------------------------------------\u001b[0m",
      "\u001b[0;31mNetworkXNotImplemented\u001b[0m                    Traceback (most recent call last)",
      "\u001b[0;32m/tmp/ipykernel_18324/3235955236.py\u001b[0m in \u001b[0;36m<module>\u001b[0;34m\u001b[0m\n\u001b[1;32m      1\u001b[0m \u001b[0;31m# largest cc size\u001b[0m\u001b[0;34m\u001b[0m\u001b[0;34m\u001b[0m\u001b[0;34m\u001b[0m\u001b[0m\n\u001b[0;32m----> 2\u001b[0;31m \u001b[0mlargest_cc\u001b[0m \u001b[0;34m=\u001b[0m \u001b[0mmax\u001b[0m\u001b[0;34m(\u001b[0m\u001b[0mnx\u001b[0m\u001b[0;34m.\u001b[0m\u001b[0mconnected_components\u001b[0m\u001b[0;34m(\u001b[0m\u001b[0mG\u001b[0m\u001b[0;34m)\u001b[0m\u001b[0;34m,\u001b[0m \u001b[0mkey\u001b[0m\u001b[0;34m=\u001b[0m\u001b[0mlen\u001b[0m\u001b[0;34m)\u001b[0m\u001b[0;34m\u001b[0m\u001b[0;34m\u001b[0m\u001b[0m\n\u001b[0m\u001b[1;32m      3\u001b[0m \u001b[0mlen\u001b[0m\u001b[0;34m(\u001b[0m\u001b[0mlargest_cc\u001b[0m\u001b[0;34m)\u001b[0m\u001b[0;34m\u001b[0m\u001b[0;34m\u001b[0m\u001b[0m\n",
      "\u001b[0;32m/opt/conda/lib/python3.7/site-packages/networkx/utils/decorators.py\u001b[0m in \u001b[0;36margmap_connected_components_5\u001b[0;34m(G)\u001b[0m\n\u001b[1;32m      1\u001b[0m \u001b[0;32mfrom\u001b[0m \u001b[0mcollections\u001b[0m \u001b[0;32mimport\u001b[0m \u001b[0mdefaultdict\u001b[0m\u001b[0;34m\u001b[0m\u001b[0;34m\u001b[0m\u001b[0m\n\u001b[1;32m      2\u001b[0m \u001b[0;32mfrom\u001b[0m \u001b[0mos\u001b[0m\u001b[0;34m.\u001b[0m\u001b[0mpath\u001b[0m \u001b[0;32mimport\u001b[0m \u001b[0msplitext\u001b[0m\u001b[0;34m\u001b[0m\u001b[0;34m\u001b[0m\u001b[0m\n\u001b[0;32m----> 3\u001b[0;31m \u001b[0;32mfrom\u001b[0m \u001b[0mcontextlib\u001b[0m \u001b[0;32mimport\u001b[0m \u001b[0mcontextmanager\u001b[0m\u001b[0;34m\u001b[0m\u001b[0;34m\u001b[0m\u001b[0m\n\u001b[0m\u001b[1;32m      4\u001b[0m \u001b[0;32mfrom\u001b[0m \u001b[0mpathlib\u001b[0m \u001b[0;32mimport\u001b[0m \u001b[0mPath\u001b[0m\u001b[0;34m\u001b[0m\u001b[0;34m\u001b[0m\u001b[0m\n\u001b[1;32m      5\u001b[0m \u001b[0;32mimport\u001b[0m \u001b[0mwarnings\u001b[0m\u001b[0;34m\u001b[0m\u001b[0;34m\u001b[0m\u001b[0m\n",
      "\u001b[0;32m/opt/conda/lib/python3.7/site-packages/networkx/utils/decorators.py\u001b[0m in \u001b[0;36m_not_implemented_for\u001b[0;34m(g)\u001b[0m\n\u001b[1;32m     85\u001b[0m             \u001b[0mdval\u001b[0m \u001b[0;32mis\u001b[0m \u001b[0;32mNone\u001b[0m \u001b[0;32mor\u001b[0m \u001b[0mdval\u001b[0m \u001b[0;34m==\u001b[0m \u001b[0mg\u001b[0m\u001b[0;34m.\u001b[0m\u001b[0mis_directed\u001b[0m\u001b[0;34m(\u001b[0m\u001b[0;34m)\u001b[0m\u001b[0;34m\u001b[0m\u001b[0;34m\u001b[0m\u001b[0m\n\u001b[1;32m     86\u001b[0m         ):\n\u001b[0;32m---> 87\u001b[0;31m             \u001b[0;32mraise\u001b[0m \u001b[0mnx\u001b[0m\u001b[0;34m.\u001b[0m\u001b[0mNetworkXNotImplemented\u001b[0m\u001b[0;34m(\u001b[0m\u001b[0merrmsg\u001b[0m\u001b[0;34m)\u001b[0m\u001b[0;34m\u001b[0m\u001b[0;34m\u001b[0m\u001b[0m\n\u001b[0m\u001b[1;32m     88\u001b[0m \u001b[0;34m\u001b[0m\u001b[0m\n\u001b[1;32m     89\u001b[0m         \u001b[0;32mreturn\u001b[0m \u001b[0mg\u001b[0m\u001b[0;34m\u001b[0m\u001b[0;34m\u001b[0m\u001b[0m\n",
      "\u001b[0;31mNetworkXNotImplemented\u001b[0m: not implemented for directed type"
     ]
    }
   ],
   "source": [
    "# largest cc size\n",
    "largest_cc = max(nx.connected_components(G), key=len)\n",
    "len(largest_cc)"
   ]
  },
  {
   "cell_type": "code",
   "execution_count": 39,
   "id": "fd0b2206-7df4-49c4-bb06-b29a7a17fc29",
   "metadata": {
    "tags": []
   },
   "outputs": [
    {
     "name": "stdout",
     "output_type": "stream",
     "text": [
      "largest cc diameter 4\n"
     ]
    },
    {
     "ename": "KeyboardInterrupt",
     "evalue": "",
     "output_type": "error",
     "traceback": [
      "\u001b[0;31m---------------------------------------------------------------------------\u001b[0m",
      "\u001b[0;31mKeyboardInterrupt\u001b[0m                         Traceback (most recent call last)",
      "\u001b[0;32m/tmp/ipykernel_2704/3181895891.py\u001b[0m in \u001b[0;36m<module>\u001b[0;34m\u001b[0m\n\u001b[1;32m      2\u001b[0m \u001b[0msubs\u001b[0m \u001b[0;34m=\u001b[0m \u001b[0ms\u001b[0m\u001b[0;34m.\u001b[0m\u001b[0msubgraph\u001b[0m\u001b[0;34m(\u001b[0m\u001b[0mlargest_cc\u001b[0m\u001b[0;34m)\u001b[0m\u001b[0;34m\u001b[0m\u001b[0;34m\u001b[0m\u001b[0m\n\u001b[1;32m      3\u001b[0m \u001b[0mprint\u001b[0m\u001b[0;34m(\u001b[0m\u001b[0;34m'largest cc diameter'\u001b[0m\u001b[0;34m,\u001b[0m \u001b[0mnx\u001b[0m\u001b[0;34m.\u001b[0m\u001b[0mdiameter\u001b[0m\u001b[0;34m(\u001b[0m\u001b[0msubs\u001b[0m\u001b[0;34m)\u001b[0m\u001b[0;34m)\u001b[0m\u001b[0;34m\u001b[0m\u001b[0;34m\u001b[0m\u001b[0m\n\u001b[0;32m----> 4\u001b[0;31m \u001b[0mprint\u001b[0m\u001b[0;34m(\u001b[0m\u001b[0;34m'largest cc min cut size'\u001b[0m\u001b[0;34m,\u001b[0m \u001b[0mlen\u001b[0m\u001b[0;34m(\u001b[0m\u001b[0mnx\u001b[0m\u001b[0;34m.\u001b[0m\u001b[0mminimum_node_cut\u001b[0m\u001b[0;34m(\u001b[0m\u001b[0msubs\u001b[0m\u001b[0;34m)\u001b[0m\u001b[0;34m)\u001b[0m\u001b[0;34m)\u001b[0m\u001b[0;34m\u001b[0m\u001b[0;34m\u001b[0m\u001b[0m\n\u001b[0m",
      "\u001b[0;32m/opt/conda/lib/python3.7/site-packages/networkx/algorithms/connectivity/cuts.py\u001b[0m in \u001b[0;36mminimum_node_cut\u001b[0;34m(G, s, t, flow_func)\u001b[0m\n\u001b[1;32m    423\u001b[0m     \u001b[0;31m# Compute st node cuts between v and all its non-neighbors nodes in G.\u001b[0m\u001b[0;34m\u001b[0m\u001b[0;34m\u001b[0m\u001b[0;34m\u001b[0m\u001b[0m\n\u001b[1;32m    424\u001b[0m     \u001b[0;32mfor\u001b[0m \u001b[0mw\u001b[0m \u001b[0;32min\u001b[0m \u001b[0mset\u001b[0m\u001b[0;34m(\u001b[0m\u001b[0mG\u001b[0m\u001b[0;34m)\u001b[0m \u001b[0;34m-\u001b[0m \u001b[0mset\u001b[0m\u001b[0;34m(\u001b[0m\u001b[0mneighbors\u001b[0m\u001b[0;34m(\u001b[0m\u001b[0mv\u001b[0m\u001b[0;34m)\u001b[0m\u001b[0;34m)\u001b[0m \u001b[0;34m-\u001b[0m \u001b[0;34m{\u001b[0m\u001b[0mv\u001b[0m\u001b[0;34m}\u001b[0m\u001b[0;34m:\u001b[0m\u001b[0;34m\u001b[0m\u001b[0;34m\u001b[0m\u001b[0m\n\u001b[0;32m--> 425\u001b[0;31m         \u001b[0mthis_cut\u001b[0m \u001b[0;34m=\u001b[0m \u001b[0mminimum_st_node_cut\u001b[0m\u001b[0;34m(\u001b[0m\u001b[0mG\u001b[0m\u001b[0;34m,\u001b[0m \u001b[0mv\u001b[0m\u001b[0;34m,\u001b[0m \u001b[0mw\u001b[0m\u001b[0;34m,\u001b[0m \u001b[0;34m**\u001b[0m\u001b[0mkwargs\u001b[0m\u001b[0;34m)\u001b[0m\u001b[0;34m\u001b[0m\u001b[0;34m\u001b[0m\u001b[0m\n\u001b[0m\u001b[1;32m    426\u001b[0m         \u001b[0;32mif\u001b[0m \u001b[0mlen\u001b[0m\u001b[0;34m(\u001b[0m\u001b[0mmin_cut\u001b[0m\u001b[0;34m)\u001b[0m \u001b[0;34m>=\u001b[0m \u001b[0mlen\u001b[0m\u001b[0;34m(\u001b[0m\u001b[0mthis_cut\u001b[0m\u001b[0;34m)\u001b[0m\u001b[0;34m:\u001b[0m\u001b[0;34m\u001b[0m\u001b[0;34m\u001b[0m\u001b[0m\n\u001b[1;32m    427\u001b[0m             \u001b[0mmin_cut\u001b[0m \u001b[0;34m=\u001b[0m \u001b[0mthis_cut\u001b[0m\u001b[0;34m\u001b[0m\u001b[0;34m\u001b[0m\u001b[0m\n",
      "\u001b[0;32m/opt/conda/lib/python3.7/site-packages/networkx/algorithms/connectivity/cuts.py\u001b[0m in \u001b[0;36mminimum_st_node_cut\u001b[0;34m(G, s, t, flow_func, auxiliary, residual)\u001b[0m\n\u001b[1;32m    286\u001b[0m     \u001b[0;31m# The edge cut in the auxiliary digraph corresponds to the node cut in the\u001b[0m\u001b[0;34m\u001b[0m\u001b[0;34m\u001b[0m\u001b[0;34m\u001b[0m\u001b[0m\n\u001b[1;32m    287\u001b[0m     \u001b[0;31m# original graph.\u001b[0m\u001b[0;34m\u001b[0m\u001b[0;34m\u001b[0m\u001b[0;34m\u001b[0m\u001b[0m\n\u001b[0;32m--> 288\u001b[0;31m     \u001b[0medge_cut\u001b[0m \u001b[0;34m=\u001b[0m \u001b[0mminimum_st_edge_cut\u001b[0m\u001b[0;34m(\u001b[0m\u001b[0mH\u001b[0m\u001b[0;34m,\u001b[0m \u001b[0;34mf\"{mapping[s]}B\"\u001b[0m\u001b[0;34m,\u001b[0m \u001b[0;34mf\"{mapping[t]}A\"\u001b[0m\u001b[0;34m,\u001b[0m \u001b[0;34m**\u001b[0m\u001b[0mkwargs\u001b[0m\u001b[0;34m)\u001b[0m\u001b[0;34m\u001b[0m\u001b[0;34m\u001b[0m\u001b[0m\n\u001b[0m\u001b[1;32m    289\u001b[0m     \u001b[0;31m# Each node in the original graph maps to two nodes of the auxiliary graph\u001b[0m\u001b[0;34m\u001b[0m\u001b[0;34m\u001b[0m\u001b[0;34m\u001b[0m\u001b[0m\n\u001b[1;32m    290\u001b[0m     \u001b[0mnode_cut\u001b[0m \u001b[0;34m=\u001b[0m \u001b[0;34m{\u001b[0m\u001b[0mH\u001b[0m\u001b[0;34m.\u001b[0m\u001b[0mnodes\u001b[0m\u001b[0;34m[\u001b[0m\u001b[0mnode\u001b[0m\u001b[0;34m]\u001b[0m\u001b[0;34m[\u001b[0m\u001b[0;34m\"id\"\u001b[0m\u001b[0;34m]\u001b[0m \u001b[0;32mfor\u001b[0m \u001b[0medge\u001b[0m \u001b[0;32min\u001b[0m \u001b[0medge_cut\u001b[0m \u001b[0;32mfor\u001b[0m \u001b[0mnode\u001b[0m \u001b[0;32min\u001b[0m \u001b[0medge\u001b[0m\u001b[0;34m}\u001b[0m\u001b[0;34m\u001b[0m\u001b[0;34m\u001b[0m\u001b[0m\n",
      "\u001b[0;32m/opt/conda/lib/python3.7/site-packages/networkx/algorithms/connectivity/cuts.py\u001b[0m in \u001b[0;36mminimum_st_edge_cut\u001b[0;34m(G, s, t, flow_func, auxiliary, residual)\u001b[0m\n\u001b[1;32m    143\u001b[0m     \u001b[0mkwargs\u001b[0m \u001b[0;34m=\u001b[0m \u001b[0mdict\u001b[0m\u001b[0;34m(\u001b[0m\u001b[0mcapacity\u001b[0m\u001b[0;34m=\u001b[0m\u001b[0;34m\"capacity\"\u001b[0m\u001b[0;34m,\u001b[0m \u001b[0mflow_func\u001b[0m\u001b[0;34m=\u001b[0m\u001b[0mflow_func\u001b[0m\u001b[0;34m,\u001b[0m \u001b[0mresidual\u001b[0m\u001b[0;34m=\u001b[0m\u001b[0mresidual\u001b[0m\u001b[0;34m)\u001b[0m\u001b[0;34m\u001b[0m\u001b[0;34m\u001b[0m\u001b[0m\n\u001b[1;32m    144\u001b[0m \u001b[0;34m\u001b[0m\u001b[0m\n\u001b[0;32m--> 145\u001b[0;31m     \u001b[0mcut_value\u001b[0m\u001b[0;34m,\u001b[0m \u001b[0mpartition\u001b[0m \u001b[0;34m=\u001b[0m \u001b[0mnx\u001b[0m\u001b[0;34m.\u001b[0m\u001b[0mminimum_cut\u001b[0m\u001b[0;34m(\u001b[0m\u001b[0mH\u001b[0m\u001b[0;34m,\u001b[0m \u001b[0ms\u001b[0m\u001b[0;34m,\u001b[0m \u001b[0mt\u001b[0m\u001b[0;34m,\u001b[0m \u001b[0;34m**\u001b[0m\u001b[0mkwargs\u001b[0m\u001b[0;34m)\u001b[0m\u001b[0;34m\u001b[0m\u001b[0;34m\u001b[0m\u001b[0m\n\u001b[0m\u001b[1;32m    146\u001b[0m     \u001b[0mreachable\u001b[0m\u001b[0;34m,\u001b[0m \u001b[0mnon_reachable\u001b[0m \u001b[0;34m=\u001b[0m \u001b[0mpartition\u001b[0m\u001b[0;34m\u001b[0m\u001b[0;34m\u001b[0m\u001b[0m\n\u001b[1;32m    147\u001b[0m     \u001b[0;31m# Any edge in the original graph linking the two sets in the\u001b[0m\u001b[0;34m\u001b[0m\u001b[0;34m\u001b[0m\u001b[0;34m\u001b[0m\u001b[0m\n",
      "\u001b[0;32m/opt/conda/lib/python3.7/site-packages/networkx/algorithms/flow/maxflow.py\u001b[0m in \u001b[0;36mminimum_cut\u001b[0;34m(flowG, _s, _t, capacity, flow_func, **kwargs)\u001b[0m\n\u001b[1;32m    458\u001b[0m     \u001b[0mR\u001b[0m \u001b[0;34m=\u001b[0m \u001b[0mflow_func\u001b[0m\u001b[0;34m(\u001b[0m\u001b[0mflowG\u001b[0m\u001b[0;34m,\u001b[0m \u001b[0m_s\u001b[0m\u001b[0;34m,\u001b[0m \u001b[0m_t\u001b[0m\u001b[0;34m,\u001b[0m \u001b[0mcapacity\u001b[0m\u001b[0;34m=\u001b[0m\u001b[0mcapacity\u001b[0m\u001b[0;34m,\u001b[0m \u001b[0mvalue_only\u001b[0m\u001b[0;34m=\u001b[0m\u001b[0;32mTrue\u001b[0m\u001b[0;34m,\u001b[0m \u001b[0;34m**\u001b[0m\u001b[0mkwargs\u001b[0m\u001b[0;34m)\u001b[0m\u001b[0;34m\u001b[0m\u001b[0;34m\u001b[0m\u001b[0m\n\u001b[1;32m    459\u001b[0m     \u001b[0;31m# Remove saturated edges from the residual network\u001b[0m\u001b[0;34m\u001b[0m\u001b[0;34m\u001b[0m\u001b[0;34m\u001b[0m\u001b[0m\n\u001b[0;32m--> 460\u001b[0;31m     \u001b[0mcutset\u001b[0m \u001b[0;34m=\u001b[0m \u001b[0;34m[\u001b[0m\u001b[0;34m(\u001b[0m\u001b[0mu\u001b[0m\u001b[0;34m,\u001b[0m \u001b[0mv\u001b[0m\u001b[0;34m,\u001b[0m \u001b[0md\u001b[0m\u001b[0;34m)\u001b[0m \u001b[0;32mfor\u001b[0m \u001b[0mu\u001b[0m\u001b[0;34m,\u001b[0m \u001b[0mv\u001b[0m\u001b[0;34m,\u001b[0m \u001b[0md\u001b[0m \u001b[0;32min\u001b[0m \u001b[0mR\u001b[0m\u001b[0;34m.\u001b[0m\u001b[0medges\u001b[0m\u001b[0;34m(\u001b[0m\u001b[0mdata\u001b[0m\u001b[0;34m=\u001b[0m\u001b[0;32mTrue\u001b[0m\u001b[0;34m)\u001b[0m \u001b[0;32mif\u001b[0m \u001b[0md\u001b[0m\u001b[0;34m[\u001b[0m\u001b[0;34m\"flow\"\u001b[0m\u001b[0;34m]\u001b[0m \u001b[0;34m==\u001b[0m \u001b[0md\u001b[0m\u001b[0;34m[\u001b[0m\u001b[0;34m\"capacity\"\u001b[0m\u001b[0;34m]\u001b[0m\u001b[0;34m]\u001b[0m\u001b[0;34m\u001b[0m\u001b[0;34m\u001b[0m\u001b[0m\n\u001b[0m\u001b[1;32m    461\u001b[0m     \u001b[0mR\u001b[0m\u001b[0;34m.\u001b[0m\u001b[0mremove_edges_from\u001b[0m\u001b[0;34m(\u001b[0m\u001b[0mcutset\u001b[0m\u001b[0;34m)\u001b[0m\u001b[0;34m\u001b[0m\u001b[0;34m\u001b[0m\u001b[0m\n\u001b[1;32m    462\u001b[0m \u001b[0;34m\u001b[0m\u001b[0m\n",
      "\u001b[0;32m/opt/conda/lib/python3.7/site-packages/networkx/algorithms/flow/maxflow.py\u001b[0m in \u001b[0;36m<listcomp>\u001b[0;34m(.0)\u001b[0m\n\u001b[1;32m    458\u001b[0m     \u001b[0mR\u001b[0m \u001b[0;34m=\u001b[0m \u001b[0mflow_func\u001b[0m\u001b[0;34m(\u001b[0m\u001b[0mflowG\u001b[0m\u001b[0;34m,\u001b[0m \u001b[0m_s\u001b[0m\u001b[0;34m,\u001b[0m \u001b[0m_t\u001b[0m\u001b[0;34m,\u001b[0m \u001b[0mcapacity\u001b[0m\u001b[0;34m=\u001b[0m\u001b[0mcapacity\u001b[0m\u001b[0;34m,\u001b[0m \u001b[0mvalue_only\u001b[0m\u001b[0;34m=\u001b[0m\u001b[0;32mTrue\u001b[0m\u001b[0;34m,\u001b[0m \u001b[0;34m**\u001b[0m\u001b[0mkwargs\u001b[0m\u001b[0;34m)\u001b[0m\u001b[0;34m\u001b[0m\u001b[0;34m\u001b[0m\u001b[0m\n\u001b[1;32m    459\u001b[0m     \u001b[0;31m# Remove saturated edges from the residual network\u001b[0m\u001b[0;34m\u001b[0m\u001b[0;34m\u001b[0m\u001b[0;34m\u001b[0m\u001b[0m\n\u001b[0;32m--> 460\u001b[0;31m     \u001b[0mcutset\u001b[0m \u001b[0;34m=\u001b[0m \u001b[0;34m[\u001b[0m\u001b[0;34m(\u001b[0m\u001b[0mu\u001b[0m\u001b[0;34m,\u001b[0m \u001b[0mv\u001b[0m\u001b[0;34m,\u001b[0m \u001b[0md\u001b[0m\u001b[0;34m)\u001b[0m \u001b[0;32mfor\u001b[0m \u001b[0mu\u001b[0m\u001b[0;34m,\u001b[0m \u001b[0mv\u001b[0m\u001b[0;34m,\u001b[0m \u001b[0md\u001b[0m \u001b[0;32min\u001b[0m \u001b[0mR\u001b[0m\u001b[0;34m.\u001b[0m\u001b[0medges\u001b[0m\u001b[0;34m(\u001b[0m\u001b[0mdata\u001b[0m\u001b[0;34m=\u001b[0m\u001b[0;32mTrue\u001b[0m\u001b[0;34m)\u001b[0m \u001b[0;32mif\u001b[0m \u001b[0md\u001b[0m\u001b[0;34m[\u001b[0m\u001b[0;34m\"flow\"\u001b[0m\u001b[0;34m]\u001b[0m \u001b[0;34m==\u001b[0m \u001b[0md\u001b[0m\u001b[0;34m[\u001b[0m\u001b[0;34m\"capacity\"\u001b[0m\u001b[0;34m]\u001b[0m\u001b[0;34m]\u001b[0m\u001b[0;34m\u001b[0m\u001b[0;34m\u001b[0m\u001b[0m\n\u001b[0m\u001b[1;32m    461\u001b[0m     \u001b[0mR\u001b[0m\u001b[0;34m.\u001b[0m\u001b[0mremove_edges_from\u001b[0m\u001b[0;34m(\u001b[0m\u001b[0mcutset\u001b[0m\u001b[0;34m)\u001b[0m\u001b[0;34m\u001b[0m\u001b[0;34m\u001b[0m\u001b[0m\n\u001b[1;32m    462\u001b[0m \u001b[0;34m\u001b[0m\u001b[0m\n",
      "\u001b[0;32m/opt/conda/lib/python3.7/site-packages/networkx/classes/reportviews.py\u001b[0m in \u001b[0;36m<genexpr>\u001b[0;34m(.0)\u001b[0m\n\u001b[1;32m    727\u001b[0m             \u001b[0mself\u001b[0m\u001b[0;34m.\u001b[0m\u001b[0m_report\u001b[0m\u001b[0;34m(\u001b[0m\u001b[0mn\u001b[0m\u001b[0;34m,\u001b[0m \u001b[0mnbr\u001b[0m\u001b[0;34m,\u001b[0m \u001b[0mdd\u001b[0m\u001b[0;34m)\u001b[0m\u001b[0;34m\u001b[0m\u001b[0;34m\u001b[0m\u001b[0m\n\u001b[1;32m    728\u001b[0m             \u001b[0;32mfor\u001b[0m \u001b[0mn\u001b[0m\u001b[0;34m,\u001b[0m \u001b[0mnbrs\u001b[0m \u001b[0;32min\u001b[0m \u001b[0mself\u001b[0m\u001b[0;34m.\u001b[0m\u001b[0m_nodes_nbrs\u001b[0m\u001b[0;34m(\u001b[0m\u001b[0;34m)\u001b[0m\u001b[0;34m\u001b[0m\u001b[0;34m\u001b[0m\u001b[0m\n\u001b[0;32m--> 729\u001b[0;31m             \u001b[0;32mfor\u001b[0m \u001b[0mnbr\u001b[0m\u001b[0;34m,\u001b[0m \u001b[0mdd\u001b[0m \u001b[0;32min\u001b[0m \u001b[0mnbrs\u001b[0m\u001b[0;34m.\u001b[0m\u001b[0mitems\u001b[0m\u001b[0;34m(\u001b[0m\u001b[0;34m)\u001b[0m\u001b[0;34m\u001b[0m\u001b[0;34m\u001b[0m\u001b[0m\n\u001b[0m\u001b[1;32m    730\u001b[0m         )\n\u001b[1;32m    731\u001b[0m \u001b[0;34m\u001b[0m\u001b[0m\n",
      "\u001b[0;32m/opt/conda/lib/python3.7/site-packages/networkx/classes/reportviews.py\u001b[0m in \u001b[0;36m<lambda>\u001b[0;34m(n, nbr, dd)\u001b[0m\n\u001b[1;32m    710\u001b[0m         \u001b[0;31m# Set _report based on data and default\u001b[0m\u001b[0;34m\u001b[0m\u001b[0;34m\u001b[0m\u001b[0;34m\u001b[0m\u001b[0m\n\u001b[1;32m    711\u001b[0m         \u001b[0;32mif\u001b[0m \u001b[0mdata\u001b[0m \u001b[0;32mis\u001b[0m \u001b[0;32mTrue\u001b[0m\u001b[0;34m:\u001b[0m\u001b[0;34m\u001b[0m\u001b[0;34m\u001b[0m\u001b[0m\n\u001b[0;32m--> 712\u001b[0;31m             \u001b[0mself\u001b[0m\u001b[0;34m.\u001b[0m\u001b[0m_report\u001b[0m \u001b[0;34m=\u001b[0m \u001b[0;32mlambda\u001b[0m \u001b[0mn\u001b[0m\u001b[0;34m,\u001b[0m \u001b[0mnbr\u001b[0m\u001b[0;34m,\u001b[0m \u001b[0mdd\u001b[0m\u001b[0;34m:\u001b[0m \u001b[0;34m(\u001b[0m\u001b[0mn\u001b[0m\u001b[0;34m,\u001b[0m \u001b[0mnbr\u001b[0m\u001b[0;34m,\u001b[0m \u001b[0mdd\u001b[0m\u001b[0;34m)\u001b[0m\u001b[0;34m\u001b[0m\u001b[0;34m\u001b[0m\u001b[0m\n\u001b[0m\u001b[1;32m    713\u001b[0m         \u001b[0;32melif\u001b[0m \u001b[0mdata\u001b[0m \u001b[0;32mis\u001b[0m \u001b[0;32mFalse\u001b[0m\u001b[0;34m:\u001b[0m\u001b[0;34m\u001b[0m\u001b[0;34m\u001b[0m\u001b[0m\n\u001b[1;32m    714\u001b[0m             \u001b[0mself\u001b[0m\u001b[0;34m.\u001b[0m\u001b[0m_report\u001b[0m \u001b[0;34m=\u001b[0m \u001b[0;32mlambda\u001b[0m \u001b[0mn\u001b[0m\u001b[0;34m,\u001b[0m \u001b[0mnbr\u001b[0m\u001b[0;34m,\u001b[0m \u001b[0mdd\u001b[0m\u001b[0;34m:\u001b[0m \u001b[0;34m(\u001b[0m\u001b[0mn\u001b[0m\u001b[0;34m,\u001b[0m \u001b[0mnbr\u001b[0m\u001b[0;34m)\u001b[0m\u001b[0;34m\u001b[0m\u001b[0;34m\u001b[0m\u001b[0m\n",
      "\u001b[0;31mKeyboardInterrupt\u001b[0m: "
     ]
    }
   ],
   "source": [
    "# largest cc diamter and min cut size\n",
    "subs = s.subgraph(largest_cc)\n",
    "print('largest cc diameter', nx.diameter(subs))\n",
    "print('largest cc min cut size', len(nx.minimum_node_cut(subs)))"
   ]
  },
  {
   "cell_type": "markdown",
   "id": "fbb2d9c3-5116-46f0-a712-b3a96db6e1ca",
   "metadata": {
    "tags": []
   },
   "source": [
    "# Possible Worlds\n"
   ]
  },
  {
   "cell_type": "code",
   "execution_count": 16,
   "id": "3e5437e0-44dd-460b-8046-244c7fc0e25a",
   "metadata": {},
   "outputs": [],
   "source": [
    "# for weighted graphs\n",
    "def world(graph_type, matrix, prob_matrix):\n",
    "    s = nx.from_numpy_matrix(np.matrix(matrix.A), create_using=graph_type)\n",
    "    s_prob = nx.from_numpy_matrix(np.matrix(prob_matrix.A), create_using=graph_type)\n",
    "    world = s.copy()\n",
    "    for edge in s_prob.edges(data=True):\n",
    "        sample = random.uniform(0,1)\n",
    "        if edge[-1]['weight'] < sample:\n",
    "            world.remove_edge(edge[0], edge[1])\n",
    "    return world"
   ]
  },
  {
   "cell_type": "code",
   "execution_count": 17,
   "id": "87e1a874-9085-4951-a535-7229cddc06a9",
   "metadata": {},
   "outputs": [],
   "source": [
    "possible_worlds = []\n",
    "for i in range(100):\n",
    "    possible_worlds.append(world(nx.DiGraph, S, S_probs))"
   ]
  },
  {
   "cell_type": "markdown",
   "id": "e1593136-66c9-4e0f-9600-440c4bfa457e",
   "metadata": {
    "tags": []
   },
   "source": [
    "## Single Value Queries"
   ]
  },
  {
   "cell_type": "code",
   "execution_count": 16,
   "id": "e3a60083-c4df-4352-a0e2-4e751d8afeee",
   "metadata": {},
   "outputs": [
    {
     "name": "stdout",
     "output_type": "stream",
     "text": [
      "mean number of edges 780\n"
     ]
    }
   ],
   "source": [
    "# mean value of edges in the possible worlds set\n",
    "mean = 0\n",
    "\n",
    "for graph in possible_worlds:\n",
    "    mean += len(graph.edges())\n",
    "    \n",
    "print('mean number of edges', round(mean/100)) "
   ]
  },
  {
   "cell_type": "code",
   "execution_count": 56,
   "id": "3b0a0450-d0f3-46d5-b7b2-55a5145ae713",
   "metadata": {},
   "outputs": [
    {
     "name": "stderr",
     "output_type": "stream",
     "text": [
      "100%|██████████| 100/100 [00:00<00:00, 634.98it/s]"
     ]
    },
    {
     "name": "stdout",
     "output_type": "stream",
     "text": [
      "Running Time: 0.16\n",
      "diameter largest cc: 0\n",
      "diameter: 0\n"
     ]
    },
    {
     "name": "stderr",
     "output_type": "stream",
     "text": [
      "\n"
     ]
    }
   ],
   "source": [
    "# diameter for directed graphs\n",
    "\n",
    "diameter_largest_cc = 0\n",
    "diameter = 0\n",
    "t1 = time.time()\n",
    "for graph in tqdm(possible_worlds):\n",
    "    #largest_cc = max(nx.strongly_connected_components(graph), key=len)\n",
    "    #sub_graph = graph.subgraph(largest_cc)\n",
    "    #diameter_largest_cc += nx.diameter(sub_graph)\n",
    "    if nx.is_strongly_connected(graph) == True:\n",
    "        diameter += nx.diameter(graph)\n",
    "t2 = time.time()\n",
    "\n",
    "print('Running Time:', round(t2-t1,2))\n",
    "print('diameter largest cc:', round(diameter_largest_cc/100))\n",
    "print('diameter:', round(diameter/100))"
   ]
  },
  {
   "cell_type": "code",
   "execution_count": 57,
   "id": "a3f46895-614a-4713-912c-d1dcd9f360f9",
   "metadata": {},
   "outputs": [
    {
     "name": "stderr",
     "output_type": "stream",
     "text": [
      "100%|██████████| 100/100 [00:00<00:00, 200.18it/s]"
     ]
    },
    {
     "name": "stdout",
     "output_type": "stream",
     "text": [
      "Running Time: 0.5\n",
      "average clustering coefficient: 0.009\n"
     ]
    },
    {
     "name": "stderr",
     "output_type": "stream",
     "text": [
      "\n"
     ]
    }
   ],
   "source": [
    "# average cluster coefficient\n",
    "t1 = time.time()\n",
    "avg_clustering = 0\n",
    "for graph in tqdm(possible_worlds):\n",
    "    avg_clustering += nx.average_clustering(graph)\n",
    "\n",
    "t2 = time.time()\n",
    "\n",
    "print('Running Time:', round(t2-t1,2))\n",
    "print('average clustering coefficient:', round(avg_clustering/100, 3))"
   ]
  },
  {
   "cell_type": "code",
   "execution_count": 22,
   "id": "5fe3d6a9-6baf-40f8-a914-09b100beec92",
   "metadata": {},
   "outputs": [
    {
     "name": "stderr",
     "output_type": "stream",
     "text": [
      "100%|██████████| 100/100 [03:34<00:00,  2.15s/it]"
     ]
    },
    {
     "name": "stdout",
     "output_type": "stream",
     "text": [
      "Number of cc: 1\n",
      "Size largest cc: 219\n",
      "Min cut size largest cc: 1\n",
      "Diameter largest cc: 11\n"
     ]
    },
    {
     "name": "stderr",
     "output_type": "stream",
     "text": [
      "\n"
     ]
    }
   ],
   "source": [
    "# connected component\n",
    "\n",
    "diameter = 0\n",
    "min_cut = 0\n",
    "number_cc = 0\n",
    "size = 0\n",
    "for graph in tqdm(possible_worlds):\n",
    "    largest_cc = max(nx.strongly_connected_components(graph), key=len)\n",
    "    size += len(largest_cc)\n",
    "    number_cc += len([c for c in nx.weakly_connected_components(graph)])\n",
    "    sub_graph = graph.subgraph(largest_cc)\n",
    "    min_cut += len(nx.minimum_node_cut(sub_graph))\n",
    "    diameter += nx.diameter(sub_graph)\n",
    "\n",
    "print('Number of cc:', round(number_cc/100))   \n",
    "print('Size largest cc:', round(size/100))\n",
    "print('Min cut size largest cc:', round(min_cut/100))\n",
    "print('Diameter largest cc:', round(diameter/100))"
   ]
  },
  {
   "cell_type": "code",
   "execution_count": 26,
   "id": "7dbf191c-13e6-4b07-8e78-183d3a57bb11",
   "metadata": {},
   "outputs": [
    {
     "data": {
      "text/plain": [
       "1.06"
      ]
     },
     "execution_count": 26,
     "metadata": {},
     "output_type": "execute_result"
    }
   ],
   "source": [
    "number_cc/100"
   ]
  },
  {
   "cell_type": "markdown",
   "id": "f143c2cf-739e-42ab-b246-ae2fc7f04665",
   "metadata": {},
   "source": [
    "### Shortest Path"
   ]
  },
  {
   "cell_type": "code",
   "execution_count": 51,
   "id": "a91d3470-f938-428c-b376-ea1df6425056",
   "metadata": {},
   "outputs": [],
   "source": [
    "# sample one couples of nodes \n",
    "#largest_cc = sorted(nx.weakly_connected_components(G), reverse=1)[0]\n",
    "sample1 = random.sample(G.nodes(),1)[0]\n",
    "sample2 = random.sample(G.nodes(), 1)[0]\n",
    "sample = [sample1, sample2]"
   ]
  },
  {
   "cell_type": "code",
   "execution_count": 52,
   "id": "e7049bc7-444d-42a5-9c52-a66bf650d921",
   "metadata": {},
   "outputs": [
    {
     "data": {
      "text/plain": [
       "[541, 342]"
      ]
     },
     "execution_count": 52,
     "metadata": {},
     "output_type": "execute_result"
    }
   ],
   "source": [
    "sample"
   ]
  },
  {
   "cell_type": "code",
   "execution_count": 53,
   "id": "5cfbc373-a222-4545-948e-29e3f3ab1f15",
   "metadata": {},
   "outputs": [],
   "source": [
    "def shortest_distance(G,start,w):\n",
    "    \n",
    "    shortestDistance = float(\"inf\")\n",
    "    for n in G.neighbors(source): \n",
    "        currentDistance = nx.shortest_path_length(s, source=n, target=start, weight= w, method='dijkstra')\n",
    "        if currentDistance < shortestDistance:\n",
    "            target = n\n",
    "        shortestDistance = min(currentDistance, shortestDistance)\n",
    "        \n",
    "    return shortestDistance+1 if w==None else shortestDistance+S[start,n]"
   ]
  },
  {
   "cell_type": "code",
   "execution_count": 54,
   "id": "86848b9e-90ff-45f0-9f1b-2f3b40350a3f",
   "metadata": {},
   "outputs": [],
   "source": [
    "def shortest_distance(G,start,w):\n",
    "    \n",
    "    shortestDistance = float(\"inf\")\n",
    "    for n in G.neighbors(start): \n",
    "        currentDistance = nx.shortest_path_length(G, source=n, target=start, weight= w, method='dijkstra')\n",
    "        if currentDistance < shortestDistance:\n",
    "            target = n\n",
    "        shortestDistance = min(currentDistance, shortestDistance)\n",
    "        \n",
    "    return shortestDistance+1 if w==None else shortestDistance+S[start,n]"
   ]
  },
  {
   "cell_type": "code",
   "execution_count": 55,
   "id": "1b871ec0-7483-4d62-84d0-19211fed5dcf",
   "metadata": {},
   "outputs": [],
   "source": [
    "def shortest_path(s, couple,w):  \n",
    "    \n",
    "    #shortest path for the summary\n",
    "    s_i = supernode[couple[0]]\n",
    "    s_j = supernode[couple[1]]\n",
    "    if s_i == s_j:\n",
    "        if S[s_i, s_j] != 0:\n",
    "            spS = 1\n",
    "        else:\n",
    "            spS = shortest_distance(s, s_i, w)\n",
    "\n",
    "    else:\n",
    "         spS = nx.shortest_path_length(s, source=s_i, target=s_j, method='dijkstra', weight=w)\n",
    "       \n",
    "    return spS"
   ]
  },
  {
   "cell_type": "code",
   "execution_count": 56,
   "id": "5d1ed61e-18ee-4424-957f-c055c35a6336",
   "metadata": {
    "tags": []
   },
   "outputs": [
    {
     "name": "stderr",
     "output_type": "stream",
     "text": [
      "100%|██████████| 100/100 [00:00<00:00, 55392.29it/s]\n"
     ]
    }
   ],
   "source": [
    "#shortest path for the input\n",
    "spG = nx.shortest_path_length(G, source=sample[0], target=sample[1], method='dijkstra', weight=None)\n",
    "\n",
    "spS = []\n",
    "for graph in tqdm(possible_worlds):\n",
    "    spS.append(shortest_path(graph,sample,None))\n",
    "    "
   ]
  },
  {
   "cell_type": "code",
   "execution_count": 57,
   "id": "baaf6357-7adb-46fa-afc2-c777d458ff3f",
   "metadata": {},
   "outputs": [],
   "source": [
    "sp_dict = {}\n",
    "for k,v in Counter(spS).items():\n",
    "    sp_dict[k] = v/100"
   ]
  },
  {
   "cell_type": "code",
   "execution_count": 58,
   "id": "2f29f04c-f709-4653-b19d-00e21ef32a3e",
   "metadata": {},
   "outputs": [
    {
     "data": {
      "text/plain": [
       "{1: 1.0}"
      ]
     },
     "execution_count": 58,
     "metadata": {},
     "output_type": "execute_result"
    }
   ],
   "source": [
    "sp_dict"
   ]
  },
  {
   "cell_type": "code",
   "execution_count": 59,
   "id": "b45332c6-6c70-4584-b5d4-023873a0f3f7",
   "metadata": {},
   "outputs": [
    {
     "data": {
      "text/plain": [
       "4"
      ]
     },
     "execution_count": 59,
     "metadata": {},
     "output_type": "execute_result"
    }
   ],
   "source": [
    "spG"
   ]
  },
  {
   "cell_type": "code",
   "execution_count": 60,
   "id": "93195ade-8fef-4a24-a4f3-c7683bf60e15",
   "metadata": {},
   "outputs": [
    {
     "name": "stdout",
     "output_type": "stream",
     "text": [
      "Average Error: 3\n",
      "Percentage Err: 0.75\n"
     ]
    }
   ],
   "source": [
    "spS = 1\n",
    "print('Average Error:',abs(spG-spS))\n",
    "print('Percentage Err:',abs(spG-spS)/spG)"
   ]
  },
  {
   "cell_type": "markdown",
   "id": "50654f72-7591-4301-8a15-c812b828d0c9",
   "metadata": {},
   "source": [
    "## Set Queries"
   ]
  },
  {
   "cell_type": "code",
   "execution_count": 12,
   "id": "3c170fb8-a354-44c9-a6cd-7ff75fe9a7d1",
   "metadata": {
    "tags": []
   },
   "outputs": [],
   "source": [
    "def precision(k, l1, l2):\n",
    "    l3 = [value for value in l1 if value in l2]\n",
    "    intersect = len(l3)\n",
    "    return round(intersect/k,2)"
   ]
  },
  {
   "cell_type": "code",
   "execution_count": 13,
   "id": "0436d5fa-d7c4-496c-8892-8576797821bf",
   "metadata": {
    "tags": []
   },
   "outputs": [],
   "source": [
    "def centrality_query(centrality_type, possible_world, k, partition):\n",
    "    sets = []\n",
    "    for graph in tqdm(possible_worlds):\n",
    "        centrality = centrality_type(graph)\n",
    "        \n",
    "        if centrality_type == nx.pagerank:\n",
    "            for i in range(k): #normalization for pagerank\n",
    "                     centrality[i] = centrality[i]/len(partition[i])\n",
    "       \n",
    "        if centrality_type == nx.degree_centrality:\n",
    "            for i in range(k):       #normalization for the degree centrality\n",
    "                if graph.has_edge(i,i) == True:\n",
    "                    centrality[i] = centrality[i] + (len(partition[i]) - 1)\n",
    "\n",
    "        #top = sorted(centrality, key=centrality.get, reverse=True)[:100]\n",
    "        \n",
    "        projection = {}\n",
    "        for k,v in centrality.items():\n",
    "            for el in partition[k]:\n",
    "                projection[el] = v\n",
    "\n",
    "        th = sorted(list(projection.values()), reverse=True)[99]\n",
    "        k2 = len(graph.nodes())\n",
    "        for idx,el in enumerate(sorted(list(projection.values()), reverse=True)):\n",
    "            if el<th:\n",
    "                k2 = idx\n",
    "                break\n",
    "        answer = sorted(projection, key=projection.get, reverse=True)[:k2]\n",
    "        sets.append(answer)\n",
    "    return sets"
   ]
  },
  {
   "cell_type": "code",
   "execution_count": 17,
   "id": "4fa77892-156e-40af-8266-49e0ff009385",
   "metadata": {
    "tags": []
   },
   "outputs": [
    {
     "name": "stderr",
     "output_type": "stream",
     "text": [
      "100%|██████████| 100/100 [00:07<00:00, 13.06it/s]"
     ]
    },
    {
     "name": "stdout",
     "output_type": "stream",
     "text": [
      "Running Time: 7.66\n"
     ]
    },
    {
     "name": "stderr",
     "output_type": "stream",
     "text": [
      "\n"
     ]
    }
   ],
   "source": [
    "centrality_type = nx.closeness_centrality\n",
    "t1 = time.time()\n",
    "answers = centrality_query(centrality_type, possible_worlds, k, partition)\n",
    "t2 = time.time()\n",
    "\n",
    "print('Running Time:', round(t2-t1,2))"
   ]
  },
  {
   "cell_type": "code",
   "execution_count": 44,
   "id": "642f97be-ce65-4fa9-afd2-9ab17e534097",
   "metadata": {
    "tags": []
   },
   "outputs": [
    {
     "name": "stdout",
     "output_type": "stream",
     "text": [
      "Precision: 0.5\n",
      "Recall: 0.01\n",
      "f1 measure 0.0196078431372549\n"
     ]
    }
   ],
   "source": [
    "#centrality query using intersection\n",
    "\n",
    "k1 = 100\n",
    "final_answer = set.intersection(*map(set,answers))\n",
    "centralityG = centrality_type(G)\n",
    "topG = sorted(centralityG, key=centralityG.get, reverse=True)[:k1]\n",
    "\n",
    "\n",
    "\n",
    "# measures\n",
    "r = precision(k1,topG, final_answer)\n",
    "p = precision(len(final_answer), topG, final_answer)\n",
    "print('Precision:', p)\n",
    "print('Recall:', r)\n",
    "print('f1 measure', 2*p*r/(p+r))"
   ]
  },
  {
   "cell_type": "code",
   "execution_count": 43,
   "id": "eceeb4aa-cbd5-4e51-8856-da520bf514e0",
   "metadata": {
    "tags": []
   },
   "outputs": [
    {
     "name": "stdout",
     "output_type": "stream",
     "text": [
      "Precision: 0.17\n",
      "Recall: 0.18\n",
      "f1 measure 0.17485714285714288\n"
     ]
    }
   ],
   "source": [
    "#centrality query using frequency score\n",
    "\n",
    "#k1 = 100\n",
    "#centralityG = centrality_type(G)\n",
    "#topG = sorted(centralityG, key=centralityG.get, reverse=True)[:k1]\n",
    "\n",
    "flat_answers = [item for sublist in answers for item in sublist]\n",
    "occurrences = Counter(flat_answers)\n",
    "th = sorted(occurrences.values(), reverse=True)[k1]\n",
    "final_answer = [k for k,v in occurrences.items() if v>=th]\n",
    "\n",
    "# measures\n",
    "r = precision(k1, topG, final_answer)\n",
    "p = precision(len(final_answer), topG, final_answer)\n",
    "print('Precision:', p)\n",
    "print('Recall:', r)\n",
    "print('f1 measure', 2*p*r/(p+r))"
   ]
  },
  {
   "cell_type": "code",
   "execution_count": null,
   "id": "fc8bdf8a-e218-4fc7-949f-73a83de20c26",
   "metadata": {},
   "outputs": [],
   "source": []
  },
  {
   "cell_type": "code",
   "execution_count": 18,
   "id": "41670042-59ba-4bc1-908b-2dddea3527d1",
   "metadata": {},
   "outputs": [],
   "source": [
    "#inner most core\n",
    "def inner_most_core(possible_world, k, partition):\n",
    "\n",
    "    sets = []\n",
    "    for graph in tqdm(possible_world):\n",
    "        graph.remove_edges_from(nx.selfloop_edges(graph))\n",
    "        coreS = nx.core_number(graph)\n",
    "        \n",
    "        coreS_dict = {}\n",
    "        for k, v in coreS.items():\n",
    "            for node in partition[k]:\n",
    "                coreS_dict[node] = v \n",
    "    \n",
    "        topSinG = [k for k in coreS_dict.keys() if coreS_dict[k]==max(coreS_dict.values())]\n",
    "\n",
    "        sets.append(topSinG)\n",
    "    return sets"
   ]
  },
  {
   "cell_type": "code",
   "execution_count": 19,
   "id": "bf98c4da-1e2d-4913-b805-c2df4596fb5e",
   "metadata": {},
   "outputs": [
    {
     "name": "stderr",
     "output_type": "stream",
     "text": [
      "100%|██████████| 100/100 [00:02<00:00, 44.99it/s]"
     ]
    },
    {
     "name": "stdout",
     "output_type": "stream",
     "text": [
      "Running Time: 2.23\n"
     ]
    },
    {
     "name": "stderr",
     "output_type": "stream",
     "text": [
      "\n"
     ]
    }
   ],
   "source": [
    "t1 = time.time()\n",
    "answers = inner_most_core(possible_worlds, k, partition)\n",
    "t2 = time.time()\n",
    "\n",
    "print('Running Time:', round(t2-t1,2))"
   ]
  },
  {
   "cell_type": "code",
   "execution_count": 75,
   "id": "1aceebd4-1890-47ce-aa13-9e51f41cf445",
   "metadata": {},
   "outputs": [
    {
     "name": "stdout",
     "output_type": "stream",
     "text": [
      "Precision: 0.99\n",
      "Recall: 0.19\n",
      "f1 measure 0.3188135593220339\n"
     ]
    }
   ],
   "source": [
    "#inner most core queries using intersection\n",
    "\n",
    "\n",
    "final_answer = set.intersection(*map(set,answers))\n",
    "coreG = nx.core_number(G)\n",
    "topG = [k for k in coreG.keys() if coreG[k]==max(coreG.values())]\n",
    "\n",
    "# measures\n",
    "r = precision(len(topG),topG,final_answer)\n",
    "p = precision(len(final_answer),topG, final_answer)\n",
    "print('Precision:', p)\n",
    "print('Recall:', r)\n",
    "print('f1 measure', 2*p*r/(p+r))"
   ]
  },
  {
   "cell_type": "code",
   "execution_count": 77,
   "id": "44970dfa-8026-4236-b134-b2b61f1fe845",
   "metadata": {
    "tags": []
   },
   "outputs": [
    {
     "name": "stdout",
     "output_type": "stream",
     "text": [
      "Precision: 0.91\n",
      "Recall: 0.11\n",
      "f1 measure 0.2\n"
     ]
    }
   ],
   "source": [
    "#inner most core queries using frequency score\n",
    "\n",
    "flat_answers = [item for sublist in answers for item in sublist]\n",
    "occurences = Counter(flat_answers)\n",
    "th = sorted(occurrences.values(), reverse=True)[k1]\n",
    "final_answer = [k for k,v in occurrences.items() if v>=th]\n",
    "\n",
    "\n",
    "\n",
    "# measures\n",
    "r = precision(len(topG),topG,final_answer)\n",
    "p = precision(len(final_answer),topG, final_answer)\n",
    "print('Precision:', p)\n",
    "print('Recall:', r)\n",
    "print('f1 measure', round(2*p*r/(p+r),2))"
   ]
  }
 ],
 "metadata": {
  "environment": {
   "kernel": "python3",
   "name": "common-cpu.m91",
   "type": "gcloud",
   "uri": "gcr.io/deeplearning-platform-release/base-cpu:m91"
  },
  "kernelspec": {
   "display_name": "Python 3",
   "language": "python",
   "name": "python3"
  },
  "language_info": {
   "codemirror_mode": {
    "name": "ipython",
    "version": 3
   },
   "file_extension": ".py",
   "mimetype": "text/x-python",
   "name": "python",
   "nbconvert_exporter": "python",
   "pygments_lexer": "ipython3",
   "version": "3.7.12"
  }
 },
 "nbformat": 4,
 "nbformat_minor": 5
}
